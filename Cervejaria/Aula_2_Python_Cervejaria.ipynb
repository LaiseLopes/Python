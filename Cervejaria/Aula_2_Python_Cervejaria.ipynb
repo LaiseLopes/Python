{
  "nbformat": 4,
  "nbformat_minor": 0,
  "metadata": {
    "colab": {
      "name": "Aula_2_Python_Cervejaria",
      "provenance": [],
      "collapsed_sections": [],
      "authorship_tag": "ABX9TyPrZLDkjRJu6rjXKwRCcbC6",
      "include_colab_link": true
    },
    "kernelspec": {
      "name": "python3",
      "display_name": "Python 3"
    }
  },
  "cells": [
    {
      "cell_type": "markdown",
      "metadata": {
        "id": "view-in-github",
        "colab_type": "text"
      },
      "source": [
        "<a href=\"https://colab.research.google.com/github/LaiseLopes/Python/blob/master/Aula_2_Python_Cervejaria.ipynb\" target=\"_parent\"><img src=\"https://colab.research.google.com/assets/colab-badge.svg\" alt=\"Open In Colab\"/></a>"
      ]
    },
    {
      "cell_type": "code",
      "metadata": {
        "id": "YwfeEd-eTXTB",
        "colab_type": "code",
        "colab": {
          "base_uri": "https://localhost:8080/",
          "height": 71
        },
        "outputId": "801e245f-bac0-488a-8a00-723e7eb200d7"
      },
      "source": [
        "import pandas as pd\n",
        "import matplotlib.pyplot as plt\n",
        "import statsmodels.api as sm "
      ],
      "execution_count": 1,
      "outputs": [
        {
          "output_type": "stream",
          "text": [
            "/usr/local/lib/python3.6/dist-packages/statsmodels/tools/_testing.py:19: FutureWarning: pandas.util.testing is deprecated. Use the functions in the public API at pandas.testing instead.\n",
            "  import pandas.util.testing as tm\n"
          ],
          "name": "stderr"
        }
      ]
    },
    {
      "cell_type": "markdown",
      "metadata": {
        "id": "3T2Y7FZBT3ec",
        "colab_type": "text"
      },
      "source": [
        "Importar dados da tabela Cervejaria1.xlsx"
      ]
    },
    {
      "cell_type": "code",
      "metadata": {
        "id": "cq6DJ1XDTOJC",
        "colab_type": "code",
        "colab": {}
      },
      "source": [
        "cvj = pd.read_excel (\"/content/cervejaria1.xlsx\")"
      ],
      "execution_count": 5,
      "outputs": []
    },
    {
      "cell_type": "markdown",
      "metadata": {
        "id": "kxUgkJkJT73o",
        "colab_type": "text"
      },
      "source": [
        "Visualizar dados"
      ]
    },
    {
      "cell_type": "code",
      "metadata": {
        "id": "4RARdda2Tm6K",
        "colab_type": "code",
        "colab": {
          "base_uri": "https://localhost:8080/",
          "height": 204
        },
        "outputId": "1c4289c1-d2d3-4bd8-e79c-c6d5374f1192"
      },
      "source": [
        "cvj.head()"
      ],
      "execution_count": 6,
      "outputs": [
        {
          "output_type": "execute_result",
          "data": {
            "text/html": [
              "<div>\n",
              "<style scoped>\n",
              "    .dataframe tbody tr th:only-of-type {\n",
              "        vertical-align: middle;\n",
              "    }\n",
              "\n",
              "    .dataframe tbody tr th {\n",
              "        vertical-align: top;\n",
              "    }\n",
              "\n",
              "    .dataframe thead th {\n",
              "        text-align: right;\n",
              "    }\n",
              "</style>\n",
              "<table border=\"1\" class=\"dataframe\">\n",
              "  <thead>\n",
              "    <tr style=\"text-align: right;\">\n",
              "      <th></th>\n",
              "      <th>visitas</th>\n",
              "      <th>excursoes</th>\n",
              "      <th>preco</th>\n",
              "      <th>ano</th>\n",
              "      <th>trimestre</th>\n",
              "      <th>data</th>\n",
              "    </tr>\n",
              "  </thead>\n",
              "  <tbody>\n",
              "    <tr>\n",
              "      <th>0</th>\n",
              "      <td>86947.0</td>\n",
              "      <td>115.0</td>\n",
              "      <td>4.6</td>\n",
              "      <td>2014</td>\n",
              "      <td>1</td>\n",
              "      <td>Q1 2014</td>\n",
              "    </tr>\n",
              "    <tr>\n",
              "      <th>1</th>\n",
              "      <td>134868.0</td>\n",
              "      <td>135.0</td>\n",
              "      <td>5.1</td>\n",
              "      <td>2014</td>\n",
              "      <td>2</td>\n",
              "      <td>Q2 2014</td>\n",
              "    </tr>\n",
              "    <tr>\n",
              "      <th>2</th>\n",
              "      <td>143617.0</td>\n",
              "      <td>155.0</td>\n",
              "      <td>5.3</td>\n",
              "      <td>2014</td>\n",
              "      <td>3</td>\n",
              "      <td>Q3 2014</td>\n",
              "    </tr>\n",
              "    <tr>\n",
              "      <th>3</th>\n",
              "      <td>102210.0</td>\n",
              "      <td>157.0</td>\n",
              "      <td>4.6</td>\n",
              "      <td>2014</td>\n",
              "      <td>4</td>\n",
              "      <td>Q4 2014</td>\n",
              "    </tr>\n",
              "    <tr>\n",
              "      <th>4</th>\n",
              "      <td>93407.0</td>\n",
              "      <td>110.0</td>\n",
              "      <td>4.5</td>\n",
              "      <td>2015</td>\n",
              "      <td>1</td>\n",
              "      <td>Q1 2015</td>\n",
              "    </tr>\n",
              "  </tbody>\n",
              "</table>\n",
              "</div>"
            ],
            "text/plain": [
              "    visitas  excursoes  preco   ano  trimestre     data\n",
              "0   86947.0      115.0    4.6  2014          1  Q1 2014\n",
              "1  134868.0      135.0    5.1  2014          2  Q2 2014\n",
              "2  143617.0      155.0    5.3  2014          3  Q3 2014\n",
              "3  102210.0      157.0    4.6  2014          4  Q4 2014\n",
              "4   93407.0      110.0    4.5  2015          1  Q1 2015"
            ]
          },
          "metadata": {
            "tags": []
          },
          "execution_count": 6
        }
      ]
    },
    {
      "cell_type": "markdown",
      "metadata": {
        "id": "eK8vUpK5T_97",
        "colab_type": "text"
      },
      "source": [
        "Quantidade de linhas e colunas"
      ]
    },
    {
      "cell_type": "code",
      "metadata": {
        "id": "udyUaCnKTq9j",
        "colab_type": "code",
        "colab": {
          "base_uri": "https://localhost:8080/",
          "height": 34
        },
        "outputId": "98d8859d-2efe-46db-a382-c9fda953c458"
      },
      "source": [
        "cvj.shape"
      ],
      "execution_count": 7,
      "outputs": [
        {
          "output_type": "execute_result",
          "data": {
            "text/plain": [
              "(28, 6)"
            ]
          },
          "metadata": {
            "tags": []
          },
          "execution_count": 7
        }
      ]
    },
    {
      "cell_type": "markdown",
      "metadata": {
        "id": "3dFAm44cUKFp",
        "colab_type": "text"
      },
      "source": [
        "Gráfico de Dispersão Preço x Visitas\n"
      ]
    },
    {
      "cell_type": "code",
      "metadata": {
        "id": "e_9UJvmKTvL4",
        "colab_type": "code",
        "colab": {
          "base_uri": "https://localhost:8080/",
          "height": 282
        },
        "outputId": "80aecb2a-2654-4b9c-ac70-9a360d806d06"
      },
      "source": [
        "plt.scatter(cvj.preco, cvj.visitas)"
      ],
      "execution_count": 8,
      "outputs": [
        {
          "output_type": "execute_result",
          "data": {
            "text/plain": [
              "<matplotlib.collections.PathCollection at 0x7fef009d8c18>"
            ]
          },
          "metadata": {
            "tags": []
          },
          "execution_count": 8
        },
        {
          "output_type": "display_data",
          "data": {
            "image/png": "[encoded data removed]",
            "text/plain": [
              "<Figure size 432x288 with 1 Axes>"
            ]
          },
          "metadata": {
            "tags": [],
            "needs_background": "light"
          }
        }
      ]
    },
    {
      "cell_type": "markdown",
      "metadata": {
        "id": "K4_1lcNZUMiv",
        "colab_type": "text"
      },
      "source": [
        "Gráfico de Dispersão Excursões x Visitas\n"
      ]
    },
    {
      "cell_type": "code",
      "metadata": {
        "id": "8brU-TM0UNto",
        "colab_type": "code",
        "colab": {
          "base_uri": "https://localhost:8080/",
          "height": 282
        },
        "outputId": "10793186-d03a-4cbe-e6b9-8e746e39f91a"
      },
      "source": [
        "plt.scatter(cvj.excursoes, cvj.visitas)"
      ],
      "execution_count": 9,
      "outputs": [
        {
          "output_type": "execute_result",
          "data": {
            "text/plain": [
              "<matplotlib.collections.PathCollection at 0x7fef004b61d0>"
            ]
          },
          "metadata": {
            "tags": []
          },
          "execution_count": 9
        },
        {
          "output_type": "display_data",
          "data": {
            "image/png": "[encoded data removed]",
            "text/plain": [
              "<Figure size 432x288 with 1 Axes>"
            ]
          },
          "metadata": {
            "tags": [],
            "needs_background": "light"
          }
        }
      ]
    },
    {
      "cell_type": "markdown",
      "metadata": {
        "id": "z-jQDhWvUfAQ",
        "colab_type": "text"
      },
      "source": [
        "Tabela de correlação"
      ]
    },
    {
      "cell_type": "code",
      "metadata": {
        "id": "qBNjsFbjUadb",
        "colab_type": "code",
        "colab": {
          "base_uri": "https://localhost:8080/",
          "height": 119
        },
        "outputId": "f2a0c93f-8ab4-429b-d146-21eb2dd028fc"
      },
      "source": [
        "print(cvj.corr())"
      ],
      "execution_count": 11,
      "outputs": [
        {
          "output_type": "stream",
          "text": [
            "            visitas  excursoes     preco       ano  trimestre\n",
            "visitas    1.000000   0.782246  0.088296  0.341718   0.309251\n",
            "excursoes  0.782246   1.000000  0.148900  0.461991   0.577692\n",
            "preco      0.088296   0.148900  1.000000  0.033810   0.229129\n",
            "ano        0.341718   0.461991  0.033810  1.000000   0.000000\n",
            "trimestre  0.309251   0.577692  0.229129  0.000000   1.000000\n"
          ],
          "name": "stdout"
        }
      ]
    },
    {
      "cell_type": "code",
      "metadata": {
        "id": "T16VWLf9UszK",
        "colab_type": "code",
        "colab": {
          "base_uri": "https://localhost:8080/",
          "height": 119
        },
        "outputId": "7fbae454-7838-46cc-894f-6fd249609fde"
      },
      "source": [
        "x = cvj.excursoes\n",
        "x.head()"
      ],
      "execution_count": 14,
      "outputs": [
        {
          "output_type": "execute_result",
          "data": {
            "text/plain": [
              "0    115.0\n",
              "1    135.0\n",
              "2    155.0\n",
              "3    157.0\n",
              "4    110.0\n",
              "Name: excursoes, dtype: float64"
            ]
          },
          "metadata": {
            "tags": []
          },
          "execution_count": 14
        }
      ]
    },
    {
      "cell_type": "code",
      "metadata": {
        "id": "SFsdWdoHU3ur",
        "colab_type": "code",
        "colab": {
          "base_uri": "https://localhost:8080/",
          "height": 119
        },
        "outputId": "8c6b2db3-22ad-4432-9ace-16ddf490bc45"
      },
      "source": [
        "y = cvj.visitas\n",
        "y.head()"
      ],
      "execution_count": 15,
      "outputs": [
        {
          "output_type": "execute_result",
          "data": {
            "text/plain": [
              "0     86947.0\n",
              "1    134868.0\n",
              "2    143617.0\n",
              "3    102210.0\n",
              "4     93407.0\n",
              "Name: visitas, dtype: float64"
            ]
          },
          "metadata": {
            "tags": []
          },
          "execution_count": 15
        }
      ]
    },
    {
      "cell_type": "code",
      "metadata": {
        "id": "UtZhs5I-U7qI",
        "colab_type": "code",
        "colab": {
          "base_uri": "https://localhost:8080/",
          "height": 204
        },
        "outputId": "28fd9d05-fd97-425f-93ab-a22cb2b41e9b"
      },
      "source": [
        "x = sm.add_constant(x)\n",
        "x.head()"
      ],
      "execution_count": 16,
      "outputs": [
        {
          "output_type": "execute_result",
          "data": {
            "text/html": [
              "<div>\n",
              "<style scoped>\n",
              "    .dataframe tbody tr th:only-of-type {\n",
              "        vertical-align: middle;\n",
              "    }\n",
              "\n",
              "    .dataframe tbody tr th {\n",
              "        vertical-align: top;\n",
              "    }\n",
              "\n",
              "    .dataframe thead th {\n",
              "        text-align: right;\n",
              "    }\n",
              "</style>\n",
              "<table border=\"1\" class=\"dataframe\">\n",
              "  <thead>\n",
              "    <tr style=\"text-align: right;\">\n",
              "      <th></th>\n",
              "      <th>const</th>\n",
              "      <th>excursoes</th>\n",
              "    </tr>\n",
              "  </thead>\n",
              "  <tbody>\n",
              "    <tr>\n",
              "      <th>0</th>\n",
              "      <td>1.0</td>\n",
              "      <td>115.0</td>\n",
              "    </tr>\n",
              "    <tr>\n",
              "      <th>1</th>\n",
              "      <td>1.0</td>\n",
              "      <td>135.0</td>\n",
              "    </tr>\n",
              "    <tr>\n",
              "      <th>2</th>\n",
              "      <td>1.0</td>\n",
              "      <td>155.0</td>\n",
              "    </tr>\n",
              "    <tr>\n",
              "      <th>3</th>\n",
              "      <td>1.0</td>\n",
              "      <td>157.0</td>\n",
              "    </tr>\n",
              "    <tr>\n",
              "      <th>4</th>\n",
              "      <td>1.0</td>\n",
              "      <td>110.0</td>\n",
              "    </tr>\n",
              "  </tbody>\n",
              "</table>\n",
              "</div>"
            ],
            "text/plain": [
              "   const  excursoes\n",
              "0    1.0      115.0\n",
              "1    1.0      135.0\n",
              "2    1.0      155.0\n",
              "3    1.0      157.0\n",
              "4    1.0      110.0"
            ]
          },
          "metadata": {
            "tags": []
          },
          "execution_count": 16
        }
      ]
    },
    {
      "cell_type": "code",
      "metadata": {
        "id": "VaVLL5RlUj1_",
        "colab_type": "code",
        "colab": {}
      },
      "source": [
        "modelo = sm.OLS(y,x)"
      ],
      "execution_count": 17,
      "outputs": []
    },
    {
      "cell_type": "code",
      "metadata": {
        "id": "ZgaS8leUUlgD",
        "colab_type": "code",
        "colab": {}
      },
      "source": [
        "ajuste = modelo.fit()"
      ],
      "execution_count": 18,
      "outputs": []
    },
    {
      "cell_type": "code",
      "metadata": {
        "id": "ZUaNN8djUnJv",
        "colab_type": "code",
        "colab": {
          "base_uri": "https://localhost:8080/",
          "height": 444
        },
        "outputId": "9bd3d5df-ee51-4bf5-ae7e-bbada0ca75bd"
      },
      "source": [
        "ajuste.summary()"
      ],
      "execution_count": 19,
      "outputs": [
        {
          "output_type": "execute_result",
          "data": {
            "text/html": [
              "<table class=\"simpletable\">\n",
              "<caption>OLS Regression Results</caption>\n",
              "<tr>\n",
              "  <th>Dep. Variable:</th>         <td>visitas</td>     <th>  R-squared:         </th> <td>   0.612</td>\n",
              "</tr>\n",
              "<tr>\n",
              "  <th>Model:</th>                   <td>OLS</td>       <th>  Adj. R-squared:    </th> <td>   0.597</td>\n",
              "</tr>\n",
              "<tr>\n",
              "  <th>Method:</th>             <td>Least Squares</td>  <th>  F-statistic:       </th> <td>   40.99</td>\n",
              "</tr>\n",
              "<tr>\n",
              "  <th>Date:</th>             <td>Thu, 27 Aug 2020</td> <th>  Prob (F-statistic):</th> <td>8.78e-07</td>\n",
              "</tr>\n",
              "<tr>\n",
              "  <th>Time:</th>                 <td>14:30:45</td>     <th>  Log-Likelihood:    </th> <td> -334.84</td>\n",
              "</tr>\n",
              "<tr>\n",
              "  <th>No. Observations:</th>      <td>    28</td>      <th>  AIC:               </th> <td>   673.7</td>\n",
              "</tr>\n",
              "<tr>\n",
              "  <th>Df Residuals:</th>          <td>    26</td>      <th>  BIC:               </th> <td>   676.3</td>\n",
              "</tr>\n",
              "<tr>\n",
              "  <th>Df Model:</th>              <td>     1</td>      <th>                     </th>     <td> </td>   \n",
              "</tr>\n",
              "<tr>\n",
              "  <th>Covariance Type:</th>      <td>nonrobust</td>    <th>                     </th>     <td> </td>   \n",
              "</tr>\n",
              "</table>\n",
              "<table class=\"simpletable\">\n",
              "<tr>\n",
              "      <td></td>         <th>coef</th>     <th>std err</th>      <th>t</th>      <th>P>|t|</th>  <th>[0.025</th>    <th>0.975]</th>  \n",
              "</tr>\n",
              "<tr>\n",
              "  <th>const</th>     <td>-2.939e+04</td> <td> 3.04e+04</td> <td>   -0.967</td> <td> 0.342</td> <td>-9.18e+04</td> <td>  3.3e+04</td>\n",
              "</tr>\n",
              "<tr>\n",
              "  <th>excursoes</th> <td> 1148.3249</td> <td>  179.350</td> <td>    6.403</td> <td> 0.000</td> <td>  779.665</td> <td> 1516.984</td>\n",
              "</tr>\n",
              "</table>\n",
              "<table class=\"simpletable\">\n",
              "<tr>\n",
              "  <th>Omnibus:</th>       <td> 1.612</td> <th>  Durbin-Watson:     </th> <td>   1.442</td>\n",
              "</tr>\n",
              "<tr>\n",
              "  <th>Prob(Omnibus):</th> <td> 0.447</td> <th>  Jarque-Bera (JB):  </th> <td>   0.828</td>\n",
              "</tr>\n",
              "<tr>\n",
              "  <th>Skew:</th>          <td>-0.413</td> <th>  Prob(JB):          </th> <td>   0.661</td>\n",
              "</tr>\n",
              "<tr>\n",
              "  <th>Kurtosis:</th>      <td> 3.169</td> <th>  Cond. No.          </th> <td>    694.</td>\n",
              "</tr>\n",
              "</table><br/><br/>Warnings:<br/>[1] Standard Errors assume that the covariance matrix of the errors is correctly specified."
            ],
            "text/plain": [
              "<class 'statsmodels.iolib.summary.Summary'>\n",
              "\"\"\"\n",
              "                            OLS Regression Results                            \n",
              "==============================================================================\n",
              "Dep. Variable:                visitas   R-squared:                       0.612\n",
              "Model:                            OLS   Adj. R-squared:                  0.597\n",
              "Method:                 Least Squares   F-statistic:                     40.99\n",
              "Date:                Thu, 27 Aug 2020   Prob (F-statistic):           8.78e-07\n",
              "Time:                        14:30:45   Log-Likelihood:                -334.84\n",
              "No. Observations:                  28   AIC:                             673.7\n",
              "Df Residuals:                      26   BIC:                             676.3\n",
              "Df Model:                           1                                         \n",
              "Covariance Type:            nonrobust                                         \n",
              "==============================================================================\n",
              "                 coef    std err          t      P>|t|      [0.025      0.975]\n",
              "------------------------------------------------------------------------------\n",
              "const      -2.939e+04   3.04e+04     -0.967      0.342   -9.18e+04     3.3e+04\n",
              "excursoes   1148.3249    179.350      6.403      0.000     779.665    1516.984\n",
              "==============================================================================\n",
              "Omnibus:                        1.612   Durbin-Watson:                   1.442\n",
              "Prob(Omnibus):                  0.447   Jarque-Bera (JB):                0.828\n",
              "Skew:                          -0.413   Prob(JB):                        0.661\n",
              "Kurtosis:                       3.169   Cond. No.                         694.\n",
              "==============================================================================\n",
              "\n",
              "Warnings:\n",
              "[1] Standard Errors assume that the covariance matrix of the errors is correctly specified.\n",
              "\"\"\""
            ]
          },
          "metadata": {
            "tags": []
          },
          "execution_count": 19
        }
      ]
    }
  ]
}
