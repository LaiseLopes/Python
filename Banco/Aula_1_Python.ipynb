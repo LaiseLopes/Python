{
  "nbformat": 4,
  "nbformat_minor": 0,
  "metadata": {
    "colab": {
      "name": "Aula_1_Python",
      "provenance": [],
      "authorship_tag": "ABX9TyOyygHvmWSYbAcOo2S0u2IP",
      "include_colab_link": true
    },
    "kernelspec": {
      "name": "python3",
      "display_name": "Python 3"
    }
  },
  "cells": [
    {
      "cell_type": "markdown",
      "metadata": {
        "id": "view-in-github",
        "colab_type": "text"
      },
      "source": [
        "<a href=\"https://colab.research.google.com/github/LaiseLopes/Python/blob/master/Aula_1_Python.ipynb\" target=\"_parent\"><img src=\"https://colab.research.google.com/assets/colab-badge.svg\" alt=\"Open In Colab\"/></a>"
      ]
    },
    {
      "cell_type": "code",
      "metadata": {
        "id": "Cwcs4NEYgV8o",
        "colab_type": "code",
        "colab": {}
      },
      "source": [
        "import pandas as pd"
      ],
      "execution_count": 2,
      "outputs": []
    },
    {
      "cell_type": "code",
      "metadata": {
        "id": "knd9nbxjhBaz",
        "colab_type": "code",
        "colab": {}
      },
      "source": [
        "banco = pd.read_excel('/content/Banco_R.xlsx')"
      ],
      "execution_count": 4,
      "outputs": []
    },
    {
      "cell_type": "code",
      "metadata": {
        "id": "TDCP_HBQhw65",
        "colab_type": "code",
        "colab": {
          "base_uri": "https://localhost:8080/",
          "height": 204
        },
        "outputId": "0eca4fc6-c5c5-407a-cd8f-6a5856444c23"
      },
      "source": [
        "banco.head()"
      ],
      "execution_count": 5,
      "outputs": [
        {
          "output_type": "execute_result",
          "data": {
            "text/html": [
              "<div>\n",
              "<style scoped>\n",
              "    .dataframe tbody tr th:only-of-type {\n",
              "        vertical-align: middle;\n",
              "    }\n",
              "\n",
              "    .dataframe tbody tr th {\n",
              "        vertical-align: top;\n",
              "    }\n",
              "\n",
              "    .dataframe thead th {\n",
              "        text-align: right;\n",
              "    }\n",
              "</style>\n",
              "<table border=\"1\" class=\"dataframe\">\n",
              "  <thead>\n",
              "    <tr style=\"text-align: right;\">\n",
              "      <th></th>\n",
              "      <th>id</th>\n",
              "      <th>datanasc</th>\n",
              "      <th>sexo</th>\n",
              "      <th>estudo</th>\n",
              "      <th>Produto</th>\n",
              "      <th>salario</th>\n",
              "      <th>salario_inicial</th>\n",
              "      <th>temp_servico</th>\n",
              "      <th>cartao_credito</th>\n",
              "      <th>Emprestimos</th>\n",
              "    </tr>\n",
              "  </thead>\n",
              "  <tbody>\n",
              "    <tr>\n",
              "      <th>0</th>\n",
              "      <td>1</td>\n",
              "      <td>1952-02-03</td>\n",
              "      <td>Masculino</td>\n",
              "      <td>15</td>\n",
              "      <td>A</td>\n",
              "      <td>NaN</td>\n",
              "      <td>27000</td>\n",
              "      <td>98</td>\n",
              "      <td>10000</td>\n",
              "      <td>5000.0</td>\n",
              "    </tr>\n",
              "    <tr>\n",
              "      <th>1</th>\n",
              "      <td>2</td>\n",
              "      <td>1958-05-23</td>\n",
              "      <td>Masculino</td>\n",
              "      <td>16</td>\n",
              "      <td>C</td>\n",
              "      <td>40200.0</td>\n",
              "      <td>18750</td>\n",
              "      <td>98</td>\n",
              "      <td>8040</td>\n",
              "      <td>4020.0</td>\n",
              "    </tr>\n",
              "    <tr>\n",
              "      <th>2</th>\n",
              "      <td>3</td>\n",
              "      <td>1929-07-26</td>\n",
              "      <td>Feminino</td>\n",
              "      <td>12</td>\n",
              "      <td>C</td>\n",
              "      <td>21450.0</td>\n",
              "      <td>12000</td>\n",
              "      <td>98</td>\n",
              "      <td>4290</td>\n",
              "      <td>2145.0</td>\n",
              "    </tr>\n",
              "    <tr>\n",
              "      <th>3</th>\n",
              "      <td>4</td>\n",
              "      <td>1947-04-15</td>\n",
              "      <td>Feminino</td>\n",
              "      <td>8</td>\n",
              "      <td>C</td>\n",
              "      <td>21900.0</td>\n",
              "      <td>13200</td>\n",
              "      <td>98</td>\n",
              "      <td>4380</td>\n",
              "      <td>2190.0</td>\n",
              "    </tr>\n",
              "    <tr>\n",
              "      <th>4</th>\n",
              "      <td>5</td>\n",
              "      <td>1955-02-09</td>\n",
              "      <td>Masculino</td>\n",
              "      <td>15</td>\n",
              "      <td>C</td>\n",
              "      <td>45000.0</td>\n",
              "      <td>21000</td>\n",
              "      <td>98</td>\n",
              "      <td>9000</td>\n",
              "      <td>4500.0</td>\n",
              "    </tr>\n",
              "  </tbody>\n",
              "</table>\n",
              "</div>"
            ],
            "text/plain": [
              "   id   datanasc       sexo  ...  temp_servico cartao_credito  Emprestimos\n",
              "0   1 1952-02-03  Masculino  ...            98          10000       5000.0\n",
              "1   2 1958-05-23  Masculino  ...            98           8040       4020.0\n",
              "2   3 1929-07-26   Feminino  ...            98           4290       2145.0\n",
              "3   4 1947-04-15   Feminino  ...            98           4380       2190.0\n",
              "4   5 1955-02-09  Masculino  ...            98           9000       4500.0\n",
              "\n",
              "[5 rows x 10 columns]"
            ]
          },
          "metadata": {
            "tags": []
          },
          "execution_count": 5
        }
      ]
    },
    {
      "cell_type": "code",
      "metadata": {
        "id": "8c3NMIqxh82P",
        "colab_type": "code",
        "colab": {
          "base_uri": "https://localhost:8080/",
          "height": 309
        },
        "outputId": "53fd4615-169a-4c5a-83ef-797a6bd12810"
      },
      "source": [
        "banco.tail()"
      ],
      "execution_count": null,
      "outputs": [
        {
          "output_type": "execute_result",
          "data": {
            "text/html": [
              "<div>\n",
              "<style scoped>\n",
              "    .dataframe tbody tr th:only-of-type {\n",
              "        vertical-align: middle;\n",
              "    }\n",
              "\n",
              "    .dataframe tbody tr th {\n",
              "        vertical-align: top;\n",
              "    }\n",
              "\n",
              "    .dataframe thead th {\n",
              "        text-align: right;\n",
              "    }\n",
              "</style>\n",
              "<table border=\"1\" class=\"dataframe\">\n",
              "  <thead>\n",
              "    <tr style=\"text-align: right;\">\n",
              "      <th></th>\n",
              "      <th>id</th>\n",
              "      <th>datanasc</th>\n",
              "      <th>sexo</th>\n",
              "      <th>estudo</th>\n",
              "      <th>Produto</th>\n",
              "      <th>salario</th>\n",
              "      <th>salario_inicial</th>\n",
              "      <th>temp_servico</th>\n",
              "      <th>cartao_credito</th>\n",
              "      <th>Emprestimos</th>\n",
              "    </tr>\n",
              "  </thead>\n",
              "  <tbody>\n",
              "    <tr>\n",
              "      <th>507</th>\n",
              "      <td>472</td>\n",
              "      <td>1966-02-21</td>\n",
              "      <td>Masculino</td>\n",
              "      <td>15</td>\n",
              "      <td>CC</td>\n",
              "      <td>39150.0</td>\n",
              "      <td>15750</td>\n",
              "      <td>63</td>\n",
              "      <td>7830</td>\n",
              "      <td>3915.0</td>\n",
              "    </tr>\n",
              "    <tr>\n",
              "      <th>508</th>\n",
              "      <td>473</td>\n",
              "      <td>1937-11-25</td>\n",
              "      <td>Feminino</td>\n",
              "      <td>12</td>\n",
              "      <td>C</td>\n",
              "      <td>21450.0</td>\n",
              "      <td>12750</td>\n",
              "      <td>63</td>\n",
              "      <td>4290</td>\n",
              "      <td>2145.0</td>\n",
              "    </tr>\n",
              "    <tr>\n",
              "      <th>509</th>\n",
              "      <td>473</td>\n",
              "      <td>1937-11-25</td>\n",
              "      <td>Feminino</td>\n",
              "      <td>12</td>\n",
              "      <td>CC</td>\n",
              "      <td>21450.0</td>\n",
              "      <td>12750</td>\n",
              "      <td>63</td>\n",
              "      <td>4290</td>\n",
              "      <td>2145.0</td>\n",
              "    </tr>\n",
              "    <tr>\n",
              "      <th>510</th>\n",
              "      <td>474</td>\n",
              "      <td>1968-11-05</td>\n",
              "      <td>Feminino</td>\n",
              "      <td>12</td>\n",
              "      <td>C</td>\n",
              "      <td>29400.0</td>\n",
              "      <td>14250</td>\n",
              "      <td>63</td>\n",
              "      <td>5880</td>\n",
              "      <td>2940.0</td>\n",
              "    </tr>\n",
              "    <tr>\n",
              "      <th>511</th>\n",
              "      <td>474</td>\n",
              "      <td>1968-11-05</td>\n",
              "      <td>Feminino</td>\n",
              "      <td>12</td>\n",
              "      <td>BB</td>\n",
              "      <td>29400.0</td>\n",
              "      <td>14250</td>\n",
              "      <td>63</td>\n",
              "      <td>5880</td>\n",
              "      <td>2940.0</td>\n",
              "    </tr>\n",
              "  </tbody>\n",
              "</table>\n",
              "</div>"
            ],
            "text/plain": [
              "      id   datanasc       sexo  ...  temp_servico cartao_credito  Emprestimos\n",
              "507  472 1966-02-21  Masculino  ...            63           7830       3915.0\n",
              "508  473 1937-11-25   Feminino  ...            63           4290       2145.0\n",
              "509  473 1937-11-25   Feminino  ...            63           4290       2145.0\n",
              "510  474 1968-11-05   Feminino  ...            63           5880       2940.0\n",
              "511  474 1968-11-05   Feminino  ...            63           5880       2940.0\n",
              "\n",
              "[5 rows x 10 columns]"
            ]
          },
          "metadata": {
            "tags": []
          },
          "execution_count": 6
        }
      ]
    },
    {
      "cell_type": "code",
      "metadata": {
        "id": "N5yR8Eraj2j5",
        "colab_type": "code",
        "colab": {
          "base_uri": "https://localhost:8080/",
          "height": 204
        },
        "outputId": "33132920-754f-41ee-d4d3-e7a9f04f610b"
      },
      "source": [
        "banco.dtypes"
      ],
      "execution_count": null,
      "outputs": [
        {
          "output_type": "execute_result",
          "data": {
            "text/plain": [
              "id                          int64\n",
              "datanasc           datetime64[ns]\n",
              "sexo                       object\n",
              "estudo                      int64\n",
              "Produto                    object\n",
              "salario                   float64\n",
              "salario_inicial             int64\n",
              "temp_servico                int64\n",
              "cartao_credito              int64\n",
              "Emprestimos               float64\n",
              "dtype: object"
            ]
          },
          "metadata": {
            "tags": []
          },
          "execution_count": 7
        }
      ]
    },
    {
      "cell_type": "code",
      "metadata": {
        "id": "v9vJYXN_k1c1",
        "colab_type": "code",
        "colab": {
          "base_uri": "https://localhost:8080/",
          "height": 309
        },
        "outputId": "a133c3de-2ae0-4d14-b3e5-c181a3952a8f"
      },
      "source": [
        "banco_1 = banco.sort_values(by=\"id\")\n",
        "banco_1.head()"
      ],
      "execution_count": null,
      "outputs": [
        {
          "output_type": "execute_result",
          "data": {
            "text/html": [
              "<div>\n",
              "<style scoped>\n",
              "    .dataframe tbody tr th:only-of-type {\n",
              "        vertical-align: middle;\n",
              "    }\n",
              "\n",
              "    .dataframe tbody tr th {\n",
              "        vertical-align: top;\n",
              "    }\n",
              "\n",
              "    .dataframe thead th {\n",
              "        text-align: right;\n",
              "    }\n",
              "</style>\n",
              "<table border=\"1\" class=\"dataframe\">\n",
              "  <thead>\n",
              "    <tr style=\"text-align: right;\">\n",
              "      <th></th>\n",
              "      <th>id</th>\n",
              "      <th>datanasc</th>\n",
              "      <th>sexo</th>\n",
              "      <th>estudo</th>\n",
              "      <th>Produto</th>\n",
              "      <th>salario</th>\n",
              "      <th>salario_inicial</th>\n",
              "      <th>temp_servico</th>\n",
              "      <th>cartao_credito</th>\n",
              "      <th>Emprestimos</th>\n",
              "    </tr>\n",
              "  </thead>\n",
              "  <tbody>\n",
              "    <tr>\n",
              "      <th>0</th>\n",
              "      <td>1</td>\n",
              "      <td>1952-02-03</td>\n",
              "      <td>Masculino</td>\n",
              "      <td>15</td>\n",
              "      <td>A</td>\n",
              "      <td>NaN</td>\n",
              "      <td>27000</td>\n",
              "      <td>98</td>\n",
              "      <td>10000</td>\n",
              "      <td>5000.0</td>\n",
              "    </tr>\n",
              "    <tr>\n",
              "      <th>1</th>\n",
              "      <td>2</td>\n",
              "      <td>1958-05-23</td>\n",
              "      <td>Masculino</td>\n",
              "      <td>16</td>\n",
              "      <td>C</td>\n",
              "      <td>40200.0</td>\n",
              "      <td>18750</td>\n",
              "      <td>98</td>\n",
              "      <td>8040</td>\n",
              "      <td>4020.0</td>\n",
              "    </tr>\n",
              "    <tr>\n",
              "      <th>2</th>\n",
              "      <td>3</td>\n",
              "      <td>1929-07-26</td>\n",
              "      <td>Feminino</td>\n",
              "      <td>12</td>\n",
              "      <td>C</td>\n",
              "      <td>21450.0</td>\n",
              "      <td>12000</td>\n",
              "      <td>98</td>\n",
              "      <td>4290</td>\n",
              "      <td>2145.0</td>\n",
              "    </tr>\n",
              "    <tr>\n",
              "      <th>3</th>\n",
              "      <td>4</td>\n",
              "      <td>1947-04-15</td>\n",
              "      <td>Feminino</td>\n",
              "      <td>8</td>\n",
              "      <td>C</td>\n",
              "      <td>21900.0</td>\n",
              "      <td>13200</td>\n",
              "      <td>98</td>\n",
              "      <td>4380</td>\n",
              "      <td>2190.0</td>\n",
              "    </tr>\n",
              "    <tr>\n",
              "      <th>4</th>\n",
              "      <td>5</td>\n",
              "      <td>1955-02-09</td>\n",
              "      <td>Masculino</td>\n",
              "      <td>15</td>\n",
              "      <td>C</td>\n",
              "      <td>45000.0</td>\n",
              "      <td>21000</td>\n",
              "      <td>98</td>\n",
              "      <td>9000</td>\n",
              "      <td>4500.0</td>\n",
              "    </tr>\n",
              "  </tbody>\n",
              "</table>\n",
              "</div>"
            ],
            "text/plain": [
              "   id   datanasc       sexo  ...  temp_servico cartao_credito  Emprestimos\n",
              "0   1 1952-02-03  Masculino  ...            98          10000       5000.0\n",
              "1   2 1958-05-23  Masculino  ...            98           8040       4020.0\n",
              "2   3 1929-07-26   Feminino  ...            98           4290       2145.0\n",
              "3   4 1947-04-15   Feminino  ...            98           4380       2190.0\n",
              "4   5 1955-02-09  Masculino  ...            98           9000       4500.0\n",
              "\n",
              "[5 rows x 10 columns]"
            ]
          },
          "metadata": {
            "tags": []
          },
          "execution_count": 20
        }
      ]
    },
    {
      "cell_type": "code",
      "metadata": {
        "id": "6bUPXMwJlxOp",
        "colab_type": "code",
        "colab": {
          "base_uri": "https://localhost:8080/",
          "height": 439
        },
        "outputId": "6ec047a7-3556-4a81-aadc-c75153c314c1"
      },
      "source": [
        "banco.rename(columns={'datanasc':'data_nascimento'})"
      ],
      "execution_count": null,
      "outputs": [
        {
          "output_type": "execute_result",
          "data": {
            "text/html": [
              "<div>\n",
              "<style scoped>\n",
              "    .dataframe tbody tr th:only-of-type {\n",
              "        vertical-align: middle;\n",
              "    }\n",
              "\n",
              "    .dataframe tbody tr th {\n",
              "        vertical-align: top;\n",
              "    }\n",
              "\n",
              "    .dataframe thead th {\n",
              "        text-align: right;\n",
              "    }\n",
              "</style>\n",
              "<table border=\"1\" class=\"dataframe\">\n",
              "  <thead>\n",
              "    <tr style=\"text-align: right;\">\n",
              "      <th></th>\n",
              "      <th>id</th>\n",
              "      <th>data_nascimento</th>\n",
              "      <th>sexo</th>\n",
              "      <th>estudo</th>\n",
              "      <th>Produto</th>\n",
              "      <th>salario</th>\n",
              "      <th>salario_inicial</th>\n",
              "      <th>temp_servico</th>\n",
              "      <th>cartao_credito</th>\n",
              "      <th>Emprestimos</th>\n",
              "    </tr>\n",
              "  </thead>\n",
              "  <tbody>\n",
              "    <tr>\n",
              "      <th>0</th>\n",
              "      <td>1</td>\n",
              "      <td>1952-02-03</td>\n",
              "      <td>Masculino</td>\n",
              "      <td>15</td>\n",
              "      <td>A</td>\n",
              "      <td>NaN</td>\n",
              "      <td>27000</td>\n",
              "      <td>98</td>\n",
              "      <td>10000</td>\n",
              "      <td>5000.0</td>\n",
              "    </tr>\n",
              "    <tr>\n",
              "      <th>1</th>\n",
              "      <td>2</td>\n",
              "      <td>1958-05-23</td>\n",
              "      <td>Masculino</td>\n",
              "      <td>16</td>\n",
              "      <td>C</td>\n",
              "      <td>40200.0</td>\n",
              "      <td>18750</td>\n",
              "      <td>98</td>\n",
              "      <td>8040</td>\n",
              "      <td>4020.0</td>\n",
              "    </tr>\n",
              "    <tr>\n",
              "      <th>2</th>\n",
              "      <td>3</td>\n",
              "      <td>1929-07-26</td>\n",
              "      <td>Feminino</td>\n",
              "      <td>12</td>\n",
              "      <td>C</td>\n",
              "      <td>21450.0</td>\n",
              "      <td>12000</td>\n",
              "      <td>98</td>\n",
              "      <td>4290</td>\n",
              "      <td>2145.0</td>\n",
              "    </tr>\n",
              "    <tr>\n",
              "      <th>3</th>\n",
              "      <td>4</td>\n",
              "      <td>1947-04-15</td>\n",
              "      <td>Feminino</td>\n",
              "      <td>8</td>\n",
              "      <td>C</td>\n",
              "      <td>21900.0</td>\n",
              "      <td>13200</td>\n",
              "      <td>98</td>\n",
              "      <td>4380</td>\n",
              "      <td>2190.0</td>\n",
              "    </tr>\n",
              "    <tr>\n",
              "      <th>4</th>\n",
              "      <td>5</td>\n",
              "      <td>1955-02-09</td>\n",
              "      <td>Masculino</td>\n",
              "      <td>15</td>\n",
              "      <td>C</td>\n",
              "      <td>45000.0</td>\n",
              "      <td>21000</td>\n",
              "      <td>98</td>\n",
              "      <td>9000</td>\n",
              "      <td>4500.0</td>\n",
              "    </tr>\n",
              "    <tr>\n",
              "      <th>...</th>\n",
              "      <td>...</td>\n",
              "      <td>...</td>\n",
              "      <td>...</td>\n",
              "      <td>...</td>\n",
              "      <td>...</td>\n",
              "      <td>...</td>\n",
              "      <td>...</td>\n",
              "      <td>...</td>\n",
              "      <td>...</td>\n",
              "      <td>...</td>\n",
              "    </tr>\n",
              "    <tr>\n",
              "      <th>507</th>\n",
              "      <td>472</td>\n",
              "      <td>1966-02-21</td>\n",
              "      <td>Masculino</td>\n",
              "      <td>15</td>\n",
              "      <td>CC</td>\n",
              "      <td>39150.0</td>\n",
              "      <td>15750</td>\n",
              "      <td>63</td>\n",
              "      <td>7830</td>\n",
              "      <td>3915.0</td>\n",
              "    </tr>\n",
              "    <tr>\n",
              "      <th>508</th>\n",
              "      <td>473</td>\n",
              "      <td>1937-11-25</td>\n",
              "      <td>Feminino</td>\n",
              "      <td>12</td>\n",
              "      <td>C</td>\n",
              "      <td>21450.0</td>\n",
              "      <td>12750</td>\n",
              "      <td>63</td>\n",
              "      <td>4290</td>\n",
              "      <td>2145.0</td>\n",
              "    </tr>\n",
              "    <tr>\n",
              "      <th>509</th>\n",
              "      <td>473</td>\n",
              "      <td>1937-11-25</td>\n",
              "      <td>Feminino</td>\n",
              "      <td>12</td>\n",
              "      <td>CC</td>\n",
              "      <td>21450.0</td>\n",
              "      <td>12750</td>\n",
              "      <td>63</td>\n",
              "      <td>4290</td>\n",
              "      <td>2145.0</td>\n",
              "    </tr>\n",
              "    <tr>\n",
              "      <th>510</th>\n",
              "      <td>474</td>\n",
              "      <td>1968-11-05</td>\n",
              "      <td>Feminino</td>\n",
              "      <td>12</td>\n",
              "      <td>C</td>\n",
              "      <td>29400.0</td>\n",
              "      <td>14250</td>\n",
              "      <td>63</td>\n",
              "      <td>5880</td>\n",
              "      <td>2940.0</td>\n",
              "    </tr>\n",
              "    <tr>\n",
              "      <th>511</th>\n",
              "      <td>474</td>\n",
              "      <td>1968-11-05</td>\n",
              "      <td>Feminino</td>\n",
              "      <td>12</td>\n",
              "      <td>BB</td>\n",
              "      <td>29400.0</td>\n",
              "      <td>14250</td>\n",
              "      <td>63</td>\n",
              "      <td>5880</td>\n",
              "      <td>2940.0</td>\n",
              "    </tr>\n",
              "  </tbody>\n",
              "</table>\n",
              "<p>512 rows × 10 columns</p>\n",
              "</div>"
            ],
            "text/plain": [
              "      id data_nascimento       sexo  ...  temp_servico cartao_credito  Emprestimos\n",
              "0      1      1952-02-03  Masculino  ...            98          10000       5000.0\n",
              "1      2      1958-05-23  Masculino  ...            98           8040       4020.0\n",
              "2      3      1929-07-26   Feminino  ...            98           4290       2145.0\n",
              "3      4      1947-04-15   Feminino  ...            98           4380       2190.0\n",
              "4      5      1955-02-09  Masculino  ...            98           9000       4500.0\n",
              "..   ...             ...        ...  ...           ...            ...          ...\n",
              "507  472      1966-02-21  Masculino  ...            63           7830       3915.0\n",
              "508  473      1937-11-25   Feminino  ...            63           4290       2145.0\n",
              "509  473      1937-11-25   Feminino  ...            63           4290       2145.0\n",
              "510  474      1968-11-05   Feminino  ...            63           5880       2940.0\n",
              "511  474      1968-11-05   Feminino  ...            63           5880       2940.0\n",
              "\n",
              "[512 rows x 10 columns]"
            ]
          },
          "metadata": {
            "tags": []
          },
          "execution_count": 21
        }
      ]
    },
    {
      "cell_type": "code",
      "metadata": {
        "id": "-oOOlhJomUAe",
        "colab_type": "code",
        "colab": {
          "base_uri": "https://localhost:8080/",
          "height": 68
        },
        "outputId": "e0ea560e-ca46-4ac7-a33c-5c6d10da25cd"
      },
      "source": [
        "banco['sexo'].value_counts()"
      ],
      "execution_count": null,
      "outputs": [
        {
          "output_type": "execute_result",
          "data": {
            "text/plain": [
              "Masculino    278\n",
              "Feminino     234\n",
              "Name: sexo, dtype: int64"
            ]
          },
          "metadata": {
            "tags": []
          },
          "execution_count": 23
        }
      ]
    },
    {
      "cell_type": "code",
      "metadata": {
        "id": "5BcoXLKMmrAA",
        "colab_type": "code",
        "colab": {
          "base_uri": "https://localhost:8080/",
          "height": 34
        },
        "outputId": "f6b256f5-1124-4e38-81a3-53b0bfb56093"
      },
      "source": [
        "banco['id'].mean()"
      ],
      "execution_count": null,
      "outputs": [
        {
          "output_type": "execute_result",
          "data": {
            "text/plain": [
              "235.63671875"
            ]
          },
          "metadata": {
            "tags": []
          },
          "execution_count": 24
        }
      ]
    },
    {
      "cell_type": "code",
      "metadata": {
        "id": "zysjgLHznC1N",
        "colab_type": "code",
        "colab": {
          "base_uri": "https://localhost:8080/",
          "height": 34
        },
        "outputId": "d514832f-99f2-4965-99d5-4a43bfbf3d24"
      },
      "source": [
        "banco['id'].mean()"
      ],
      "execution_count": null,
      "outputs": [
        {
          "output_type": "execute_result",
          "data": {
            "text/plain": [
              "235.63671875"
            ]
          },
          "metadata": {
            "tags": []
          },
          "execution_count": 26
        }
      ]
    },
    {
      "cell_type": "code",
      "metadata": {
        "id": "A_dQ6i4OnKIE",
        "colab_type": "code",
        "colab": {
          "base_uri": "https://localhost:8080/",
          "height": 34
        },
        "outputId": "075f7b44-0121-4143-91cc-8057e1c1d0a1"
      },
      "source": [
        "banco['salario'].mean()"
      ],
      "execution_count": null,
      "outputs": [
        {
          "output_type": "execute_result",
          "data": {
            "text/plain": [
              "34954.0313111546"
            ]
          },
          "metadata": {
            "tags": []
          },
          "execution_count": 27
        }
      ]
    },
    {
      "cell_type": "code",
      "metadata": {
        "id": "adOlOw7znTJp",
        "colab_type": "code",
        "colab": {
          "base_uri": "https://localhost:8080/",
          "height": 34
        },
        "outputId": "b667e754-1927-4e1d-a02c-49f2d2cb98d6"
      },
      "source": [
        "banco['salario'].std()"
      ],
      "execution_count": null,
      "outputs": [
        {
          "output_type": "execute_result",
          "data": {
            "text/plain": [
              "18147.675516656152"
            ]
          },
          "metadata": {
            "tags": []
          },
          "execution_count": 29
        }
      ]
    },
    {
      "cell_type": "code",
      "metadata": {
        "id": "49SfUOlRnZ4X",
        "colab_type": "code",
        "colab": {
          "base_uri": "https://localhost:8080/",
          "height": 317
        },
        "outputId": "d5135b84-e93b-4f25-e144-064bfdae43d1"
      },
      "source": [
        "banco.describe()"
      ],
      "execution_count": null,
      "outputs": [
        {
          "output_type": "execute_result",
          "data": {
            "text/html": [
              "<div>\n",
              "<style scoped>\n",
              "    .dataframe tbody tr th:only-of-type {\n",
              "        vertical-align: middle;\n",
              "    }\n",
              "\n",
              "    .dataframe tbody tr th {\n",
              "        vertical-align: top;\n",
              "    }\n",
              "\n",
              "    .dataframe thead th {\n",
              "        text-align: right;\n",
              "    }\n",
              "</style>\n",
              "<table border=\"1\" class=\"dataframe\">\n",
              "  <thead>\n",
              "    <tr style=\"text-align: right;\">\n",
              "      <th></th>\n",
              "      <th>id</th>\n",
              "      <th>estudo</th>\n",
              "      <th>salario</th>\n",
              "      <th>salario_inicial</th>\n",
              "      <th>temp_servico</th>\n",
              "      <th>cartao_credito</th>\n",
              "      <th>Emprestimos</th>\n",
              "    </tr>\n",
              "  </thead>\n",
              "  <tbody>\n",
              "    <tr>\n",
              "      <th>count</th>\n",
              "      <td>512.000000</td>\n",
              "      <td>512.000000</td>\n",
              "      <td>511.000000</td>\n",
              "      <td>512.000000</td>\n",
              "      <td>512.000000</td>\n",
              "      <td>512.000000</td>\n",
              "      <td>512.000000</td>\n",
              "    </tr>\n",
              "    <tr>\n",
              "      <th>mean</th>\n",
              "      <td>235.636719</td>\n",
              "      <td>13.552734</td>\n",
              "      <td>34954.031311</td>\n",
              "      <td>17173.837891</td>\n",
              "      <td>81.236328</td>\n",
              "      <td>6996.683594</td>\n",
              "      <td>3498.341797</td>\n",
              "    </tr>\n",
              "    <tr>\n",
              "      <th>std</th>\n",
              "      <td>144.722127</td>\n",
              "      <td>2.890898</td>\n",
              "      <td>18147.675517</td>\n",
              "      <td>8370.882366</td>\n",
              "      <td>10.627145</td>\n",
              "      <td>3628.419932</td>\n",
              "      <td>1814.209966</td>\n",
              "    </tr>\n",
              "    <tr>\n",
              "      <th>min</th>\n",
              "      <td>1.000000</td>\n",
              "      <td>8.000000</td>\n",
              "      <td>15750.000000</td>\n",
              "      <td>9000.000000</td>\n",
              "      <td>63.000000</td>\n",
              "      <td>3150.000000</td>\n",
              "      <td>1575.000000</td>\n",
              "    </tr>\n",
              "    <tr>\n",
              "      <th>25%</th>\n",
              "      <td>106.750000</td>\n",
              "      <td>12.000000</td>\n",
              "      <td>24000.000000</td>\n",
              "      <td>12750.000000</td>\n",
              "      <td>72.000000</td>\n",
              "      <td>4800.000000</td>\n",
              "      <td>2400.000000</td>\n",
              "    </tr>\n",
              "    <tr>\n",
              "      <th>50%</th>\n",
              "      <td>234.500000</td>\n",
              "      <td>12.000000</td>\n",
              "      <td>29100.000000</td>\n",
              "      <td>15000.000000</td>\n",
              "      <td>81.000000</td>\n",
              "      <td>5820.000000</td>\n",
              "      <td>2910.000000</td>\n",
              "    </tr>\n",
              "    <tr>\n",
              "      <th>75%</th>\n",
              "      <td>362.250000</td>\n",
              "      <td>15.000000</td>\n",
              "      <td>37800.000000</td>\n",
              "      <td>17617.500000</td>\n",
              "      <td>91.000000</td>\n",
              "      <td>7590.000000</td>\n",
              "      <td>3795.000000</td>\n",
              "    </tr>\n",
              "    <tr>\n",
              "      <th>max</th>\n",
              "      <td>474.000000</td>\n",
              "      <td>21.000000</td>\n",
              "      <td>135000.000000</td>\n",
              "      <td>79980.000000</td>\n",
              "      <td>98.000000</td>\n",
              "      <td>27000.000000</td>\n",
              "      <td>13500.000000</td>\n",
              "    </tr>\n",
              "  </tbody>\n",
              "</table>\n",
              "</div>"
            ],
            "text/plain": [
              "               id      estudo  ...  cartao_credito   Emprestimos\n",
              "count  512.000000  512.000000  ...      512.000000    512.000000\n",
              "mean   235.636719   13.552734  ...     6996.683594   3498.341797\n",
              "std    144.722127    2.890898  ...     3628.419932   1814.209966\n",
              "min      1.000000    8.000000  ...     3150.000000   1575.000000\n",
              "25%    106.750000   12.000000  ...     4800.000000   2400.000000\n",
              "50%    234.500000   12.000000  ...     5820.000000   2910.000000\n",
              "75%    362.250000   15.000000  ...     7590.000000   3795.000000\n",
              "max    474.000000   21.000000  ...    27000.000000  13500.000000\n",
              "\n",
              "[8 rows x 7 columns]"
            ]
          },
          "metadata": {
            "tags": []
          },
          "execution_count": 30
        }
      ]
    },
    {
      "cell_type": "code",
      "metadata": {
        "id": "LEPsX8DfoNU6",
        "colab_type": "code",
        "colab": {
          "base_uri": "https://localhost:8080/",
          "height": 170
        },
        "outputId": "3ed2b64d-aa9d-4322-e844-eadd503fee19"
      },
      "source": [
        "banco.describe().estudo"
      ],
      "execution_count": null,
      "outputs": [
        {
          "output_type": "execute_result",
          "data": {
            "text/plain": [
              "count    512.000000\n",
              "mean      13.552734\n",
              "std        2.890898\n",
              "min        8.000000\n",
              "25%       12.000000\n",
              "50%       12.000000\n",
              "75%       15.000000\n",
              "max       21.000000\n",
              "Name: estudo, dtype: float64"
            ]
          },
          "metadata": {
            "tags": []
          },
          "execution_count": 31
        }
      ]
    },
    {
      "cell_type": "code",
      "metadata": {
        "id": "6IPIx9Ayolz5",
        "colab_type": "code",
        "colab": {
          "base_uri": "https://localhost:8080/",
          "height": 34
        },
        "outputId": "8e3e2d85-2a22-4b7b-e0e8-1fc2443d4411"
      },
      "source": [
        "banco.shape"
      ],
      "execution_count": null,
      "outputs": [
        {
          "output_type": "execute_result",
          "data": {
            "text/plain": [
              "(512, 10)"
            ]
          },
          "metadata": {
            "tags": []
          },
          "execution_count": 32
        }
      ]
    },
    {
      "cell_type": "code",
      "metadata": {
        "id": "JroL4aySo6PB",
        "colab_type": "code",
        "colab": {
          "base_uri": "https://localhost:8080/",
          "height": 309
        },
        "outputId": "f99f154c-cf3a-4055-ef8e-882c4e07e859"
      },
      "source": [
        "banco_1 = banco.dropna()\n",
        "banco_1.head()"
      ],
      "execution_count": null,
      "outputs": [
        {
          "output_type": "execute_result",
          "data": {
            "text/html": [
              "<div>\n",
              "<style scoped>\n",
              "    .dataframe tbody tr th:only-of-type {\n",
              "        vertical-align: middle;\n",
              "    }\n",
              "\n",
              "    .dataframe tbody tr th {\n",
              "        vertical-align: top;\n",
              "    }\n",
              "\n",
              "    .dataframe thead th {\n",
              "        text-align: right;\n",
              "    }\n",
              "</style>\n",
              "<table border=\"1\" class=\"dataframe\">\n",
              "  <thead>\n",
              "    <tr style=\"text-align: right;\">\n",
              "      <th></th>\n",
              "      <th>id</th>\n",
              "      <th>datanasc</th>\n",
              "      <th>sexo</th>\n",
              "      <th>estudo</th>\n",
              "      <th>Produto</th>\n",
              "      <th>salario</th>\n",
              "      <th>salario_inicial</th>\n",
              "      <th>temp_servico</th>\n",
              "      <th>cartao_credito</th>\n",
              "      <th>Emprestimos</th>\n",
              "    </tr>\n",
              "  </thead>\n",
              "  <tbody>\n",
              "    <tr>\n",
              "      <th>1</th>\n",
              "      <td>2</td>\n",
              "      <td>1958-05-23</td>\n",
              "      <td>Masculino</td>\n",
              "      <td>16</td>\n",
              "      <td>C</td>\n",
              "      <td>40200.0</td>\n",
              "      <td>18750</td>\n",
              "      <td>98</td>\n",
              "      <td>8040</td>\n",
              "      <td>4020.0</td>\n",
              "    </tr>\n",
              "    <tr>\n",
              "      <th>2</th>\n",
              "      <td>3</td>\n",
              "      <td>1929-07-26</td>\n",
              "      <td>Feminino</td>\n",
              "      <td>12</td>\n",
              "      <td>C</td>\n",
              "      <td>21450.0</td>\n",
              "      <td>12000</td>\n",
              "      <td>98</td>\n",
              "      <td>4290</td>\n",
              "      <td>2145.0</td>\n",
              "    </tr>\n",
              "    <tr>\n",
              "      <th>3</th>\n",
              "      <td>4</td>\n",
              "      <td>1947-04-15</td>\n",
              "      <td>Feminino</td>\n",
              "      <td>8</td>\n",
              "      <td>C</td>\n",
              "      <td>21900.0</td>\n",
              "      <td>13200</td>\n",
              "      <td>98</td>\n",
              "      <td>4380</td>\n",
              "      <td>2190.0</td>\n",
              "    </tr>\n",
              "    <tr>\n",
              "      <th>4</th>\n",
              "      <td>5</td>\n",
              "      <td>1955-02-09</td>\n",
              "      <td>Masculino</td>\n",
              "      <td>15</td>\n",
              "      <td>C</td>\n",
              "      <td>45000.0</td>\n",
              "      <td>21000</td>\n",
              "      <td>98</td>\n",
              "      <td>9000</td>\n",
              "      <td>4500.0</td>\n",
              "    </tr>\n",
              "    <tr>\n",
              "      <th>5</th>\n",
              "      <td>6</td>\n",
              "      <td>1958-08-22</td>\n",
              "      <td>Masculino</td>\n",
              "      <td>15</td>\n",
              "      <td>C</td>\n",
              "      <td>32100.0</td>\n",
              "      <td>13500</td>\n",
              "      <td>98</td>\n",
              "      <td>6420</td>\n",
              "      <td>3210.0</td>\n",
              "    </tr>\n",
              "  </tbody>\n",
              "</table>\n",
              "</div>"
            ],
            "text/plain": [
              "   id   datanasc       sexo  ...  temp_servico cartao_credito  Emprestimos\n",
              "1   2 1958-05-23  Masculino  ...            98           8040       4020.0\n",
              "2   3 1929-07-26   Feminino  ...            98           4290       2145.0\n",
              "3   4 1947-04-15   Feminino  ...            98           4380       2190.0\n",
              "4   5 1955-02-09  Masculino  ...            98           9000       4500.0\n",
              "5   6 1958-08-22  Masculino  ...            98           6420       3210.0\n",
              "\n",
              "[5 rows x 10 columns]"
            ]
          },
          "metadata": {
            "tags": []
          },
          "execution_count": 35
        }
      ]
    },
    {
      "cell_type": "code",
      "metadata": {
        "id": "dO-JUC5DpEyw",
        "colab_type": "code",
        "colab": {
          "base_uri": "https://localhost:8080/",
          "height": 34
        },
        "outputId": "c3020d7e-ee3c-47fc-8b2b-36964ab7374d"
      },
      "source": [
        "banco_1.shape"
      ],
      "execution_count": null,
      "outputs": [
        {
          "output_type": "execute_result",
          "data": {
            "text/plain": [
              "(511, 10)"
            ]
          },
          "metadata": {
            "tags": []
          },
          "execution_count": 36
        }
      ]
    },
    {
      "cell_type": "code",
      "metadata": {
        "id": "gDRXZ3E3pULx",
        "colab_type": "code",
        "colab": {
          "base_uri": "https://localhost:8080/",
          "height": 204
        },
        "outputId": "a790befa-78c2-48ea-fed5-1ae3e62ca9b4"
      },
      "source": [
        "missing_count = banco.isnull().sum()\n",
        "missing_count"
      ],
      "execution_count": null,
      "outputs": [
        {
          "output_type": "execute_result",
          "data": {
            "text/plain": [
              "id                 0\n",
              "datanasc           0\n",
              "sexo               0\n",
              "estudo             0\n",
              "Produto            0\n",
              "salario            1\n",
              "salario_inicial    0\n",
              "temp_servico       0\n",
              "cartao_credito     0\n",
              "Emprestimos        0\n",
              "dtype: int64"
            ]
          },
          "metadata": {
            "tags": []
          },
          "execution_count": 40
        }
      ]
    },
    {
      "cell_type": "code",
      "metadata": {
        "id": "zxcHAEkmpuh6",
        "colab_type": "code",
        "colab": {
          "base_uri": "https://localhost:8080/",
          "height": 309
        },
        "outputId": "21f1100d-0b4a-4793-c5d6-97504965fa6f"
      },
      "source": [
        "banco['salario'].fillna(banco['salario'].mean(), inplace = True)\n",
        "banco.head()"
      ],
      "execution_count": null,
      "outputs": [
        {
          "output_type": "execute_result",
          "data": {
            "text/html": [
              "<div>\n",
              "<style scoped>\n",
              "    .dataframe tbody tr th:only-of-type {\n",
              "        vertical-align: middle;\n",
              "    }\n",
              "\n",
              "    .dataframe tbody tr th {\n",
              "        vertical-align: top;\n",
              "    }\n",
              "\n",
              "    .dataframe thead th {\n",
              "        text-align: right;\n",
              "    }\n",
              "</style>\n",
              "<table border=\"1\" class=\"dataframe\">\n",
              "  <thead>\n",
              "    <tr style=\"text-align: right;\">\n",
              "      <th></th>\n",
              "      <th>id</th>\n",
              "      <th>datanasc</th>\n",
              "      <th>sexo</th>\n",
              "      <th>estudo</th>\n",
              "      <th>Produto</th>\n",
              "      <th>salario</th>\n",
              "      <th>salario_inicial</th>\n",
              "      <th>temp_servico</th>\n",
              "      <th>cartao_credito</th>\n",
              "      <th>Emprestimos</th>\n",
              "    </tr>\n",
              "  </thead>\n",
              "  <tbody>\n",
              "    <tr>\n",
              "      <th>0</th>\n",
              "      <td>1</td>\n",
              "      <td>1952-02-03</td>\n",
              "      <td>Masculino</td>\n",
              "      <td>15</td>\n",
              "      <td>A</td>\n",
              "      <td>34954.031311</td>\n",
              "      <td>27000</td>\n",
              "      <td>98</td>\n",
              "      <td>10000</td>\n",
              "      <td>5000.0</td>\n",
              "    </tr>\n",
              "    <tr>\n",
              "      <th>1</th>\n",
              "      <td>2</td>\n",
              "      <td>1958-05-23</td>\n",
              "      <td>Masculino</td>\n",
              "      <td>16</td>\n",
              "      <td>C</td>\n",
              "      <td>40200.000000</td>\n",
              "      <td>18750</td>\n",
              "      <td>98</td>\n",
              "      <td>8040</td>\n",
              "      <td>4020.0</td>\n",
              "    </tr>\n",
              "    <tr>\n",
              "      <th>2</th>\n",
              "      <td>3</td>\n",
              "      <td>1929-07-26</td>\n",
              "      <td>Feminino</td>\n",
              "      <td>12</td>\n",
              "      <td>C</td>\n",
              "      <td>21450.000000</td>\n",
              "      <td>12000</td>\n",
              "      <td>98</td>\n",
              "      <td>4290</td>\n",
              "      <td>2145.0</td>\n",
              "    </tr>\n",
              "    <tr>\n",
              "      <th>3</th>\n",
              "      <td>4</td>\n",
              "      <td>1947-04-15</td>\n",
              "      <td>Feminino</td>\n",
              "      <td>8</td>\n",
              "      <td>C</td>\n",
              "      <td>21900.000000</td>\n",
              "      <td>13200</td>\n",
              "      <td>98</td>\n",
              "      <td>4380</td>\n",
              "      <td>2190.0</td>\n",
              "    </tr>\n",
              "    <tr>\n",
              "      <th>4</th>\n",
              "      <td>5</td>\n",
              "      <td>1955-02-09</td>\n",
              "      <td>Masculino</td>\n",
              "      <td>15</td>\n",
              "      <td>C</td>\n",
              "      <td>45000.000000</td>\n",
              "      <td>21000</td>\n",
              "      <td>98</td>\n",
              "      <td>9000</td>\n",
              "      <td>4500.0</td>\n",
              "    </tr>\n",
              "  </tbody>\n",
              "</table>\n",
              "</div>"
            ],
            "text/plain": [
              "   id   datanasc       sexo  ...  temp_servico cartao_credito  Emprestimos\n",
              "0   1 1952-02-03  Masculino  ...            98          10000       5000.0\n",
              "1   2 1958-05-23  Masculino  ...            98           8040       4020.0\n",
              "2   3 1929-07-26   Feminino  ...            98           4290       2145.0\n",
              "3   4 1947-04-15   Feminino  ...            98           4380       2190.0\n",
              "4   5 1955-02-09  Masculino  ...            98           9000       4500.0\n",
              "\n",
              "[5 rows x 10 columns]"
            ]
          },
          "metadata": {
            "tags": []
          },
          "execution_count": 43
        }
      ]
    },
    {
      "cell_type": "code",
      "metadata": {
        "id": "zSO71d4ptgp4",
        "colab_type": "code",
        "colab": {
          "base_uri": "https://localhost:8080/",
          "height": 309
        },
        "outputId": "63071e66-8131-4bd5-85a8-2bbf12d1a24e"
      },
      "source": [
        "eliminando_linhas = banco.drop(2)\n",
        "eliminando_linhas.head()"
      ],
      "execution_count": null,
      "outputs": [
        {
          "output_type": "execute_result",
          "data": {
            "text/html": [
              "<div>\n",
              "<style scoped>\n",
              "    .dataframe tbody tr th:only-of-type {\n",
              "        vertical-align: middle;\n",
              "    }\n",
              "\n",
              "    .dataframe tbody tr th {\n",
              "        vertical-align: top;\n",
              "    }\n",
              "\n",
              "    .dataframe thead th {\n",
              "        text-align: right;\n",
              "    }\n",
              "</style>\n",
              "<table border=\"1\" class=\"dataframe\">\n",
              "  <thead>\n",
              "    <tr style=\"text-align: right;\">\n",
              "      <th></th>\n",
              "      <th>id</th>\n",
              "      <th>datanasc</th>\n",
              "      <th>sexo</th>\n",
              "      <th>estudo</th>\n",
              "      <th>Produto</th>\n",
              "      <th>salario</th>\n",
              "      <th>salario_inicial</th>\n",
              "      <th>temp_servico</th>\n",
              "      <th>cartao_credito</th>\n",
              "      <th>Emprestimos</th>\n",
              "    </tr>\n",
              "  </thead>\n",
              "  <tbody>\n",
              "    <tr>\n",
              "      <th>0</th>\n",
              "      <td>1</td>\n",
              "      <td>1952-02-03</td>\n",
              "      <td>Masculino</td>\n",
              "      <td>15</td>\n",
              "      <td>A</td>\n",
              "      <td>34954.031311</td>\n",
              "      <td>27000</td>\n",
              "      <td>98</td>\n",
              "      <td>10000</td>\n",
              "      <td>5000.0</td>\n",
              "    </tr>\n",
              "    <tr>\n",
              "      <th>1</th>\n",
              "      <td>2</td>\n",
              "      <td>1958-05-23</td>\n",
              "      <td>Masculino</td>\n",
              "      <td>16</td>\n",
              "      <td>C</td>\n",
              "      <td>40200.000000</td>\n",
              "      <td>18750</td>\n",
              "      <td>98</td>\n",
              "      <td>8040</td>\n",
              "      <td>4020.0</td>\n",
              "    </tr>\n",
              "    <tr>\n",
              "      <th>3</th>\n",
              "      <td>4</td>\n",
              "      <td>1947-04-15</td>\n",
              "      <td>Feminino</td>\n",
              "      <td>8</td>\n",
              "      <td>C</td>\n",
              "      <td>21900.000000</td>\n",
              "      <td>13200</td>\n",
              "      <td>98</td>\n",
              "      <td>4380</td>\n",
              "      <td>2190.0</td>\n",
              "    </tr>\n",
              "    <tr>\n",
              "      <th>4</th>\n",
              "      <td>5</td>\n",
              "      <td>1955-02-09</td>\n",
              "      <td>Masculino</td>\n",
              "      <td>15</td>\n",
              "      <td>C</td>\n",
              "      <td>45000.000000</td>\n",
              "      <td>21000</td>\n",
              "      <td>98</td>\n",
              "      <td>9000</td>\n",
              "      <td>4500.0</td>\n",
              "    </tr>\n",
              "    <tr>\n",
              "      <th>5</th>\n",
              "      <td>6</td>\n",
              "      <td>1958-08-22</td>\n",
              "      <td>Masculino</td>\n",
              "      <td>15</td>\n",
              "      <td>C</td>\n",
              "      <td>32100.000000</td>\n",
              "      <td>13500</td>\n",
              "      <td>98</td>\n",
              "      <td>6420</td>\n",
              "      <td>3210.0</td>\n",
              "    </tr>\n",
              "  </tbody>\n",
              "</table>\n",
              "</div>"
            ],
            "text/plain": [
              "   id   datanasc       sexo  ...  temp_servico cartao_credito  Emprestimos\n",
              "0   1 1952-02-03  Masculino  ...            98          10000       5000.0\n",
              "1   2 1958-05-23  Masculino  ...            98           8040       4020.0\n",
              "3   4 1947-04-15   Feminino  ...            98           4380       2190.0\n",
              "4   5 1955-02-09  Masculino  ...            98           9000       4500.0\n",
              "5   6 1958-08-22  Masculino  ...            98           6420       3210.0\n",
              "\n",
              "[5 rows x 10 columns]"
            ]
          },
          "metadata": {
            "tags": []
          },
          "execution_count": 44
        }
      ]
    },
    {
      "cell_type": "code",
      "metadata": {
        "id": "NuCoxD8yvk4t",
        "colab_type": "code",
        "colab": {
          "base_uri": "https://localhost:8080/",
          "height": 204
        },
        "outputId": "77613c52-bd21-4c26-cd58-00cf7849b299"
      },
      "source": [
        "eliminando_colunas = banco.drop(['datanasc','salario_inicial'],axis=1)\n",
        "eliminando_colunas.head()"
      ],
      "execution_count": null,
      "outputs": [
        {
          "output_type": "execute_result",
          "data": {
            "text/html": [
              "<div>\n",
              "<style scoped>\n",
              "    .dataframe tbody tr th:only-of-type {\n",
              "        vertical-align: middle;\n",
              "    }\n",
              "\n",
              "    .dataframe tbody tr th {\n",
              "        vertical-align: top;\n",
              "    }\n",
              "\n",
              "    .dataframe thead th {\n",
              "        text-align: right;\n",
              "    }\n",
              "</style>\n",
              "<table border=\"1\" class=\"dataframe\">\n",
              "  <thead>\n",
              "    <tr style=\"text-align: right;\">\n",
              "      <th></th>\n",
              "      <th>id</th>\n",
              "      <th>sexo</th>\n",
              "      <th>estudo</th>\n",
              "      <th>Produto</th>\n",
              "      <th>salario</th>\n",
              "      <th>temp_servico</th>\n",
              "      <th>cartao_credito</th>\n",
              "      <th>Emprestimos</th>\n",
              "    </tr>\n",
              "  </thead>\n",
              "  <tbody>\n",
              "    <tr>\n",
              "      <th>0</th>\n",
              "      <td>1</td>\n",
              "      <td>Masculino</td>\n",
              "      <td>15</td>\n",
              "      <td>A</td>\n",
              "      <td>34954.031311</td>\n",
              "      <td>98</td>\n",
              "      <td>10000</td>\n",
              "      <td>5000.0</td>\n",
              "    </tr>\n",
              "    <tr>\n",
              "      <th>1</th>\n",
              "      <td>2</td>\n",
              "      <td>Masculino</td>\n",
              "      <td>16</td>\n",
              "      <td>C</td>\n",
              "      <td>40200.000000</td>\n",
              "      <td>98</td>\n",
              "      <td>8040</td>\n",
              "      <td>4020.0</td>\n",
              "    </tr>\n",
              "    <tr>\n",
              "      <th>2</th>\n",
              "      <td>3</td>\n",
              "      <td>Feminino</td>\n",
              "      <td>12</td>\n",
              "      <td>C</td>\n",
              "      <td>21450.000000</td>\n",
              "      <td>98</td>\n",
              "      <td>4290</td>\n",
              "      <td>2145.0</td>\n",
              "    </tr>\n",
              "    <tr>\n",
              "      <th>3</th>\n",
              "      <td>4</td>\n",
              "      <td>Feminino</td>\n",
              "      <td>8</td>\n",
              "      <td>C</td>\n",
              "      <td>21900.000000</td>\n",
              "      <td>98</td>\n",
              "      <td>4380</td>\n",
              "      <td>2190.0</td>\n",
              "    </tr>\n",
              "    <tr>\n",
              "      <th>4</th>\n",
              "      <td>5</td>\n",
              "      <td>Masculino</td>\n",
              "      <td>15</td>\n",
              "      <td>C</td>\n",
              "      <td>45000.000000</td>\n",
              "      <td>98</td>\n",
              "      <td>9000</td>\n",
              "      <td>4500.0</td>\n",
              "    </tr>\n",
              "  </tbody>\n",
              "</table>\n",
              "</div>"
            ],
            "text/plain": [
              "   id       sexo  estudo  ... temp_servico  cartao_credito  Emprestimos\n",
              "0   1  Masculino      15  ...           98           10000       5000.0\n",
              "1   2  Masculino      16  ...           98            8040       4020.0\n",
              "2   3   Feminino      12  ...           98            4290       2145.0\n",
              "3   4   Feminino       8  ...           98            4380       2190.0\n",
              "4   5  Masculino      15  ...           98            9000       4500.0\n",
              "\n",
              "[5 rows x 8 columns]"
            ]
          },
          "metadata": {
            "tags": []
          },
          "execution_count": 47
        }
      ]
    },
    {
      "cell_type": "code",
      "metadata": {
        "id": "rwsetVgbwCZn",
        "colab_type": "code",
        "colab": {
          "base_uri": "https://localhost:8080/",
          "height": 309
        },
        "outputId": "92348598-af19-463a-f26f-5aed11552b09"
      },
      "source": [
        "banco.head()"
      ],
      "execution_count": null,
      "outputs": [
        {
          "output_type": "execute_result",
          "data": {
            "text/html": [
              "<div>\n",
              "<style scoped>\n",
              "    .dataframe tbody tr th:only-of-type {\n",
              "        vertical-align: middle;\n",
              "    }\n",
              "\n",
              "    .dataframe tbody tr th {\n",
              "        vertical-align: top;\n",
              "    }\n",
              "\n",
              "    .dataframe thead th {\n",
              "        text-align: right;\n",
              "    }\n",
              "</style>\n",
              "<table border=\"1\" class=\"dataframe\">\n",
              "  <thead>\n",
              "    <tr style=\"text-align: right;\">\n",
              "      <th></th>\n",
              "      <th>id</th>\n",
              "      <th>datanasc</th>\n",
              "      <th>sexo</th>\n",
              "      <th>estudo</th>\n",
              "      <th>Produto</th>\n",
              "      <th>salario</th>\n",
              "      <th>salario_inicial</th>\n",
              "      <th>temp_servico</th>\n",
              "      <th>cartao_credito</th>\n",
              "      <th>Emprestimos</th>\n",
              "    </tr>\n",
              "  </thead>\n",
              "  <tbody>\n",
              "    <tr>\n",
              "      <th>0</th>\n",
              "      <td>1</td>\n",
              "      <td>1952-02-03</td>\n",
              "      <td>Masculino</td>\n",
              "      <td>15</td>\n",
              "      <td>A</td>\n",
              "      <td>34954.031311</td>\n",
              "      <td>27000</td>\n",
              "      <td>98</td>\n",
              "      <td>10000</td>\n",
              "      <td>5000.0</td>\n",
              "    </tr>\n",
              "    <tr>\n",
              "      <th>1</th>\n",
              "      <td>2</td>\n",
              "      <td>1958-05-23</td>\n",
              "      <td>Masculino</td>\n",
              "      <td>16</td>\n",
              "      <td>C</td>\n",
              "      <td>40200.000000</td>\n",
              "      <td>18750</td>\n",
              "      <td>98</td>\n",
              "      <td>8040</td>\n",
              "      <td>4020.0</td>\n",
              "    </tr>\n",
              "    <tr>\n",
              "      <th>2</th>\n",
              "      <td>3</td>\n",
              "      <td>1929-07-26</td>\n",
              "      <td>Feminino</td>\n",
              "      <td>12</td>\n",
              "      <td>C</td>\n",
              "      <td>21450.000000</td>\n",
              "      <td>12000</td>\n",
              "      <td>98</td>\n",
              "      <td>4290</td>\n",
              "      <td>2145.0</td>\n",
              "    </tr>\n",
              "    <tr>\n",
              "      <th>3</th>\n",
              "      <td>4</td>\n",
              "      <td>1947-04-15</td>\n",
              "      <td>Feminino</td>\n",
              "      <td>8</td>\n",
              "      <td>C</td>\n",
              "      <td>21900.000000</td>\n",
              "      <td>13200</td>\n",
              "      <td>98</td>\n",
              "      <td>4380</td>\n",
              "      <td>2190.0</td>\n",
              "    </tr>\n",
              "    <tr>\n",
              "      <th>4</th>\n",
              "      <td>5</td>\n",
              "      <td>1955-02-09</td>\n",
              "      <td>Masculino</td>\n",
              "      <td>15</td>\n",
              "      <td>C</td>\n",
              "      <td>45000.000000</td>\n",
              "      <td>21000</td>\n",
              "      <td>98</td>\n",
              "      <td>9000</td>\n",
              "      <td>4500.0</td>\n",
              "    </tr>\n",
              "  </tbody>\n",
              "</table>\n",
              "</div>"
            ],
            "text/plain": [
              "   id   datanasc       sexo  ...  temp_servico cartao_credito  Emprestimos\n",
              "0   1 1952-02-03  Masculino  ...            98          10000       5000.0\n",
              "1   2 1958-05-23  Masculino  ...            98           8040       4020.0\n",
              "2   3 1929-07-26   Feminino  ...            98           4290       2145.0\n",
              "3   4 1947-04-15   Feminino  ...            98           4380       2190.0\n",
              "4   5 1955-02-09  Masculino  ...            98           9000       4500.0\n",
              "\n",
              "[5 rows x 10 columns]"
            ]
          },
          "metadata": {
            "tags": []
          },
          "execution_count": 48
        }
      ]
    },
    {
      "cell_type": "code",
      "metadata": {
        "id": "QNJSpzRCwd74",
        "colab_type": "code",
        "colab": {
          "base_uri": "https://localhost:8080/",
          "height": 309
        },
        "outputId": "60ba25fb-612d-457a-f542-b1d615ffc658"
      },
      "source": [
        "bins = [1,8,15,22]\n",
        "grupo = ['inicio','intermediário','avançado']\n",
        "banco['fx_estudo']=pd.cut(banco['estudo'],bins,labels=grupo)\n",
        "banco.head()"
      ],
      "execution_count": null,
      "outputs": [
        {
          "output_type": "execute_result",
          "data": {
            "text/html": [
              "<div>\n",
              "<style scoped>\n",
              "    .dataframe tbody tr th:only-of-type {\n",
              "        vertical-align: middle;\n",
              "    }\n",
              "\n",
              "    .dataframe tbody tr th {\n",
              "        vertical-align: top;\n",
              "    }\n",
              "\n",
              "    .dataframe thead th {\n",
              "        text-align: right;\n",
              "    }\n",
              "</style>\n",
              "<table border=\"1\" class=\"dataframe\">\n",
              "  <thead>\n",
              "    <tr style=\"text-align: right;\">\n",
              "      <th></th>\n",
              "      <th>id</th>\n",
              "      <th>datanasc</th>\n",
              "      <th>sexo</th>\n",
              "      <th>estudo</th>\n",
              "      <th>Produto</th>\n",
              "      <th>salario</th>\n",
              "      <th>salario_inicial</th>\n",
              "      <th>temp_servico</th>\n",
              "      <th>cartao_credito</th>\n",
              "      <th>Emprestimos</th>\n",
              "      <th>fx_estudo</th>\n",
              "    </tr>\n",
              "  </thead>\n",
              "  <tbody>\n",
              "    <tr>\n",
              "      <th>0</th>\n",
              "      <td>1</td>\n",
              "      <td>1952-02-03</td>\n",
              "      <td>Masculino</td>\n",
              "      <td>15</td>\n",
              "      <td>A</td>\n",
              "      <td>34954.031311</td>\n",
              "      <td>27000</td>\n",
              "      <td>98</td>\n",
              "      <td>10000</td>\n",
              "      <td>5000.0</td>\n",
              "      <td>intermediário</td>\n",
              "    </tr>\n",
              "    <tr>\n",
              "      <th>1</th>\n",
              "      <td>2</td>\n",
              "      <td>1958-05-23</td>\n",
              "      <td>Masculino</td>\n",
              "      <td>16</td>\n",
              "      <td>C</td>\n",
              "      <td>40200.000000</td>\n",
              "      <td>18750</td>\n",
              "      <td>98</td>\n",
              "      <td>8040</td>\n",
              "      <td>4020.0</td>\n",
              "      <td>avançado</td>\n",
              "    </tr>\n",
              "    <tr>\n",
              "      <th>2</th>\n",
              "      <td>3</td>\n",
              "      <td>1929-07-26</td>\n",
              "      <td>Feminino</td>\n",
              "      <td>12</td>\n",
              "      <td>C</td>\n",
              "      <td>21450.000000</td>\n",
              "      <td>12000</td>\n",
              "      <td>98</td>\n",
              "      <td>4290</td>\n",
              "      <td>2145.0</td>\n",
              "      <td>intermediário</td>\n",
              "    </tr>\n",
              "    <tr>\n",
              "      <th>3</th>\n",
              "      <td>4</td>\n",
              "      <td>1947-04-15</td>\n",
              "      <td>Feminino</td>\n",
              "      <td>8</td>\n",
              "      <td>C</td>\n",
              "      <td>21900.000000</td>\n",
              "      <td>13200</td>\n",
              "      <td>98</td>\n",
              "      <td>4380</td>\n",
              "      <td>2190.0</td>\n",
              "      <td>inicio</td>\n",
              "    </tr>\n",
              "    <tr>\n",
              "      <th>4</th>\n",
              "      <td>5</td>\n",
              "      <td>1955-02-09</td>\n",
              "      <td>Masculino</td>\n",
              "      <td>15</td>\n",
              "      <td>C</td>\n",
              "      <td>45000.000000</td>\n",
              "      <td>21000</td>\n",
              "      <td>98</td>\n",
              "      <td>9000</td>\n",
              "      <td>4500.0</td>\n",
              "      <td>intermediário</td>\n",
              "    </tr>\n",
              "  </tbody>\n",
              "</table>\n",
              "</div>"
            ],
            "text/plain": [
              "   id   datanasc       sexo  ...  cartao_credito Emprestimos      fx_estudo\n",
              "0   1 1952-02-03  Masculino  ...           10000      5000.0  intermediário\n",
              "1   2 1958-05-23  Masculino  ...            8040      4020.0       avançado\n",
              "2   3 1929-07-26   Feminino  ...            4290      2145.0  intermediário\n",
              "3   4 1947-04-15   Feminino  ...            4380      2190.0         inicio\n",
              "4   5 1955-02-09  Masculino  ...            9000      4500.0  intermediário\n",
              "\n",
              "[5 rows x 11 columns]"
            ]
          },
          "metadata": {
            "tags": []
          },
          "execution_count": 53
        }
      ]
    },
    {
      "cell_type": "code",
      "metadata": {
        "id": "AxVdSL9aw5aa",
        "colab_type": "code",
        "colab": {
          "base_uri": "https://localhost:8080/",
          "height": 85
        },
        "outputId": "4942d06f-0b07-4523-ab30-9230bc87082f"
      },
      "source": [
        "banco['fx_estudo'].value_counts()"
      ],
      "execution_count": null,
      "outputs": [
        {
          "output_type": "execute_result",
          "data": {
            "text/plain": [
              "intermediário    337\n",
              "avançado         120\n",
              "inicio            55\n",
              "Name: fx_estudo, dtype: int64"
            ]
          },
          "metadata": {
            "tags": []
          },
          "execution_count": 54
        }
      ]
    },
    {
      "cell_type": "code",
      "metadata": {
        "id": "kfH_4GLSx9hT",
        "colab_type": "code",
        "colab": {
          "base_uri": "https://localhost:8080/",
          "height": 204
        },
        "outputId": "7293b921-68be-45a2-c742-0db90e32ebd6"
      },
      "source": [
        "dummy = pd.get_dummies(banco['sexo'])\n",
        "dummy.head()"
      ],
      "execution_count": null,
      "outputs": [
        {
          "output_type": "execute_result",
          "data": {
            "text/html": [
              "<div>\n",
              "<style scoped>\n",
              "    .dataframe tbody tr th:only-of-type {\n",
              "        vertical-align: middle;\n",
              "    }\n",
              "\n",
              "    .dataframe tbody tr th {\n",
              "        vertical-align: top;\n",
              "    }\n",
              "\n",
              "    .dataframe thead th {\n",
              "        text-align: right;\n",
              "    }\n",
              "</style>\n",
              "<table border=\"1\" class=\"dataframe\">\n",
              "  <thead>\n",
              "    <tr style=\"text-align: right;\">\n",
              "      <th></th>\n",
              "      <th>Feminino</th>\n",
              "      <th>Masculino</th>\n",
              "    </tr>\n",
              "  </thead>\n",
              "  <tbody>\n",
              "    <tr>\n",
              "      <th>0</th>\n",
              "      <td>0</td>\n",
              "      <td>1</td>\n",
              "    </tr>\n",
              "    <tr>\n",
              "      <th>1</th>\n",
              "      <td>0</td>\n",
              "      <td>1</td>\n",
              "    </tr>\n",
              "    <tr>\n",
              "      <th>2</th>\n",
              "      <td>1</td>\n",
              "      <td>0</td>\n",
              "    </tr>\n",
              "    <tr>\n",
              "      <th>3</th>\n",
              "      <td>1</td>\n",
              "      <td>0</td>\n",
              "    </tr>\n",
              "    <tr>\n",
              "      <th>4</th>\n",
              "      <td>0</td>\n",
              "      <td>1</td>\n",
              "    </tr>\n",
              "  </tbody>\n",
              "</table>\n",
              "</div>"
            ],
            "text/plain": [
              "   Feminino  Masculino\n",
              "0         0          1\n",
              "1         0          1\n",
              "2         1          0\n",
              "3         1          0\n",
              "4         0          1"
            ]
          },
          "metadata": {
            "tags": []
          },
          "execution_count": 55
        }
      ]
    },
    {
      "cell_type": "code",
      "metadata": {
        "id": "IEiQLozo6hZb",
        "colab_type": "code",
        "colab": {
          "base_uri": "https://localhost:8080/",
          "height": 309
        },
        "outputId": "8f9b56d7-3cdf-4c34-ffef-9d7f7d9452cb"
      },
      "source": [
        "banco = pd.concat([banco, dummy], axis = 1)\n",
        "banco.head()"
      ],
      "execution_count": null,
      "outputs": [
        {
          "output_type": "execute_result",
          "data": {
            "text/html": [
              "<div>\n",
              "<style scoped>\n",
              "    .dataframe tbody tr th:only-of-type {\n",
              "        vertical-align: middle;\n",
              "    }\n",
              "\n",
              "    .dataframe tbody tr th {\n",
              "        vertical-align: top;\n",
              "    }\n",
              "\n",
              "    .dataframe thead th {\n",
              "        text-align: right;\n",
              "    }\n",
              "</style>\n",
              "<table border=\"1\" class=\"dataframe\">\n",
              "  <thead>\n",
              "    <tr style=\"text-align: right;\">\n",
              "      <th></th>\n",
              "      <th>id</th>\n",
              "      <th>datanasc</th>\n",
              "      <th>sexo</th>\n",
              "      <th>estudo</th>\n",
              "      <th>Produto</th>\n",
              "      <th>salario</th>\n",
              "      <th>salario_inicial</th>\n",
              "      <th>temp_servico</th>\n",
              "      <th>cartao_credito</th>\n",
              "      <th>Emprestimos</th>\n",
              "      <th>fx_estudo</th>\n",
              "      <th>Feminino</th>\n",
              "      <th>Masculino</th>\n",
              "    </tr>\n",
              "  </thead>\n",
              "  <tbody>\n",
              "    <tr>\n",
              "      <th>0</th>\n",
              "      <td>1</td>\n",
              "      <td>1952-02-03</td>\n",
              "      <td>Masculino</td>\n",
              "      <td>15</td>\n",
              "      <td>A</td>\n",
              "      <td>34954.031311</td>\n",
              "      <td>27000</td>\n",
              "      <td>98</td>\n",
              "      <td>10000</td>\n",
              "      <td>5000.0</td>\n",
              "      <td>intermediário</td>\n",
              "      <td>0</td>\n",
              "      <td>1</td>\n",
              "    </tr>\n",
              "    <tr>\n",
              "      <th>1</th>\n",
              "      <td>2</td>\n",
              "      <td>1958-05-23</td>\n",
              "      <td>Masculino</td>\n",
              "      <td>16</td>\n",
              "      <td>C</td>\n",
              "      <td>40200.000000</td>\n",
              "      <td>18750</td>\n",
              "      <td>98</td>\n",
              "      <td>8040</td>\n",
              "      <td>4020.0</td>\n",
              "      <td>avançado</td>\n",
              "      <td>0</td>\n",
              "      <td>1</td>\n",
              "    </tr>\n",
              "    <tr>\n",
              "      <th>2</th>\n",
              "      <td>3</td>\n",
              "      <td>1929-07-26</td>\n",
              "      <td>Feminino</td>\n",
              "      <td>12</td>\n",
              "      <td>C</td>\n",
              "      <td>21450.000000</td>\n",
              "      <td>12000</td>\n",
              "      <td>98</td>\n",
              "      <td>4290</td>\n",
              "      <td>2145.0</td>\n",
              "      <td>intermediário</td>\n",
              "      <td>1</td>\n",
              "      <td>0</td>\n",
              "    </tr>\n",
              "    <tr>\n",
              "      <th>3</th>\n",
              "      <td>4</td>\n",
              "      <td>1947-04-15</td>\n",
              "      <td>Feminino</td>\n",
              "      <td>8</td>\n",
              "      <td>C</td>\n",
              "      <td>21900.000000</td>\n",
              "      <td>13200</td>\n",
              "      <td>98</td>\n",
              "      <td>4380</td>\n",
              "      <td>2190.0</td>\n",
              "      <td>inicio</td>\n",
              "      <td>1</td>\n",
              "      <td>0</td>\n",
              "    </tr>\n",
              "    <tr>\n",
              "      <th>4</th>\n",
              "      <td>5</td>\n",
              "      <td>1955-02-09</td>\n",
              "      <td>Masculino</td>\n",
              "      <td>15</td>\n",
              "      <td>C</td>\n",
              "      <td>45000.000000</td>\n",
              "      <td>21000</td>\n",
              "      <td>98</td>\n",
              "      <td>9000</td>\n",
              "      <td>4500.0</td>\n",
              "      <td>intermediário</td>\n",
              "      <td>0</td>\n",
              "      <td>1</td>\n",
              "    </tr>\n",
              "  </tbody>\n",
              "</table>\n",
              "</div>"
            ],
            "text/plain": [
              "   id   datanasc       sexo  ...      fx_estudo Feminino  Masculino\n",
              "0   1 1952-02-03  Masculino  ...  intermediário        0          1\n",
              "1   2 1958-05-23  Masculino  ...       avançado        0          1\n",
              "2   3 1929-07-26   Feminino  ...  intermediário        1          0\n",
              "3   4 1947-04-15   Feminino  ...         inicio        1          0\n",
              "4   5 1955-02-09  Masculino  ...  intermediário        0          1\n",
              "\n",
              "[5 rows x 13 columns]"
            ]
          },
          "metadata": {
            "tags": []
          },
          "execution_count": 56
        }
      ]
    },
    {
      "cell_type": "code",
      "metadata": {
        "id": "9vudOvY07DU-",
        "colab_type": "code",
        "colab": {
          "base_uri": "https://localhost:8080/",
          "height": 204
        },
        "outputId": "16833cfb-b990-4f5b-a1ab-79f0e1d3da73"
      },
      "source": [
        "# Seleção de variaveis e linhas\n",
        "selecao = banco.loc[:,'id':'temp_servico']\n",
        "selecao.head()"
      ],
      "execution_count": null,
      "outputs": [
        {
          "output_type": "execute_result",
          "data": {
            "text/html": [
              "<div>\n",
              "<style scoped>\n",
              "    .dataframe tbody tr th:only-of-type {\n",
              "        vertical-align: middle;\n",
              "    }\n",
              "\n",
              "    .dataframe tbody tr th {\n",
              "        vertical-align: top;\n",
              "    }\n",
              "\n",
              "    .dataframe thead th {\n",
              "        text-align: right;\n",
              "    }\n",
              "</style>\n",
              "<table border=\"1\" class=\"dataframe\">\n",
              "  <thead>\n",
              "    <tr style=\"text-align: right;\">\n",
              "      <th></th>\n",
              "      <th>id</th>\n",
              "      <th>datanasc</th>\n",
              "      <th>sexo</th>\n",
              "      <th>estudo</th>\n",
              "      <th>Produto</th>\n",
              "      <th>salario</th>\n",
              "      <th>salario_inicial</th>\n",
              "      <th>temp_servico</th>\n",
              "    </tr>\n",
              "  </thead>\n",
              "  <tbody>\n",
              "    <tr>\n",
              "      <th>0</th>\n",
              "      <td>1</td>\n",
              "      <td>1952-02-03</td>\n",
              "      <td>Masculino</td>\n",
              "      <td>15</td>\n",
              "      <td>A</td>\n",
              "      <td>34954.031311</td>\n",
              "      <td>27000</td>\n",
              "      <td>98</td>\n",
              "    </tr>\n",
              "    <tr>\n",
              "      <th>1</th>\n",
              "      <td>2</td>\n",
              "      <td>1958-05-23</td>\n",
              "      <td>Masculino</td>\n",
              "      <td>16</td>\n",
              "      <td>C</td>\n",
              "      <td>40200.000000</td>\n",
              "      <td>18750</td>\n",
              "      <td>98</td>\n",
              "    </tr>\n",
              "    <tr>\n",
              "      <th>2</th>\n",
              "      <td>3</td>\n",
              "      <td>1929-07-26</td>\n",
              "      <td>Feminino</td>\n",
              "      <td>12</td>\n",
              "      <td>C</td>\n",
              "      <td>21450.000000</td>\n",
              "      <td>12000</td>\n",
              "      <td>98</td>\n",
              "    </tr>\n",
              "    <tr>\n",
              "      <th>3</th>\n",
              "      <td>4</td>\n",
              "      <td>1947-04-15</td>\n",
              "      <td>Feminino</td>\n",
              "      <td>8</td>\n",
              "      <td>C</td>\n",
              "      <td>21900.000000</td>\n",
              "      <td>13200</td>\n",
              "      <td>98</td>\n",
              "    </tr>\n",
              "    <tr>\n",
              "      <th>4</th>\n",
              "      <td>5</td>\n",
              "      <td>1955-02-09</td>\n",
              "      <td>Masculino</td>\n",
              "      <td>15</td>\n",
              "      <td>C</td>\n",
              "      <td>45000.000000</td>\n",
              "      <td>21000</td>\n",
              "      <td>98</td>\n",
              "    </tr>\n",
              "  </tbody>\n",
              "</table>\n",
              "</div>"
            ],
            "text/plain": [
              "   id   datanasc       sexo  ...       salario salario_inicial  temp_servico\n",
              "0   1 1952-02-03  Masculino  ...  34954.031311           27000            98\n",
              "1   2 1958-05-23  Masculino  ...  40200.000000           18750            98\n",
              "2   3 1929-07-26   Feminino  ...  21450.000000           12000            98\n",
              "3   4 1947-04-15   Feminino  ...  21900.000000           13200            98\n",
              "4   5 1955-02-09  Masculino  ...  45000.000000           21000            98\n",
              "\n",
              "[5 rows x 8 columns]"
            ]
          },
          "metadata": {
            "tags": []
          },
          "execution_count": 58
        }
      ]
    },
    {
      "cell_type": "code",
      "metadata": {
        "id": "UPvsFzBC8be1",
        "colab_type": "code",
        "colab": {
          "base_uri": "https://localhost:8080/",
          "height": 119
        },
        "outputId": "d7d717c4-e602-43fc-d9ac-f6a3036efafe"
      },
      "source": [
        "selecao1 = banco.loc[:,'id']\n",
        "selecao1.head()"
      ],
      "execution_count": null,
      "outputs": [
        {
          "output_type": "execute_result",
          "data": {
            "text/plain": [
              "0    1\n",
              "1    2\n",
              "2    3\n",
              "3    4\n",
              "4    5\n",
              "Name: id, dtype: int64"
            ]
          },
          "metadata": {
            "tags": []
          },
          "execution_count": 59
        }
      ]
    },
    {
      "cell_type": "code",
      "metadata": {
        "id": "qbGHlP0Q9HP1",
        "colab_type": "code",
        "colab": {
          "base_uri": "https://localhost:8080/",
          "height": 204
        },
        "outputId": "9923e72c-b4e5-40df-b092-7833e3791029"
      },
      "source": [
        "selecao2 = banco[['temp_servico','salario','id']]\n",
        "selecao2.head()"
      ],
      "execution_count": null,
      "outputs": [
        {
          "output_type": "execute_result",
          "data": {
            "text/html": [
              "<div>\n",
              "<style scoped>\n",
              "    .dataframe tbody tr th:only-of-type {\n",
              "        vertical-align: middle;\n",
              "    }\n",
              "\n",
              "    .dataframe tbody tr th {\n",
              "        vertical-align: top;\n",
              "    }\n",
              "\n",
              "    .dataframe thead th {\n",
              "        text-align: right;\n",
              "    }\n",
              "</style>\n",
              "<table border=\"1\" class=\"dataframe\">\n",
              "  <thead>\n",
              "    <tr style=\"text-align: right;\">\n",
              "      <th></th>\n",
              "      <th>temp_servico</th>\n",
              "      <th>salario</th>\n",
              "      <th>id</th>\n",
              "    </tr>\n",
              "  </thead>\n",
              "  <tbody>\n",
              "    <tr>\n",
              "      <th>0</th>\n",
              "      <td>98</td>\n",
              "      <td>34954.031311</td>\n",
              "      <td>1</td>\n",
              "    </tr>\n",
              "    <tr>\n",
              "      <th>1</th>\n",
              "      <td>98</td>\n",
              "      <td>40200.000000</td>\n",
              "      <td>2</td>\n",
              "    </tr>\n",
              "    <tr>\n",
              "      <th>2</th>\n",
              "      <td>98</td>\n",
              "      <td>21450.000000</td>\n",
              "      <td>3</td>\n",
              "    </tr>\n",
              "    <tr>\n",
              "      <th>3</th>\n",
              "      <td>98</td>\n",
              "      <td>21900.000000</td>\n",
              "      <td>4</td>\n",
              "    </tr>\n",
              "    <tr>\n",
              "      <th>4</th>\n",
              "      <td>98</td>\n",
              "      <td>45000.000000</td>\n",
              "      <td>5</td>\n",
              "    </tr>\n",
              "  </tbody>\n",
              "</table>\n",
              "</div>"
            ],
            "text/plain": [
              "   temp_servico       salario  id\n",
              "0            98  34954.031311   1\n",
              "1            98  40200.000000   2\n",
              "2            98  21450.000000   3\n",
              "3            98  21900.000000   4\n",
              "4            98  45000.000000   5"
            ]
          },
          "metadata": {
            "tags": []
          },
          "execution_count": 60
        }
      ]
    },
    {
      "cell_type": "code",
      "metadata": {
        "id": "wjFWxgFM9SFy",
        "colab_type": "code",
        "colab": {
          "base_uri": "https://localhost:8080/",
          "height": 309
        },
        "outputId": "c61c6a03-0ef4-490f-9e56-aaa2b0afea02"
      },
      "source": [
        "selecao3 = banco[banco.sexo == 'Feminino']\n",
        "selecao3.head()"
      ],
      "execution_count": null,
      "outputs": [
        {
          "output_type": "execute_result",
          "data": {
            "text/html": [
              "<div>\n",
              "<style scoped>\n",
              "    .dataframe tbody tr th:only-of-type {\n",
              "        vertical-align: middle;\n",
              "    }\n",
              "\n",
              "    .dataframe tbody tr th {\n",
              "        vertical-align: top;\n",
              "    }\n",
              "\n",
              "    .dataframe thead th {\n",
              "        text-align: right;\n",
              "    }\n",
              "</style>\n",
              "<table border=\"1\" class=\"dataframe\">\n",
              "  <thead>\n",
              "    <tr style=\"text-align: right;\">\n",
              "      <th></th>\n",
              "      <th>id</th>\n",
              "      <th>datanasc</th>\n",
              "      <th>sexo</th>\n",
              "      <th>estudo</th>\n",
              "      <th>Produto</th>\n",
              "      <th>salario</th>\n",
              "      <th>salario_inicial</th>\n",
              "      <th>temp_servico</th>\n",
              "      <th>cartao_credito</th>\n",
              "      <th>Emprestimos</th>\n",
              "      <th>fx_estudo</th>\n",
              "      <th>Feminino</th>\n",
              "      <th>Masculino</th>\n",
              "    </tr>\n",
              "  </thead>\n",
              "  <tbody>\n",
              "    <tr>\n",
              "      <th>2</th>\n",
              "      <td>3</td>\n",
              "      <td>1929-07-26</td>\n",
              "      <td>Feminino</td>\n",
              "      <td>12</td>\n",
              "      <td>C</td>\n",
              "      <td>21450.0</td>\n",
              "      <td>12000</td>\n",
              "      <td>98</td>\n",
              "      <td>4290</td>\n",
              "      <td>2145.0</td>\n",
              "      <td>intermediário</td>\n",
              "      <td>1</td>\n",
              "      <td>0</td>\n",
              "    </tr>\n",
              "    <tr>\n",
              "      <th>3</th>\n",
              "      <td>4</td>\n",
              "      <td>1947-04-15</td>\n",
              "      <td>Feminino</td>\n",
              "      <td>8</td>\n",
              "      <td>C</td>\n",
              "      <td>21900.0</td>\n",
              "      <td>13200</td>\n",
              "      <td>98</td>\n",
              "      <td>4380</td>\n",
              "      <td>2190.0</td>\n",
              "      <td>inicio</td>\n",
              "      <td>1</td>\n",
              "      <td>0</td>\n",
              "    </tr>\n",
              "    <tr>\n",
              "      <th>7</th>\n",
              "      <td>8</td>\n",
              "      <td>1966-05-06</td>\n",
              "      <td>Feminino</td>\n",
              "      <td>12</td>\n",
              "      <td>C</td>\n",
              "      <td>21900.0</td>\n",
              "      <td>9750</td>\n",
              "      <td>98</td>\n",
              "      <td>4380</td>\n",
              "      <td>2190.0</td>\n",
              "      <td>intermediário</td>\n",
              "      <td>1</td>\n",
              "      <td>0</td>\n",
              "    </tr>\n",
              "    <tr>\n",
              "      <th>8</th>\n",
              "      <td>9</td>\n",
              "      <td>1946-01-23</td>\n",
              "      <td>Feminino</td>\n",
              "      <td>15</td>\n",
              "      <td>C</td>\n",
              "      <td>27900.0</td>\n",
              "      <td>12750</td>\n",
              "      <td>98</td>\n",
              "      <td>5580</td>\n",
              "      <td>2790.0</td>\n",
              "      <td>intermediário</td>\n",
              "      <td>1</td>\n",
              "      <td>0</td>\n",
              "    </tr>\n",
              "    <tr>\n",
              "      <th>9</th>\n",
              "      <td>10</td>\n",
              "      <td>1946-02-13</td>\n",
              "      <td>Feminino</td>\n",
              "      <td>12</td>\n",
              "      <td>C</td>\n",
              "      <td>24000.0</td>\n",
              "      <td>13500</td>\n",
              "      <td>98</td>\n",
              "      <td>4800</td>\n",
              "      <td>2400.0</td>\n",
              "      <td>intermediário</td>\n",
              "      <td>1</td>\n",
              "      <td>0</td>\n",
              "    </tr>\n",
              "  </tbody>\n",
              "</table>\n",
              "</div>"
            ],
            "text/plain": [
              "   id   datanasc      sexo  ...      fx_estudo Feminino  Masculino\n",
              "2   3 1929-07-26  Feminino  ...  intermediário        1          0\n",
              "3   4 1947-04-15  Feminino  ...         inicio        1          0\n",
              "7   8 1966-05-06  Feminino  ...  intermediário        1          0\n",
              "8   9 1946-01-23  Feminino  ...  intermediário        1          0\n",
              "9  10 1946-02-13  Feminino  ...  intermediário        1          0\n",
              "\n",
              "[5 rows x 13 columns]"
            ]
          },
          "metadata": {
            "tags": []
          },
          "execution_count": 63
        }
      ]
    },
    {
      "cell_type": "code",
      "metadata": {
        "id": "ibP6mMuQ-Jpb",
        "colab_type": "code",
        "colab": {
          "base_uri": "https://localhost:8080/",
          "height": 51
        },
        "outputId": "9d752a64-0c8d-4394-d9b4-3d3821dd5cbd"
      },
      "source": [
        "selecao3['sexo'].value_counts()"
      ],
      "execution_count": null,
      "outputs": [
        {
          "output_type": "execute_result",
          "data": {
            "text/plain": [
              "Feminino    234\n",
              "Name: sexo, dtype: int64"
            ]
          },
          "metadata": {
            "tags": []
          },
          "execution_count": 65
        }
      ]
    },
    {
      "cell_type": "code",
      "metadata": {
        "id": "WPaUp9Pk-iZy",
        "colab_type": "code",
        "colab": {
          "base_uri": "https://localhost:8080/",
          "height": 34
        },
        "outputId": "65c038c3-a566-49f5-c902-80a1899f1dff"
      },
      "source": [
        "selecao3.shape"
      ],
      "execution_count": null,
      "outputs": [
        {
          "output_type": "execute_result",
          "data": {
            "text/plain": [
              "(234, 13)"
            ]
          },
          "metadata": {
            "tags": []
          },
          "execution_count": 66
        }
      ]
    },
    {
      "cell_type": "code",
      "metadata": {
        "id": "ACVLPGNg-q7H",
        "colab_type": "code",
        "colab": {
          "base_uri": "https://localhost:8080/",
          "height": 309
        },
        "outputId": "36cd2cc8-6b97-4e5a-d90e-a1ef9ffff2fa"
      },
      "source": [
        "selecao4 = banco[(banco.sexo == 'Feminino') & (banco.estudo >= 10)]\n",
        "selecao4.head()"
      ],
      "execution_count": null,
      "outputs": [
        {
          "output_type": "execute_result",
          "data": {
            "text/html": [
              "<div>\n",
              "<style scoped>\n",
              "    .dataframe tbody tr th:only-of-type {\n",
              "        vertical-align: middle;\n",
              "    }\n",
              "\n",
              "    .dataframe tbody tr th {\n",
              "        vertical-align: top;\n",
              "    }\n",
              "\n",
              "    .dataframe thead th {\n",
              "        text-align: right;\n",
              "    }\n",
              "</style>\n",
              "<table border=\"1\" class=\"dataframe\">\n",
              "  <thead>\n",
              "    <tr style=\"text-align: right;\">\n",
              "      <th></th>\n",
              "      <th>id</th>\n",
              "      <th>datanasc</th>\n",
              "      <th>sexo</th>\n",
              "      <th>estudo</th>\n",
              "      <th>Produto</th>\n",
              "      <th>salario</th>\n",
              "      <th>salario_inicial</th>\n",
              "      <th>temp_servico</th>\n",
              "      <th>cartao_credito</th>\n",
              "      <th>Emprestimos</th>\n",
              "      <th>fx_estudo</th>\n",
              "      <th>Feminino</th>\n",
              "      <th>Masculino</th>\n",
              "    </tr>\n",
              "  </thead>\n",
              "  <tbody>\n",
              "    <tr>\n",
              "      <th>2</th>\n",
              "      <td>3</td>\n",
              "      <td>1929-07-26</td>\n",
              "      <td>Feminino</td>\n",
              "      <td>12</td>\n",
              "      <td>C</td>\n",
              "      <td>21450.0</td>\n",
              "      <td>12000</td>\n",
              "      <td>98</td>\n",
              "      <td>4290</td>\n",
              "      <td>2145.0</td>\n",
              "      <td>intermediário</td>\n",
              "      <td>1</td>\n",
              "      <td>0</td>\n",
              "    </tr>\n",
              "    <tr>\n",
              "      <th>7</th>\n",
              "      <td>8</td>\n",
              "      <td>1966-05-06</td>\n",
              "      <td>Feminino</td>\n",
              "      <td>12</td>\n",
              "      <td>C</td>\n",
              "      <td>21900.0</td>\n",
              "      <td>9750</td>\n",
              "      <td>98</td>\n",
              "      <td>4380</td>\n",
              "      <td>2190.0</td>\n",
              "      <td>intermediário</td>\n",
              "      <td>1</td>\n",
              "      <td>0</td>\n",
              "    </tr>\n",
              "    <tr>\n",
              "      <th>8</th>\n",
              "      <td>9</td>\n",
              "      <td>1946-01-23</td>\n",
              "      <td>Feminino</td>\n",
              "      <td>15</td>\n",
              "      <td>C</td>\n",
              "      <td>27900.0</td>\n",
              "      <td>12750</td>\n",
              "      <td>98</td>\n",
              "      <td>5580</td>\n",
              "      <td>2790.0</td>\n",
              "      <td>intermediário</td>\n",
              "      <td>1</td>\n",
              "      <td>0</td>\n",
              "    </tr>\n",
              "    <tr>\n",
              "      <th>9</th>\n",
              "      <td>10</td>\n",
              "      <td>1946-02-13</td>\n",
              "      <td>Feminino</td>\n",
              "      <td>12</td>\n",
              "      <td>C</td>\n",
              "      <td>24000.0</td>\n",
              "      <td>13500</td>\n",
              "      <td>98</td>\n",
              "      <td>4800</td>\n",
              "      <td>2400.0</td>\n",
              "      <td>intermediário</td>\n",
              "      <td>1</td>\n",
              "      <td>0</td>\n",
              "    </tr>\n",
              "    <tr>\n",
              "      <th>10</th>\n",
              "      <td>11</td>\n",
              "      <td>1950-02-07</td>\n",
              "      <td>Feminino</td>\n",
              "      <td>16</td>\n",
              "      <td>C</td>\n",
              "      <td>30300.0</td>\n",
              "      <td>16500</td>\n",
              "      <td>98</td>\n",
              "      <td>6060</td>\n",
              "      <td>3030.0</td>\n",
              "      <td>avançado</td>\n",
              "      <td>1</td>\n",
              "      <td>0</td>\n",
              "    </tr>\n",
              "  </tbody>\n",
              "</table>\n",
              "</div>"
            ],
            "text/plain": [
              "    id   datanasc      sexo  ...      fx_estudo Feminino  Masculino\n",
              "2    3 1929-07-26  Feminino  ...  intermediário        1          0\n",
              "7    8 1966-05-06  Feminino  ...  intermediário        1          0\n",
              "8    9 1946-01-23  Feminino  ...  intermediário        1          0\n",
              "9   10 1946-02-13  Feminino  ...  intermediário        1          0\n",
              "10  11 1950-02-07  Feminino  ...       avançado        1          0\n",
              "\n",
              "[5 rows x 13 columns]"
            ]
          },
          "metadata": {
            "tags": []
          },
          "execution_count": 74
        }
      ]
    },
    {
      "cell_type": "code",
      "metadata": {
        "id": "lk2dwwLB-95o",
        "colab_type": "code",
        "colab": {
          "base_uri": "https://localhost:8080/",
          "height": 309
        },
        "outputId": "cc173be1-08f0-4b76-cb8d-fec340b7dcfe"
      },
      "source": [
        "selecao5 = banco[(banco.sexo == 'Feminino') | (banco.estudo >= 10)]\n",
        "selecao5.head()"
      ],
      "execution_count": null,
      "outputs": [
        {
          "output_type": "execute_result",
          "data": {
            "text/html": [
              "<div>\n",
              "<style scoped>\n",
              "    .dataframe tbody tr th:only-of-type {\n",
              "        vertical-align: middle;\n",
              "    }\n",
              "\n",
              "    .dataframe tbody tr th {\n",
              "        vertical-align: top;\n",
              "    }\n",
              "\n",
              "    .dataframe thead th {\n",
              "        text-align: right;\n",
              "    }\n",
              "</style>\n",
              "<table border=\"1\" class=\"dataframe\">\n",
              "  <thead>\n",
              "    <tr style=\"text-align: right;\">\n",
              "      <th></th>\n",
              "      <th>id</th>\n",
              "      <th>datanasc</th>\n",
              "      <th>sexo</th>\n",
              "      <th>estudo</th>\n",
              "      <th>Produto</th>\n",
              "      <th>salario</th>\n",
              "      <th>salario_inicial</th>\n",
              "      <th>temp_servico</th>\n",
              "      <th>cartao_credito</th>\n",
              "      <th>Emprestimos</th>\n",
              "      <th>fx_estudo</th>\n",
              "      <th>Feminino</th>\n",
              "      <th>Masculino</th>\n",
              "    </tr>\n",
              "  </thead>\n",
              "  <tbody>\n",
              "    <tr>\n",
              "      <th>0</th>\n",
              "      <td>1</td>\n",
              "      <td>1952-02-03</td>\n",
              "      <td>Masculino</td>\n",
              "      <td>15</td>\n",
              "      <td>A</td>\n",
              "      <td>34954.031311</td>\n",
              "      <td>27000</td>\n",
              "      <td>98</td>\n",
              "      <td>10000</td>\n",
              "      <td>5000.0</td>\n",
              "      <td>intermediário</td>\n",
              "      <td>0</td>\n",
              "      <td>1</td>\n",
              "    </tr>\n",
              "    <tr>\n",
              "      <th>1</th>\n",
              "      <td>2</td>\n",
              "      <td>1958-05-23</td>\n",
              "      <td>Masculino</td>\n",
              "      <td>16</td>\n",
              "      <td>C</td>\n",
              "      <td>40200.000000</td>\n",
              "      <td>18750</td>\n",
              "      <td>98</td>\n",
              "      <td>8040</td>\n",
              "      <td>4020.0</td>\n",
              "      <td>avançado</td>\n",
              "      <td>0</td>\n",
              "      <td>1</td>\n",
              "    </tr>\n",
              "    <tr>\n",
              "      <th>2</th>\n",
              "      <td>3</td>\n",
              "      <td>1929-07-26</td>\n",
              "      <td>Feminino</td>\n",
              "      <td>12</td>\n",
              "      <td>C</td>\n",
              "      <td>21450.000000</td>\n",
              "      <td>12000</td>\n",
              "      <td>98</td>\n",
              "      <td>4290</td>\n",
              "      <td>2145.0</td>\n",
              "      <td>intermediário</td>\n",
              "      <td>1</td>\n",
              "      <td>0</td>\n",
              "    </tr>\n",
              "    <tr>\n",
              "      <th>3</th>\n",
              "      <td>4</td>\n",
              "      <td>1947-04-15</td>\n",
              "      <td>Feminino</td>\n",
              "      <td>8</td>\n",
              "      <td>C</td>\n",
              "      <td>21900.000000</td>\n",
              "      <td>13200</td>\n",
              "      <td>98</td>\n",
              "      <td>4380</td>\n",
              "      <td>2190.0</td>\n",
              "      <td>inicio</td>\n",
              "      <td>1</td>\n",
              "      <td>0</td>\n",
              "    </tr>\n",
              "    <tr>\n",
              "      <th>4</th>\n",
              "      <td>5</td>\n",
              "      <td>1955-02-09</td>\n",
              "      <td>Masculino</td>\n",
              "      <td>15</td>\n",
              "      <td>C</td>\n",
              "      <td>45000.000000</td>\n",
              "      <td>21000</td>\n",
              "      <td>98</td>\n",
              "      <td>9000</td>\n",
              "      <td>4500.0</td>\n",
              "      <td>intermediário</td>\n",
              "      <td>0</td>\n",
              "      <td>1</td>\n",
              "    </tr>\n",
              "  </tbody>\n",
              "</table>\n",
              "</div>"
            ],
            "text/plain": [
              "   id   datanasc       sexo  ...      fx_estudo Feminino  Masculino\n",
              "0   1 1952-02-03  Masculino  ...  intermediário        0          1\n",
              "1   2 1958-05-23  Masculino  ...       avançado        0          1\n",
              "2   3 1929-07-26   Feminino  ...  intermediário        1          0\n",
              "3   4 1947-04-15   Feminino  ...         inicio        1          0\n",
              "4   5 1955-02-09  Masculino  ...  intermediário        0          1\n",
              "\n",
              "[5 rows x 13 columns]"
            ]
          },
          "metadata": {
            "tags": []
          },
          "execution_count": 75
        }
      ]
    },
    {
      "cell_type": "code",
      "metadata": {
        "id": "xuSz2eiS_kRu",
        "colab_type": "code",
        "colab": {
          "base_uri": "https://localhost:8080/",
          "height": 34
        },
        "outputId": "8aba1751-3aa1-4b45-9590-024207e0d456"
      },
      "source": [
        "selecao4.shape"
      ],
      "execution_count": null,
      "outputs": [
        {
          "output_type": "execute_result",
          "data": {
            "text/plain": [
              "(202, 13)"
            ]
          },
          "metadata": {
            "tags": []
          },
          "execution_count": 78
        }
      ]
    },
    {
      "cell_type": "code",
      "metadata": {
        "id": "oUAMbpvc_r9Y",
        "colab_type": "code",
        "colab": {
          "base_uri": "https://localhost:8080/",
          "height": 34
        },
        "outputId": "54a698d8-fff3-4639-e0ce-ff04e94c4450"
      },
      "source": [
        "selecao5.shape"
      ],
      "execution_count": null,
      "outputs": [
        {
          "output_type": "execute_result",
          "data": {
            "text/plain": [
              "(489, 13)"
            ]
          },
          "metadata": {
            "tags": []
          },
          "execution_count": 79
        }
      ]
    },
    {
      "cell_type": "code",
      "metadata": {
        "id": "0YHMBPby_tnb",
        "colab_type": "code",
        "colab": {
          "base_uri": "https://localhost:8080/",
          "height": 204
        },
        "outputId": "025ef69a-38d7-4ade-cb69-f52c91834d66"
      },
      "source": [
        "selecao6 = banco[(banco.sexo == 'Masculino')&(banco.salario >= 15000)][['id','sexo','salario']]\n",
        "selecao6.head()"
      ],
      "execution_count": null,
      "outputs": [
        {
          "output_type": "execute_result",
          "data": {
            "text/html": [
              "<div>\n",
              "<style scoped>\n",
              "    .dataframe tbody tr th:only-of-type {\n",
              "        vertical-align: middle;\n",
              "    }\n",
              "\n",
              "    .dataframe tbody tr th {\n",
              "        vertical-align: top;\n",
              "    }\n",
              "\n",
              "    .dataframe thead th {\n",
              "        text-align: right;\n",
              "    }\n",
              "</style>\n",
              "<table border=\"1\" class=\"dataframe\">\n",
              "  <thead>\n",
              "    <tr style=\"text-align: right;\">\n",
              "      <th></th>\n",
              "      <th>id</th>\n",
              "      <th>sexo</th>\n",
              "      <th>salario</th>\n",
              "    </tr>\n",
              "  </thead>\n",
              "  <tbody>\n",
              "    <tr>\n",
              "      <th>0</th>\n",
              "      <td>1</td>\n",
              "      <td>Masculino</td>\n",
              "      <td>34954.031311</td>\n",
              "    </tr>\n",
              "    <tr>\n",
              "      <th>1</th>\n",
              "      <td>2</td>\n",
              "      <td>Masculino</td>\n",
              "      <td>40200.000000</td>\n",
              "    </tr>\n",
              "    <tr>\n",
              "      <th>4</th>\n",
              "      <td>5</td>\n",
              "      <td>Masculino</td>\n",
              "      <td>45000.000000</td>\n",
              "    </tr>\n",
              "    <tr>\n",
              "      <th>5</th>\n",
              "      <td>6</td>\n",
              "      <td>Masculino</td>\n",
              "      <td>32100.000000</td>\n",
              "    </tr>\n",
              "    <tr>\n",
              "      <th>6</th>\n",
              "      <td>7</td>\n",
              "      <td>Masculino</td>\n",
              "      <td>36000.000000</td>\n",
              "    </tr>\n",
              "  </tbody>\n",
              "</table>\n",
              "</div>"
            ],
            "text/plain": [
              "   id       sexo       salario\n",
              "0   1  Masculino  34954.031311\n",
              "1   2  Masculino  40200.000000\n",
              "4   5  Masculino  45000.000000\n",
              "5   6  Masculino  32100.000000\n",
              "6   7  Masculino  36000.000000"
            ]
          },
          "metadata": {
            "tags": []
          },
          "execution_count": 80
        }
      ]
    },
    {
      "cell_type": "code",
      "metadata": {
        "id": "FoPvUXr7AOgD",
        "colab_type": "code",
        "colab": {
          "base_uri": "https://localhost:8080/",
          "height": 34
        },
        "outputId": "da567af1-4814-4d30-8993-43b9f843fb55"
      },
      "source": [
        "banco[banco.sexo == 'Feminino'].estudo.mean()"
      ],
      "execution_count": null,
      "outputs": [
        {
          "output_type": "execute_result",
          "data": {
            "text/plain": [
              "12.427350427350428"
            ]
          },
          "metadata": {
            "tags": []
          },
          "execution_count": 82
        }
      ]
    },
    {
      "cell_type": "code",
      "metadata": {
        "id": "qzBZSqNpA0vG",
        "colab_type": "code",
        "colab": {
          "base_uri": "https://localhost:8080/",
          "height": 34
        },
        "outputId": "b474b3e7-47b3-4a0d-d10b-003ecff6a0ab"
      },
      "source": [
        "banco[banco.sexo == 'Masculino'].estudo.mean()"
      ],
      "execution_count": null,
      "outputs": [
        {
          "output_type": "execute_result",
          "data": {
            "text/plain": [
              "14.5"
            ]
          },
          "metadata": {
            "tags": []
          },
          "execution_count": 83
        }
      ]
    },
    {
      "cell_type": "code",
      "metadata": {
        "id": "h4iQKqG9A_Xp",
        "colab_type": "code",
        "colab": {
          "base_uri": "https://localhost:8080/",
          "height": 359
        },
        "outputId": "d4992da1-14bd-49a3-f3c5-19d7c7ae73d6"
      },
      "source": [
        "banco[['sexo','Produto','estudo']].groupby(['sexo','Produto']).mean()"
      ],
      "execution_count": null,
      "outputs": [
        {
          "output_type": "execute_result",
          "data": {
            "text/html": [
              "<div>\n",
              "<style scoped>\n",
              "    .dataframe tbody tr th:only-of-type {\n",
              "        vertical-align: middle;\n",
              "    }\n",
              "\n",
              "    .dataframe tbody tr th {\n",
              "        vertical-align: top;\n",
              "    }\n",
              "\n",
              "    .dataframe thead th {\n",
              "        text-align: right;\n",
              "    }\n",
              "</style>\n",
              "<table border=\"1\" class=\"dataframe\">\n",
              "  <thead>\n",
              "    <tr style=\"text-align: right;\">\n",
              "      <th></th>\n",
              "      <th></th>\n",
              "      <th>estudo</th>\n",
              "    </tr>\n",
              "    <tr>\n",
              "      <th>sexo</th>\n",
              "      <th>Produto</th>\n",
              "      <th></th>\n",
              "    </tr>\n",
              "  </thead>\n",
              "  <tbody>\n",
              "    <tr>\n",
              "      <th rowspan=\"5\" valign=\"top\">Feminino</th>\n",
              "      <th>A</th>\n",
              "      <td>16.000000</td>\n",
              "    </tr>\n",
              "    <tr>\n",
              "      <th>B</th>\n",
              "      <td>12.000000</td>\n",
              "    </tr>\n",
              "    <tr>\n",
              "      <th>BB</th>\n",
              "      <td>12.000000</td>\n",
              "    </tr>\n",
              "    <tr>\n",
              "      <th>C</th>\n",
              "      <td>12.237443</td>\n",
              "    </tr>\n",
              "    <tr>\n",
              "      <th>CC</th>\n",
              "      <td>12.000000</td>\n",
              "    </tr>\n",
              "    <tr>\n",
              "      <th rowspan=\"4\" valign=\"top\">Masculino</th>\n",
              "      <th>A</th>\n",
              "      <td>17.512195</td>\n",
              "    </tr>\n",
              "    <tr>\n",
              "      <th>B</th>\n",
              "      <td>10.115385</td>\n",
              "    </tr>\n",
              "    <tr>\n",
              "      <th>C</th>\n",
              "      <td>13.712575</td>\n",
              "    </tr>\n",
              "    <tr>\n",
              "      <th>CC</th>\n",
              "      <td>14.000000</td>\n",
              "    </tr>\n",
              "  </tbody>\n",
              "</table>\n",
              "</div>"
            ],
            "text/plain": [
              "                      estudo\n",
              "sexo      Produto           \n",
              "Feminino  A        16.000000\n",
              "          B        12.000000\n",
              "          BB       12.000000\n",
              "          C        12.237443\n",
              "          CC       12.000000\n",
              "Masculino A        17.512195\n",
              "          B        10.115385\n",
              "          C        13.712575\n",
              "          CC       14.000000"
            ]
          },
          "metadata": {
            "tags": []
          },
          "execution_count": 87
        }
      ]
    },
    {
      "cell_type": "code",
      "metadata": {
        "id": "C8623tJyCB5a",
        "colab_type": "code",
        "colab": {
          "base_uri": "https://localhost:8080/",
          "height": 173
        },
        "outputId": "ff6d8ce8-16ec-4841-d693-84b5811b8fdb"
      },
      "source": [
        "pd.crosstab(banco.sexo, banco.Produto, margins = True, margins_name = 'Total')"
      ],
      "execution_count": null,
      "outputs": [
        {
          "output_type": "execute_result",
          "data": {
            "text/html": [
              "<div>\n",
              "<style scoped>\n",
              "    .dataframe tbody tr th:only-of-type {\n",
              "        vertical-align: middle;\n",
              "    }\n",
              "\n",
              "    .dataframe tbody tr th {\n",
              "        vertical-align: top;\n",
              "    }\n",
              "\n",
              "    .dataframe thead th {\n",
              "        text-align: right;\n",
              "    }\n",
              "</style>\n",
              "<table border=\"1\" class=\"dataframe\">\n",
              "  <thead>\n",
              "    <tr style=\"text-align: right;\">\n",
              "      <th>Produto</th>\n",
              "      <th>A</th>\n",
              "      <th>B</th>\n",
              "      <th>BB</th>\n",
              "      <th>C</th>\n",
              "      <th>CC</th>\n",
              "      <th>Total</th>\n",
              "    </tr>\n",
              "    <tr>\n",
              "      <th>sexo</th>\n",
              "      <th></th>\n",
              "      <th></th>\n",
              "      <th></th>\n",
              "      <th></th>\n",
              "      <th></th>\n",
              "      <th></th>\n",
              "    </tr>\n",
              "  </thead>\n",
              "  <tbody>\n",
              "    <tr>\n",
              "      <th>Feminino</th>\n",
              "      <td>12</td>\n",
              "      <td>1</td>\n",
              "      <td>1</td>\n",
              "      <td>219</td>\n",
              "      <td>1</td>\n",
              "      <td>234</td>\n",
              "    </tr>\n",
              "    <tr>\n",
              "      <th>Masculino</th>\n",
              "      <td>82</td>\n",
              "      <td>26</td>\n",
              "      <td>0</td>\n",
              "      <td>167</td>\n",
              "      <td>3</td>\n",
              "      <td>278</td>\n",
              "    </tr>\n",
              "    <tr>\n",
              "      <th>Total</th>\n",
              "      <td>94</td>\n",
              "      <td>27</td>\n",
              "      <td>1</td>\n",
              "      <td>386</td>\n",
              "      <td>4</td>\n",
              "      <td>512</td>\n",
              "    </tr>\n",
              "  </tbody>\n",
              "</table>\n",
              "</div>"
            ],
            "text/plain": [
              "Produto     A   B  BB    C  CC  Total\n",
              "sexo                                 \n",
              "Feminino   12   1   1  219   1    234\n",
              "Masculino  82  26   0  167   3    278\n",
              "Total      94  27   1  386   4    512"
            ]
          },
          "metadata": {
            "tags": []
          },
          "execution_count": 88
        }
      ]
    },
    {
      "cell_type": "code",
      "metadata": {
        "id": "ohPKsZOYD0i-",
        "colab_type": "code",
        "colab": {
          "base_uri": "https://localhost:8080/",
          "height": 119
        },
        "outputId": "5ad5e477-df15-4569-ebc6-a8a47efbc668"
      },
      "source": [
        "banco['Produto'].value_counts()"
      ],
      "execution_count": null,
      "outputs": [
        {
          "output_type": "execute_result",
          "data": {
            "text/plain": [
              "C     386\n",
              "A      94\n",
              "B      27\n",
              "CC      4\n",
              "BB      1\n",
              "Name: Produto, dtype: int64"
            ]
          },
          "metadata": {
            "tags": []
          },
          "execution_count": 89
        }
      ]
    },
    {
      "cell_type": "code",
      "metadata": {
        "id": "bvkmfl1sD8aM",
        "colab_type": "code",
        "colab": {
          "base_uri": "https://localhost:8080/",
          "height": 204
        },
        "outputId": "03fab490-bbbd-4468-8b04-2614ff88b8cc"
      },
      "source": [
        "apend_a = pd.read_excel(\"/content/Apend_A.xlsx\")\n",
        "apend_a.head()"
      ],
      "execution_count": null,
      "outputs": [
        {
          "output_type": "execute_result",
          "data": {
            "text/html": [
              "<div>\n",
              "<style scoped>\n",
              "    .dataframe tbody tr th:only-of-type {\n",
              "        vertical-align: middle;\n",
              "    }\n",
              "\n",
              "    .dataframe tbody tr th {\n",
              "        vertical-align: top;\n",
              "    }\n",
              "\n",
              "    .dataframe thead th {\n",
              "        text-align: right;\n",
              "    }\n",
              "</style>\n",
              "<table border=\"1\" class=\"dataframe\">\n",
              "  <thead>\n",
              "    <tr style=\"text-align: right;\">\n",
              "      <th></th>\n",
              "      <th>id</th>\n",
              "      <th>nome</th>\n",
              "      <th>idade</th>\n",
              "      <th>lazer</th>\n",
              "    </tr>\n",
              "  </thead>\n",
              "  <tbody>\n",
              "    <tr>\n",
              "      <th>0</th>\n",
              "      <td>1</td>\n",
              "      <td>Edmar</td>\n",
              "      <td>33</td>\n",
              "      <td>sim</td>\n",
              "    </tr>\n",
              "    <tr>\n",
              "      <th>1</th>\n",
              "      <td>2</td>\n",
              "      <td>Ivone</td>\n",
              "      <td>40</td>\n",
              "      <td>não</td>\n",
              "    </tr>\n",
              "    <tr>\n",
              "      <th>2</th>\n",
              "      <td>3</td>\n",
              "      <td>Adriana</td>\n",
              "      <td>41</td>\n",
              "      <td>não</td>\n",
              "    </tr>\n",
              "    <tr>\n",
              "      <th>3</th>\n",
              "      <td>4</td>\n",
              "      <td>Maria</td>\n",
              "      <td>46</td>\n",
              "      <td>sim</td>\n",
              "    </tr>\n",
              "    <tr>\n",
              "      <th>4</th>\n",
              "      <td>5</td>\n",
              "      <td>Pedro</td>\n",
              "      <td>29</td>\n",
              "      <td>sim</td>\n",
              "    </tr>\n",
              "  </tbody>\n",
              "</table>\n",
              "</div>"
            ],
            "text/plain": [
              "   id     nome  idade lazer\n",
              "0   1    Edmar     33   sim\n",
              "1   2    Ivone     40   não\n",
              "2   3  Adriana     41   não\n",
              "3   4    Maria     46   sim\n",
              "4   5    Pedro     29   sim"
            ]
          },
          "metadata": {
            "tags": []
          },
          "execution_count": 90
        }
      ]
    },
    {
      "cell_type": "code",
      "metadata": {
        "id": "e2KYq7otEnCg",
        "colab_type": "code",
        "colab": {
          "base_uri": "https://localhost:8080/",
          "height": 204
        },
        "outputId": "6a1875dc-a1d3-4b79-c85d-601f8a0ec489"
      },
      "source": [
        "apend_b = pd.read_excel(\"/content/Apend_B.xlsx\")\n",
        "apend_b.head()"
      ],
      "execution_count": null,
      "outputs": [
        {
          "output_type": "execute_result",
          "data": {
            "text/html": [
              "<div>\n",
              "<style scoped>\n",
              "    .dataframe tbody tr th:only-of-type {\n",
              "        vertical-align: middle;\n",
              "    }\n",
              "\n",
              "    .dataframe tbody tr th {\n",
              "        vertical-align: top;\n",
              "    }\n",
              "\n",
              "    .dataframe thead th {\n",
              "        text-align: right;\n",
              "    }\n",
              "</style>\n",
              "<table border=\"1\" class=\"dataframe\">\n",
              "  <thead>\n",
              "    <tr style=\"text-align: right;\">\n",
              "      <th></th>\n",
              "      <th>id</th>\n",
              "      <th>salario</th>\n",
              "      <th>escolaridade</th>\n",
              "    </tr>\n",
              "  </thead>\n",
              "  <tbody>\n",
              "    <tr>\n",
              "      <th>0</th>\n",
              "      <td>1</td>\n",
              "      <td>1000</td>\n",
              "      <td>MBA</td>\n",
              "    </tr>\n",
              "    <tr>\n",
              "      <th>1</th>\n",
              "      <td>2</td>\n",
              "      <td>2000</td>\n",
              "      <td>Mestrado</td>\n",
              "    </tr>\n",
              "    <tr>\n",
              "      <th>2</th>\n",
              "      <td>3</td>\n",
              "      <td>1500</td>\n",
              "      <td>Doutorado</td>\n",
              "    </tr>\n",
              "    <tr>\n",
              "      <th>3</th>\n",
              "      <td>6</td>\n",
              "      <td>1800</td>\n",
              "      <td>Graduação</td>\n",
              "    </tr>\n",
              "    <tr>\n",
              "      <th>4</th>\n",
              "      <td>7</td>\n",
              "      <td>2100</td>\n",
              "      <td>Pós_Graduação</td>\n",
              "    </tr>\n",
              "  </tbody>\n",
              "</table>\n",
              "</div>"
            ],
            "text/plain": [
              "   id  salario   escolaridade\n",
              "0   1     1000            MBA\n",
              "1   2     2000       Mestrado\n",
              "2   3     1500      Doutorado\n",
              "3   6     1800      Graduação\n",
              "4   7     2100  Pós_Graduação"
            ]
          },
          "metadata": {
            "tags": []
          },
          "execution_count": 91
        }
      ]
    },
    {
      "cell_type": "code",
      "metadata": {
        "id": "pwK0jA9zEtM2",
        "colab_type": "code",
        "colab": {
          "base_uri": "https://localhost:8080/",
          "height": 142
        },
        "outputId": "aa2d6ed5-5d9d-48a3-b6b2-318a3ee42151"
      },
      "source": [
        "consolidado = pd.merge(apend_a,apend_b, on = 'id')\n",
        "consolidado.head()"
      ],
      "execution_count": null,
      "outputs": [
        {
          "output_type": "execute_result",
          "data": {
            "text/html": [
              "<div>\n",
              "<style scoped>\n",
              "    .dataframe tbody tr th:only-of-type {\n",
              "        vertical-align: middle;\n",
              "    }\n",
              "\n",
              "    .dataframe tbody tr th {\n",
              "        vertical-align: top;\n",
              "    }\n",
              "\n",
              "    .dataframe thead th {\n",
              "        text-align: right;\n",
              "    }\n",
              "</style>\n",
              "<table border=\"1\" class=\"dataframe\">\n",
              "  <thead>\n",
              "    <tr style=\"text-align: right;\">\n",
              "      <th></th>\n",
              "      <th>id</th>\n",
              "      <th>nome</th>\n",
              "      <th>idade</th>\n",
              "      <th>lazer</th>\n",
              "      <th>salario</th>\n",
              "      <th>escolaridade</th>\n",
              "    </tr>\n",
              "  </thead>\n",
              "  <tbody>\n",
              "    <tr>\n",
              "      <th>0</th>\n",
              "      <td>1</td>\n",
              "      <td>Edmar</td>\n",
              "      <td>33</td>\n",
              "      <td>sim</td>\n",
              "      <td>1000</td>\n",
              "      <td>MBA</td>\n",
              "    </tr>\n",
              "    <tr>\n",
              "      <th>1</th>\n",
              "      <td>2</td>\n",
              "      <td>Ivone</td>\n",
              "      <td>40</td>\n",
              "      <td>não</td>\n",
              "      <td>2000</td>\n",
              "      <td>Mestrado</td>\n",
              "    </tr>\n",
              "    <tr>\n",
              "      <th>2</th>\n",
              "      <td>3</td>\n",
              "      <td>Adriana</td>\n",
              "      <td>41</td>\n",
              "      <td>não</td>\n",
              "      <td>1500</td>\n",
              "      <td>Doutorado</td>\n",
              "    </tr>\n",
              "  </tbody>\n",
              "</table>\n",
              "</div>"
            ],
            "text/plain": [
              "   id     nome  idade lazer  salario escolaridade\n",
              "0   1    Edmar     33   sim     1000          MBA\n",
              "1   2    Ivone     40   não     2000     Mestrado\n",
              "2   3  Adriana     41   não     1500    Doutorado"
            ]
          },
          "metadata": {
            "tags": []
          },
          "execution_count": 95
        }
      ]
    },
    {
      "cell_type": "code",
      "metadata": {
        "id": "Bbgel9t0FvgF",
        "colab_type": "code",
        "colab": {
          "base_uri": "https://localhost:8080/",
          "height": 204
        },
        "outputId": "04205833-8164-46b6-e7f6-7b5b50e030a6"
      },
      "source": [
        "# right\n",
        "consolidado1 = pd.merge(apend_a,apend_b, on = 'id', how = 'right')\n",
        "consolidado1.head()"
      ],
      "execution_count": null,
      "outputs": [
        {
          "output_type": "execute_result",
          "data": {
            "text/html": [
              "<div>\n",
              "<style scoped>\n",
              "    .dataframe tbody tr th:only-of-type {\n",
              "        vertical-align: middle;\n",
              "    }\n",
              "\n",
              "    .dataframe tbody tr th {\n",
              "        vertical-align: top;\n",
              "    }\n",
              "\n",
              "    .dataframe thead th {\n",
              "        text-align: right;\n",
              "    }\n",
              "</style>\n",
              "<table border=\"1\" class=\"dataframe\">\n",
              "  <thead>\n",
              "    <tr style=\"text-align: right;\">\n",
              "      <th></th>\n",
              "      <th>id</th>\n",
              "      <th>nome</th>\n",
              "      <th>idade</th>\n",
              "      <th>lazer</th>\n",
              "      <th>salario</th>\n",
              "      <th>escolaridade</th>\n",
              "    </tr>\n",
              "  </thead>\n",
              "  <tbody>\n",
              "    <tr>\n",
              "      <th>0</th>\n",
              "      <td>1</td>\n",
              "      <td>Edmar</td>\n",
              "      <td>33.0</td>\n",
              "      <td>sim</td>\n",
              "      <td>1000</td>\n",
              "      <td>MBA</td>\n",
              "    </tr>\n",
              "    <tr>\n",
              "      <th>1</th>\n",
              "      <td>2</td>\n",
              "      <td>Ivone</td>\n",
              "      <td>40.0</td>\n",
              "      <td>não</td>\n",
              "      <td>2000</td>\n",
              "      <td>Mestrado</td>\n",
              "    </tr>\n",
              "    <tr>\n",
              "      <th>2</th>\n",
              "      <td>3</td>\n",
              "      <td>Adriana</td>\n",
              "      <td>41.0</td>\n",
              "      <td>não</td>\n",
              "      <td>1500</td>\n",
              "      <td>Doutorado</td>\n",
              "    </tr>\n",
              "    <tr>\n",
              "      <th>3</th>\n",
              "      <td>6</td>\n",
              "      <td>NaN</td>\n",
              "      <td>NaN</td>\n",
              "      <td>NaN</td>\n",
              "      <td>1800</td>\n",
              "      <td>Graduação</td>\n",
              "    </tr>\n",
              "    <tr>\n",
              "      <th>4</th>\n",
              "      <td>7</td>\n",
              "      <td>NaN</td>\n",
              "      <td>NaN</td>\n",
              "      <td>NaN</td>\n",
              "      <td>2100</td>\n",
              "      <td>Pós_Graduação</td>\n",
              "    </tr>\n",
              "  </tbody>\n",
              "</table>\n",
              "</div>"
            ],
            "text/plain": [
              "   id     nome  idade lazer  salario   escolaridade\n",
              "0   1    Edmar   33.0   sim     1000            MBA\n",
              "1   2    Ivone   40.0   não     2000       Mestrado\n",
              "2   3  Adriana   41.0   não     1500      Doutorado\n",
              "3   6      NaN    NaN   NaN     1800      Graduação\n",
              "4   7      NaN    NaN   NaN     2100  Pós_Graduação"
            ]
          },
          "metadata": {
            "tags": []
          },
          "execution_count": 106
        }
      ]
    },
    {
      "cell_type": "code",
      "metadata": {
        "id": "zzpwAjQHHBBP",
        "colab_type": "code",
        "colab": {
          "base_uri": "https://localhost:8080/",
          "height": 204
        },
        "outputId": "dc940510-d1c7-46e2-f0d4-f839f8f35f2e"
      },
      "source": [
        "#left\n",
        "consolidado2 = pd.merge(apend_a,apend_b, on = 'id', how = 'left')\n",
        "consolidado2"
      ],
      "execution_count": null,
      "outputs": [
        {
          "output_type": "execute_result",
          "data": {
            "text/html": [
              "<div>\n",
              "<style scoped>\n",
              "    .dataframe tbody tr th:only-of-type {\n",
              "        vertical-align: middle;\n",
              "    }\n",
              "\n",
              "    .dataframe tbody tr th {\n",
              "        vertical-align: top;\n",
              "    }\n",
              "\n",
              "    .dataframe thead th {\n",
              "        text-align: right;\n",
              "    }\n",
              "</style>\n",
              "<table border=\"1\" class=\"dataframe\">\n",
              "  <thead>\n",
              "    <tr style=\"text-align: right;\">\n",
              "      <th></th>\n",
              "      <th>id</th>\n",
              "      <th>nome</th>\n",
              "      <th>idade</th>\n",
              "      <th>lazer</th>\n",
              "      <th>salario</th>\n",
              "      <th>escolaridade</th>\n",
              "    </tr>\n",
              "  </thead>\n",
              "  <tbody>\n",
              "    <tr>\n",
              "      <th>0</th>\n",
              "      <td>1</td>\n",
              "      <td>Edmar</td>\n",
              "      <td>33</td>\n",
              "      <td>sim</td>\n",
              "      <td>1000.0</td>\n",
              "      <td>MBA</td>\n",
              "    </tr>\n",
              "    <tr>\n",
              "      <th>1</th>\n",
              "      <td>2</td>\n",
              "      <td>Ivone</td>\n",
              "      <td>40</td>\n",
              "      <td>não</td>\n",
              "      <td>2000.0</td>\n",
              "      <td>Mestrado</td>\n",
              "    </tr>\n",
              "    <tr>\n",
              "      <th>2</th>\n",
              "      <td>3</td>\n",
              "      <td>Adriana</td>\n",
              "      <td>41</td>\n",
              "      <td>não</td>\n",
              "      <td>1500.0</td>\n",
              "      <td>Doutorado</td>\n",
              "    </tr>\n",
              "    <tr>\n",
              "      <th>3</th>\n",
              "      <td>4</td>\n",
              "      <td>Maria</td>\n",
              "      <td>46</td>\n",
              "      <td>sim</td>\n",
              "      <td>NaN</td>\n",
              "      <td>NaN</td>\n",
              "    </tr>\n",
              "    <tr>\n",
              "      <th>4</th>\n",
              "      <td>5</td>\n",
              "      <td>Pedro</td>\n",
              "      <td>29</td>\n",
              "      <td>sim</td>\n",
              "      <td>NaN</td>\n",
              "      <td>NaN</td>\n",
              "    </tr>\n",
              "  </tbody>\n",
              "</table>\n",
              "</div>"
            ],
            "text/plain": [
              "   id     nome  idade lazer  salario escolaridade\n",
              "0   1    Edmar     33   sim   1000.0          MBA\n",
              "1   2    Ivone     40   não   2000.0     Mestrado\n",
              "2   3  Adriana     41   não   1500.0    Doutorado\n",
              "3   4    Maria     46   sim      NaN          NaN\n",
              "4   5    Pedro     29   sim      NaN          NaN"
            ]
          },
          "metadata": {
            "tags": []
          },
          "execution_count": 107
        }
      ]
    },
    {
      "cell_type": "code",
      "metadata": {
        "id": "YK5YMv4VGKwO",
        "colab_type": "code",
        "colab": {
          "base_uri": "https://localhost:8080/",
          "height": 266
        },
        "outputId": "71801167-661f-42ef-d20e-a5ccefefc8d0"
      },
      "source": [
        "#full\n",
        "consolidado3 = pd.merge(apend_a,apend_b, on = 'id', how = 'outer')\n",
        "consolidado3"
      ],
      "execution_count": null,
      "outputs": [
        {
          "output_type": "execute_result",
          "data": {
            "text/html": [
              "<div>\n",
              "<style scoped>\n",
              "    .dataframe tbody tr th:only-of-type {\n",
              "        vertical-align: middle;\n",
              "    }\n",
              "\n",
              "    .dataframe tbody tr th {\n",
              "        vertical-align: top;\n",
              "    }\n",
              "\n",
              "    .dataframe thead th {\n",
              "        text-align: right;\n",
              "    }\n",
              "</style>\n",
              "<table border=\"1\" class=\"dataframe\">\n",
              "  <thead>\n",
              "    <tr style=\"text-align: right;\">\n",
              "      <th></th>\n",
              "      <th>id</th>\n",
              "      <th>nome</th>\n",
              "      <th>idade</th>\n",
              "      <th>lazer</th>\n",
              "      <th>salario</th>\n",
              "      <th>escolaridade</th>\n",
              "    </tr>\n",
              "  </thead>\n",
              "  <tbody>\n",
              "    <tr>\n",
              "      <th>0</th>\n",
              "      <td>1</td>\n",
              "      <td>Edmar</td>\n",
              "      <td>33.0</td>\n",
              "      <td>sim</td>\n",
              "      <td>1000.0</td>\n",
              "      <td>MBA</td>\n",
              "    </tr>\n",
              "    <tr>\n",
              "      <th>1</th>\n",
              "      <td>2</td>\n",
              "      <td>Ivone</td>\n",
              "      <td>40.0</td>\n",
              "      <td>não</td>\n",
              "      <td>2000.0</td>\n",
              "      <td>Mestrado</td>\n",
              "    </tr>\n",
              "    <tr>\n",
              "      <th>2</th>\n",
              "      <td>3</td>\n",
              "      <td>Adriana</td>\n",
              "      <td>41.0</td>\n",
              "      <td>não</td>\n",
              "      <td>1500.0</td>\n",
              "      <td>Doutorado</td>\n",
              "    </tr>\n",
              "    <tr>\n",
              "      <th>3</th>\n",
              "      <td>4</td>\n",
              "      <td>Maria</td>\n",
              "      <td>46.0</td>\n",
              "      <td>sim</td>\n",
              "      <td>NaN</td>\n",
              "      <td>NaN</td>\n",
              "    </tr>\n",
              "    <tr>\n",
              "      <th>4</th>\n",
              "      <td>5</td>\n",
              "      <td>Pedro</td>\n",
              "      <td>29.0</td>\n",
              "      <td>sim</td>\n",
              "      <td>NaN</td>\n",
              "      <td>NaN</td>\n",
              "    </tr>\n",
              "    <tr>\n",
              "      <th>5</th>\n",
              "      <td>6</td>\n",
              "      <td>NaN</td>\n",
              "      <td>NaN</td>\n",
              "      <td>NaN</td>\n",
              "      <td>1800.0</td>\n",
              "      <td>Graduação</td>\n",
              "    </tr>\n",
              "    <tr>\n",
              "      <th>6</th>\n",
              "      <td>7</td>\n",
              "      <td>NaN</td>\n",
              "      <td>NaN</td>\n",
              "      <td>NaN</td>\n",
              "      <td>2100.0</td>\n",
              "      <td>Pós_Graduação</td>\n",
              "    </tr>\n",
              "  </tbody>\n",
              "</table>\n",
              "</div>"
            ],
            "text/plain": [
              "   id     nome  idade lazer  salario   escolaridade\n",
              "0   1    Edmar   33.0   sim   1000.0            MBA\n",
              "1   2    Ivone   40.0   não   2000.0       Mestrado\n",
              "2   3  Adriana   41.0   não   1500.0      Doutorado\n",
              "3   4    Maria   46.0   sim      NaN            NaN\n",
              "4   5    Pedro   29.0   sim      NaN            NaN\n",
              "5   6      NaN    NaN   NaN   1800.0      Graduação\n",
              "6   7      NaN    NaN   NaN   2100.0  Pós_Graduação"
            ]
          },
          "metadata": {
            "tags": []
          },
          "execution_count": 103
        }
      ]
    },
    {
      "cell_type": "code",
      "metadata": {
        "id": "S7Aj2cH8Gd_D",
        "colab_type": "code",
        "colab": {
          "base_uri": "https://localhost:8080/",
          "height": 204
        },
        "outputId": "ed48145f-f45a-4135-ae38-1b6ea6b80765"
      },
      "source": [
        "apend_1 = pd.read_excel(\"/content/Apend_1.xlsx\")\n",
        "apend_1"
      ],
      "execution_count": null,
      "outputs": [
        {
          "output_type": "execute_result",
          "data": {
            "text/html": [
              "<div>\n",
              "<style scoped>\n",
              "    .dataframe tbody tr th:only-of-type {\n",
              "        vertical-align: middle;\n",
              "    }\n",
              "\n",
              "    .dataframe tbody tr th {\n",
              "        vertical-align: top;\n",
              "    }\n",
              "\n",
              "    .dataframe thead th {\n",
              "        text-align: right;\n",
              "    }\n",
              "</style>\n",
              "<table border=\"1\" class=\"dataframe\">\n",
              "  <thead>\n",
              "    <tr style=\"text-align: right;\">\n",
              "      <th></th>\n",
              "      <th>id</th>\n",
              "      <th>Nome</th>\n",
              "      <th>Idade</th>\n",
              "    </tr>\n",
              "  </thead>\n",
              "  <tbody>\n",
              "    <tr>\n",
              "      <th>0</th>\n",
              "      <td>1</td>\n",
              "      <td>Edmar</td>\n",
              "      <td>33</td>\n",
              "    </tr>\n",
              "    <tr>\n",
              "      <th>1</th>\n",
              "      <td>2</td>\n",
              "      <td>Ivone</td>\n",
              "      <td>40</td>\n",
              "    </tr>\n",
              "    <tr>\n",
              "      <th>2</th>\n",
              "      <td>3</td>\n",
              "      <td>Adriana</td>\n",
              "      <td>41</td>\n",
              "    </tr>\n",
              "    <tr>\n",
              "      <th>3</th>\n",
              "      <td>4</td>\n",
              "      <td>Maria</td>\n",
              "      <td>46</td>\n",
              "    </tr>\n",
              "    <tr>\n",
              "      <th>4</th>\n",
              "      <td>5</td>\n",
              "      <td>Pedro</td>\n",
              "      <td>29</td>\n",
              "    </tr>\n",
              "  </tbody>\n",
              "</table>\n",
              "</div>"
            ],
            "text/plain": [
              "   id     Nome  Idade\n",
              "0   1    Edmar     33\n",
              "1   2    Ivone     40\n",
              "2   3  Adriana     41\n",
              "3   4    Maria     46\n",
              "4   5    Pedro     29"
            ]
          },
          "metadata": {
            "tags": []
          },
          "execution_count": 108
        }
      ]
    },
    {
      "cell_type": "code",
      "metadata": {
        "id": "FcCvsvF_JpYp",
        "colab_type": "code",
        "colab": {
          "base_uri": "https://localhost:8080/",
          "height": 204
        },
        "outputId": "5df7ee9a-8ae4-438f-8e56-7550c2352539"
      },
      "source": [
        "apend_2 = pd.read_excel(\"/content/Apend_2.xlsx\")\n",
        "apend_2"
      ],
      "execution_count": null,
      "outputs": [
        {
          "output_type": "execute_result",
          "data": {
            "text/html": [
              "<div>\n",
              "<style scoped>\n",
              "    .dataframe tbody tr th:only-of-type {\n",
              "        vertical-align: middle;\n",
              "    }\n",
              "\n",
              "    .dataframe tbody tr th {\n",
              "        vertical-align: top;\n",
              "    }\n",
              "\n",
              "    .dataframe thead th {\n",
              "        text-align: right;\n",
              "    }\n",
              "</style>\n",
              "<table border=\"1\" class=\"dataframe\">\n",
              "  <thead>\n",
              "    <tr style=\"text-align: right;\">\n",
              "      <th></th>\n",
              "      <th>id</th>\n",
              "      <th>Nome</th>\n",
              "      <th>Idade</th>\n",
              "    </tr>\n",
              "  </thead>\n",
              "  <tbody>\n",
              "    <tr>\n",
              "      <th>0</th>\n",
              "      <td>1</td>\n",
              "      <td>Matheus</td>\n",
              "      <td>35</td>\n",
              "    </tr>\n",
              "    <tr>\n",
              "      <th>1</th>\n",
              "      <td>2</td>\n",
              "      <td>Jasmim</td>\n",
              "      <td>29</td>\n",
              "    </tr>\n",
              "    <tr>\n",
              "      <th>2</th>\n",
              "      <td>3</td>\n",
              "      <td>Conceição</td>\n",
              "      <td>23</td>\n",
              "    </tr>\n",
              "    <tr>\n",
              "      <th>3</th>\n",
              "      <td>4</td>\n",
              "      <td>Ricardo</td>\n",
              "      <td>41</td>\n",
              "    </tr>\n",
              "    <tr>\n",
              "      <th>4</th>\n",
              "      <td>5</td>\n",
              "      <td>Ana Paula</td>\n",
              "      <td>18</td>\n",
              "    </tr>\n",
              "  </tbody>\n",
              "</table>\n",
              "</div>"
            ],
            "text/plain": [
              "   id       Nome  Idade\n",
              "0   1    Matheus     35\n",
              "1   2     Jasmim     29\n",
              "2   3  Conceição     23\n",
              "3   4    Ricardo     41\n",
              "4   5  Ana Paula     18"
            ]
          },
          "metadata": {
            "tags": []
          },
          "execution_count": 109
        }
      ]
    },
    {
      "cell_type": "code",
      "metadata": {
        "id": "JlBaKt-_Jue5",
        "colab_type": "code",
        "colab": {
          "base_uri": "https://localhost:8080/",
          "height": 359
        },
        "outputId": "3b6e09b8-3a2f-4fa8-eead-72b81bf95c4b"
      },
      "source": [
        "consolidado4 = pd.concat([apend_1, apend_2])\n",
        "consolidado4"
      ],
      "execution_count": null,
      "outputs": [
        {
          "output_type": "execute_result",
          "data": {
            "text/html": [
              "<div>\n",
              "<style scoped>\n",
              "    .dataframe tbody tr th:only-of-type {\n",
              "        vertical-align: middle;\n",
              "    }\n",
              "\n",
              "    .dataframe tbody tr th {\n",
              "        vertical-align: top;\n",
              "    }\n",
              "\n",
              "    .dataframe thead th {\n",
              "        text-align: right;\n",
              "    }\n",
              "</style>\n",
              "<table border=\"1\" class=\"dataframe\">\n",
              "  <thead>\n",
              "    <tr style=\"text-align: right;\">\n",
              "      <th></th>\n",
              "      <th>id</th>\n",
              "      <th>Nome</th>\n",
              "      <th>Idade</th>\n",
              "    </tr>\n",
              "  </thead>\n",
              "  <tbody>\n",
              "    <tr>\n",
              "      <th>0</th>\n",
              "      <td>1</td>\n",
              "      <td>Edmar</td>\n",
              "      <td>33</td>\n",
              "    </tr>\n",
              "    <tr>\n",
              "      <th>1</th>\n",
              "      <td>2</td>\n",
              "      <td>Ivone</td>\n",
              "      <td>40</td>\n",
              "    </tr>\n",
              "    <tr>\n",
              "      <th>2</th>\n",
              "      <td>3</td>\n",
              "      <td>Adriana</td>\n",
              "      <td>41</td>\n",
              "    </tr>\n",
              "    <tr>\n",
              "      <th>3</th>\n",
              "      <td>4</td>\n",
              "      <td>Maria</td>\n",
              "      <td>46</td>\n",
              "    </tr>\n",
              "    <tr>\n",
              "      <th>4</th>\n",
              "      <td>5</td>\n",
              "      <td>Pedro</td>\n",
              "      <td>29</td>\n",
              "    </tr>\n",
              "    <tr>\n",
              "      <th>0</th>\n",
              "      <td>1</td>\n",
              "      <td>Matheus</td>\n",
              "      <td>35</td>\n",
              "    </tr>\n",
              "    <tr>\n",
              "      <th>1</th>\n",
              "      <td>2</td>\n",
              "      <td>Jasmim</td>\n",
              "      <td>29</td>\n",
              "    </tr>\n",
              "    <tr>\n",
              "      <th>2</th>\n",
              "      <td>3</td>\n",
              "      <td>Conceição</td>\n",
              "      <td>23</td>\n",
              "    </tr>\n",
              "    <tr>\n",
              "      <th>3</th>\n",
              "      <td>4</td>\n",
              "      <td>Ricardo</td>\n",
              "      <td>41</td>\n",
              "    </tr>\n",
              "    <tr>\n",
              "      <th>4</th>\n",
              "      <td>5</td>\n",
              "      <td>Ana Paula</td>\n",
              "      <td>18</td>\n",
              "    </tr>\n",
              "  </tbody>\n",
              "</table>\n",
              "</div>"
            ],
            "text/plain": [
              "   id       Nome  Idade\n",
              "0   1      Edmar     33\n",
              "1   2      Ivone     40\n",
              "2   3    Adriana     41\n",
              "3   4      Maria     46\n",
              "4   5      Pedro     29\n",
              "0   1    Matheus     35\n",
              "1   2     Jasmim     29\n",
              "2   3  Conceição     23\n",
              "3   4    Ricardo     41\n",
              "4   5  Ana Paula     18"
            ]
          },
          "metadata": {
            "tags": []
          },
          "execution_count": 111
        }
      ]
    },
    {
      "cell_type": "code",
      "metadata": {
        "id": "FNh_YywKMMG3",
        "colab_type": "code",
        "colab": {}
      },
      "source": [
        ""
      ],
      "execution_count": null,
      "outputs": []
    }
  ]
}
