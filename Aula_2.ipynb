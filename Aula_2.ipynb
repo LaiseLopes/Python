{
  "nbformat": 4,
  "nbformat_minor": 0,
  "metadata": {
    "colab": {
      "name": "Aula 2.ipynb",
      "provenance": [],
      "collapsed_sections": [],
      "authorship_tag": "ABX9TyMtHnOX7OMNgSFS+V9EJmjG",
      "include_colab_link": true
    },
    "kernelspec": {
      "name": "python3",
      "display_name": "Python 3"
    }
  },
  "cells": [
    {
      "cell_type": "markdown",
      "metadata": {
        "id": "view-in-github",
        "colab_type": "text"
      },
      "source": [
        "<a href=\"https://colab.research.google.com/github/LaiseLopes/Python/blob/master/Aula_2.ipynb\" target=\"_parent\"><img src=\"https://colab.research.google.com/assets/colab-badge.svg\" alt=\"Open In Colab\"/></a>"
      ]
    },
    {
      "cell_type": "markdown",
      "metadata": {
        "id": "ICscy7_88_jC",
        "colab_type": "text"
      },
      "source": [
        "Importar bibliotecas\n"
      ]
    },
    {
      "cell_type": "code",
      "metadata": {
        "id": "3BfwqHqB1KE8",
        "colab_type": "code",
        "colab": {
          "base_uri": "https://localhost:8080/",
          "height": 71
        },
        "outputId": "9e847766-815c-4619-dd91-ffc18a83680b"
      },
      "source": [
        "import pandas as pd\n",
        "import matplotlib.pyplot as plt\n",
        "import statsmodels.api as sm "
      ],
      "execution_count": 5,
      "outputs": [
        {
          "output_type": "stream",
          "text": [
            "/usr/local/lib/python3.6/dist-packages/statsmodels/tools/_testing.py:19: FutureWarning: pandas.util.testing is deprecated. Use the functions in the public API at pandas.testing instead.\n",
            "  import pandas.util.testing as tm\n"
          ],
          "name": "stderr"
        }
      ]
    },
    {
      "cell_type": "markdown",
      "metadata": {
        "id": "w3nVV_c7-mNh",
        "colab_type": "text"
      },
      "source": [
        "Importar dados da tabela Banco_python.xlsx"
      ]
    },
    {
      "cell_type": "code",
      "metadata": {
        "id": "CIwocH3r3wWz",
        "colab_type": "code",
        "colab": {}
      },
      "source": [
        "df = pd.read_excel (\"/Banco_python.xlsx\")"
      ],
      "execution_count": 19,
      "outputs": []
    },
    {
      "cell_type": "markdown",
      "metadata": {
        "id": "-m1_4FGg9NEu",
        "colab_type": "text"
      },
      "source": [
        "Visualizar dados"
      ]
    },
    {
      "cell_type": "code",
      "metadata": {
        "id": "F5nFQYtg9Pbn",
        "colab_type": "code",
        "colab": {
          "base_uri": "https://localhost:8080/",
          "height": 204
        },
        "outputId": "fd60baba-8150-4e73-a164-74ff114b8935"
      },
      "source": [
        "df.head()"
      ],
      "execution_count": 20,
      "outputs": [
        {
          "output_type": "execute_result",
          "data": {
            "text/html": [
              "<div>\n",
              "<style scoped>\n",
              "    .dataframe tbody tr th:only-of-type {\n",
              "        vertical-align: middle;\n",
              "    }\n",
              "\n",
              "    .dataframe tbody tr th {\n",
              "        vertical-align: top;\n",
              "    }\n",
              "\n",
              "    .dataframe thead th {\n",
              "        text-align: right;\n",
              "    }\n",
              "</style>\n",
              "<table border=\"1\" class=\"dataframe\">\n",
              "  <thead>\n",
              "    <tr style=\"text-align: right;\">\n",
              "      <th></th>\n",
              "      <th>id</th>\n",
              "      <th>datanasc</th>\n",
              "      <th>sexo</th>\n",
              "      <th>estudo</th>\n",
              "      <th>Produto</th>\n",
              "      <th>salario</th>\n",
              "      <th>salario_inicial</th>\n",
              "      <th>temp_servico</th>\n",
              "      <th>cartao_credito</th>\n",
              "      <th>Emprestimos</th>\n",
              "    </tr>\n",
              "  </thead>\n",
              "  <tbody>\n",
              "    <tr>\n",
              "      <th>0</th>\n",
              "      <td>1</td>\n",
              "      <td>1952-02-03</td>\n",
              "      <td>Masculino</td>\n",
              "      <td>15</td>\n",
              "      <td>A</td>\n",
              "      <td>NaN</td>\n",
              "      <td>27000</td>\n",
              "      <td>98</td>\n",
              "      <td>10000</td>\n",
              "      <td>5000.0</td>\n",
              "    </tr>\n",
              "    <tr>\n",
              "      <th>1</th>\n",
              "      <td>2</td>\n",
              "      <td>1958-05-23</td>\n",
              "      <td>Masculino</td>\n",
              "      <td>16</td>\n",
              "      <td>C</td>\n",
              "      <td>40200.0</td>\n",
              "      <td>18750</td>\n",
              "      <td>98</td>\n",
              "      <td>8040</td>\n",
              "      <td>4020.0</td>\n",
              "    </tr>\n",
              "    <tr>\n",
              "      <th>2</th>\n",
              "      <td>3</td>\n",
              "      <td>1929-07-26</td>\n",
              "      <td>Feminino</td>\n",
              "      <td>12</td>\n",
              "      <td>C</td>\n",
              "      <td>21450.0</td>\n",
              "      <td>12000</td>\n",
              "      <td>98</td>\n",
              "      <td>4290</td>\n",
              "      <td>2145.0</td>\n",
              "    </tr>\n",
              "    <tr>\n",
              "      <th>3</th>\n",
              "      <td>4</td>\n",
              "      <td>1947-04-15</td>\n",
              "      <td>Feminino</td>\n",
              "      <td>8</td>\n",
              "      <td>C</td>\n",
              "      <td>21900.0</td>\n",
              "      <td>13200</td>\n",
              "      <td>98</td>\n",
              "      <td>4380</td>\n",
              "      <td>2190.0</td>\n",
              "    </tr>\n",
              "    <tr>\n",
              "      <th>4</th>\n",
              "      <td>5</td>\n",
              "      <td>1955-02-09</td>\n",
              "      <td>Masculino</td>\n",
              "      <td>15</td>\n",
              "      <td>C</td>\n",
              "      <td>45000.0</td>\n",
              "      <td>21000</td>\n",
              "      <td>98</td>\n",
              "      <td>9000</td>\n",
              "      <td>4500.0</td>\n",
              "    </tr>\n",
              "  </tbody>\n",
              "</table>\n",
              "</div>"
            ],
            "text/plain": [
              "   id   datanasc       sexo  ...  temp_servico cartao_credito  Emprestimos\n",
              "0   1 1952-02-03  Masculino  ...            98          10000       5000.0\n",
              "1   2 1958-05-23  Masculino  ...            98           8040       4020.0\n",
              "2   3 1929-07-26   Feminino  ...            98           4290       2145.0\n",
              "3   4 1947-04-15   Feminino  ...            98           4380       2190.0\n",
              "4   5 1955-02-09  Masculino  ...            98           9000       4500.0\n",
              "\n",
              "[5 rows x 10 columns]"
            ]
          },
          "metadata": {
            "tags": []
          },
          "execution_count": 20
        }
      ]
    },
    {
      "cell_type": "markdown",
      "metadata": {
        "id": "AqIYEX-h9RI7",
        "colab_type": "text"
      },
      "source": [
        "Quantidade de linhas e colunas"
      ]
    },
    {
      "cell_type": "code",
      "metadata": {
        "id": "LWJGHk9U4DXf",
        "colab_type": "code",
        "colab": {
          "base_uri": "https://localhost:8080/",
          "height": 34
        },
        "outputId": "5454ed1a-556d-4e74-aad5-de1fb3c14b64"
      },
      "source": [
        "df.shape"
      ],
      "execution_count": 9,
      "outputs": [
        {
          "output_type": "execute_result",
          "data": {
            "text/plain": [
              "(512, 10)"
            ]
          },
          "metadata": {
            "tags": []
          },
          "execution_count": 9
        }
      ]
    },
    {
      "cell_type": "markdown",
      "metadata": {
        "id": "J5hzUQ6x9VxG",
        "colab_type": "text"
      },
      "source": [
        "Gráfico de dispersão"
      ]
    },
    {
      "cell_type": "code",
      "metadata": {
        "id": "fYWBm4Ue4Glp",
        "colab_type": "code",
        "colab": {
          "base_uri": "https://localhost:8080/",
          "height": 285
        },
        "outputId": "9a86edcc-f46c-48eb-b659-819e29df1051"
      },
      "source": [
        "plt.scatter(df.estudo,df.salario)"
      ],
      "execution_count": 10,
      "outputs": [
        {
          "output_type": "execute_result",
          "data": {
            "text/plain": [
              "<matplotlib.collections.PathCollection at 0x7fa767acf5f8>"
            ]
          },
          "metadata": {
            "tags": []
          },
          "execution_count": 10
        },
        {
          "output_type": "display_data",
          "data": {
            "image/png": "[encoded data removed]",
            "text/plain": [
              "<Figure size 432x288 with 1 Axes>"
            ]
          },
          "metadata": {
            "tags": [],
            "needs_background": "light"
          }
        }
      ]
    },
    {
      "cell_type": "markdown",
      "metadata": {
        "id": "TJpg_PMb8vGH",
        "colab_type": "text"
      },
      "source": [
        "Gráfico BoxPlot"
      ]
    },
    {
      "cell_type": "code",
      "metadata": {
        "id": "xYezd3q98xHg",
        "colab_type": "code",
        "colab": {
          "base_uri": "https://localhost:8080/",
          "height": 401
        },
        "outputId": "93c5062c-cfa2-4e9b-d3a2-c1c58489c42d"
      },
      "source": [
        "plt.boxplot(df.salario_inicial)"
      ],
      "execution_count": 24,
      "outputs": [
        {
          "output_type": "execute_result",
          "data": {
            "text/plain": [
              "{'boxes': [<matplotlib.lines.Line2D at 0x7fa765de4748>],\n",
              " 'caps': [<matplotlib.lines.Line2D at 0x7fa765d71198>,\n",
              "  <matplotlib.lines.Line2D at 0x7fa765d71518>],\n",
              " 'fliers': [<matplotlib.lines.Line2D at 0x7fa765d71c18>],\n",
              " 'means': [],\n",
              " 'medians': [<matplotlib.lines.Line2D at 0x7fa765d71898>],\n",
              " 'whiskers': [<matplotlib.lines.Line2D at 0x7fa765de4a58>,\n",
              "  <matplotlib.lines.Line2D at 0x7fa765de4dd8>]}"
            ]
          },
          "metadata": {
            "tags": []
          },
          "execution_count": 24
        },
        {
          "output_type": "display_data",
          "data": {
            "image/png": "[encoded data removed]",
            "text/plain": [
              "<Figure size 432x288 with 1 Axes>"
            ]
          },
          "metadata": {
            "tags": [],
            "needs_background": "light"
          }
        }
      ]
    },
    {
      "cell_type": "markdown",
      "metadata": {
        "id": "gOq_IMXF8Wtz",
        "colab_type": "text"
      },
      "source": [
        "Mediana"
      ]
    },
    {
      "cell_type": "code",
      "metadata": {
        "id": "w7MT7CXF76HX",
        "colab_type": "code",
        "colab": {
          "base_uri": "https://localhost:8080/",
          "height": 34
        },
        "outputId": "73ff454d-e313-4d0f-d755-206e3baa286a"
      },
      "source": [
        "df['salario'].median()"
      ],
      "execution_count": 13,
      "outputs": [
        {
          "output_type": "execute_result",
          "data": {
            "text/plain": [
              "29100.0"
            ]
          },
          "metadata": {
            "tags": []
          },
          "execution_count": 13
        }
      ]
    },
    {
      "cell_type": "markdown",
      "metadata": {
        "id": "HUhpfVw98fT8",
        "colab_type": "text"
      },
      "source": [
        "Dados (Describe)\n"
      ]
    },
    {
      "cell_type": "code",
      "metadata": {
        "id": "LD6gm_3W8gz8",
        "colab_type": "code",
        "colab": {
          "base_uri": "https://localhost:8080/",
          "height": 170
        },
        "outputId": "a07eca95-47e3-420a-8e75-f8f103f6ccf7"
      },
      "source": [
        "df.describe().salario"
      ],
      "execution_count": 14,
      "outputs": [
        {
          "output_type": "execute_result",
          "data": {
            "text/plain": [
              "count       511.000000\n",
              "mean      34954.031311\n",
              "std       18147.675517\n",
              "min       15750.000000\n",
              "25%       24000.000000\n",
              "50%       29100.000000\n",
              "75%       37800.000000\n",
              "max      135000.000000\n",
              "Name: salario, dtype: float64"
            ]
          },
          "metadata": {
            "tags": []
          },
          "execution_count": 14
        }
      ]
    },
    {
      "cell_type": "markdown",
      "metadata": {
        "id": "yZnLqOdd9cmp",
        "colab_type": "text"
      },
      "source": [
        "Importar dados da tabela Vendas_Produtos1.xlsx\n"
      ]
    },
    {
      "cell_type": "code",
      "metadata": {
        "id": "uWKJ5HaX_Amy",
        "colab_type": "code",
        "colab": {}
      },
      "source": [
        "df1 = pd.read_excel(\"/Vendas_Produtos1.xlsx\")"
      ],
      "execution_count": 26,
      "outputs": []
    },
    {
      "cell_type": "markdown",
      "metadata": {
        "id": "2upEczyb_SSI",
        "colab_type": "text"
      },
      "source": [
        "Visualizar dados"
      ]
    },
    {
      "cell_type": "code",
      "metadata": {
        "id": "Ejx58fiT_TtB",
        "colab_type": "code",
        "colab": {
          "base_uri": "https://localhost:8080/",
          "height": 204
        },
        "outputId": "db0bccfc-aa54-4b5c-a581-d4f0a94f36e1"
      },
      "source": [
        "df1.head()"
      ],
      "execution_count": 27,
      "outputs": [
        {
          "output_type": "execute_result",
          "data": {
            "text/html": [
              "<div>\n",
              "<style scoped>\n",
              "    .dataframe tbody tr th:only-of-type {\n",
              "        vertical-align: middle;\n",
              "    }\n",
              "\n",
              "    .dataframe tbody tr th {\n",
              "        vertical-align: top;\n",
              "    }\n",
              "\n",
              "    .dataframe thead th {\n",
              "        text-align: right;\n",
              "    }\n",
              "</style>\n",
              "<table border=\"1\" class=\"dataframe\">\n",
              "  <thead>\n",
              "    <tr style=\"text-align: right;\">\n",
              "      <th></th>\n",
              "      <th>Vendas</th>\n",
              "      <th>Publicidade</th>\n",
              "      <th>Comercial</th>\n",
              "      <th>Canais_Vendas</th>\n",
              "    </tr>\n",
              "  </thead>\n",
              "  <tbody>\n",
              "    <tr>\n",
              "      <th>0</th>\n",
              "      <td>330</td>\n",
              "      <td>10.256</td>\n",
              "      <td>43</td>\n",
              "      <td>0</td>\n",
              "    </tr>\n",
              "    <tr>\n",
              "      <th>1</th>\n",
              "      <td>120</td>\n",
              "      <td>985.685</td>\n",
              "      <td>28</td>\n",
              "      <td>1</td>\n",
              "    </tr>\n",
              "    <tr>\n",
              "      <th>2</th>\n",
              "      <td>360</td>\n",
              "      <td>1445.563</td>\n",
              "      <td>35</td>\n",
              "      <td>1</td>\n",
              "    </tr>\n",
              "    <tr>\n",
              "      <th>3</th>\n",
              "      <td>270</td>\n",
              "      <td>1188.193</td>\n",
              "      <td>33</td>\n",
              "      <td>1</td>\n",
              "    </tr>\n",
              "    <tr>\n",
              "      <th>4</th>\n",
              "      <td>220</td>\n",
              "      <td>574.513</td>\n",
              "      <td>44</td>\n",
              "      <td>0</td>\n",
              "    </tr>\n",
              "  </tbody>\n",
              "</table>\n",
              "</div>"
            ],
            "text/plain": [
              "   Vendas  Publicidade  Comercial  Canais_Vendas\n",
              "0     330       10.256         43              0\n",
              "1     120      985.685         28              1\n",
              "2     360     1445.563         35              1\n",
              "3     270     1188.193         33              1\n",
              "4     220      574.513         44              0"
            ]
          },
          "metadata": {
            "tags": []
          },
          "execution_count": 27
        }
      ]
    },
    {
      "cell_type": "markdown",
      "metadata": {
        "id": "hlK6p03A_onz",
        "colab_type": "text"
      },
      "source": [
        "Quantidade de linhas e *colunas*\n"
      ]
    },
    {
      "cell_type": "code",
      "metadata": {
        "id": "cVoEg1bH_o9q",
        "colab_type": "code",
        "colab": {
          "base_uri": "https://localhost:8080/",
          "height": 34
        },
        "outputId": "31826d12-65e5-4e27-8467-204fbe2d7d1a"
      },
      "source": [
        "df1.shape"
      ],
      "execution_count": 28,
      "outputs": [
        {
          "output_type": "execute_result",
          "data": {
            "text/plain": [
              "(200, 4)"
            ]
          },
          "metadata": {
            "tags": []
          },
          "execution_count": 28
        }
      ]
    },
    {
      "cell_type": "markdown",
      "metadata": {
        "id": "O7WLaGCK_15D",
        "colab_type": "text"
      },
      "source": [
        "Gráfico de dispersão Vendas x Publicidade\n"
      ]
    },
    {
      "cell_type": "code",
      "metadata": {
        "id": "d6H-TuER_2Mq",
        "colab_type": "code",
        "colab": {
          "base_uri": "https://localhost:8080/",
          "height": 282
        },
        "outputId": "4ffec1d8-3dfc-45df-f086-9cb3a667c635"
      },
      "source": [
        "plt.scatter(df1.Vendas, df1.Publicidade)"
      ],
      "execution_count": 31,
      "outputs": [
        {
          "output_type": "execute_result",
          "data": {
            "text/plain": [
              "<matplotlib.collections.PathCollection at 0x7fa765c54dd8>"
            ]
          },
          "metadata": {
            "tags": []
          },
          "execution_count": 31
        },
        {
          "output_type": "display_data",
          "data": {
            "image/png": "[encoded data removed]",
            "text/plain": [
              "<Figure size 432x288 with 1 Axes>"
            ]
          },
          "metadata": {
            "tags": [],
            "needs_background": "light"
          }
        }
      ]
    },
    {
      "cell_type": "markdown",
      "metadata": {
        "id": "OJ4fIrPVBbxO",
        "colab_type": "text"
      },
      "source": [
        "Gráfico de dispersão Vendas x Comercial\n"
      ]
    },
    {
      "cell_type": "code",
      "metadata": {
        "id": "dWS25_A7BcFW",
        "colab_type": "code",
        "colab": {
          "base_uri": "https://localhost:8080/",
          "height": 282
        },
        "outputId": "82fcf568-3395-44ff-e91b-6053d8acc69d"
      },
      "source": [
        "plt.scatter(df1.Vendas, df1.Comercial)"
      ],
      "execution_count": 30,
      "outputs": [
        {
          "output_type": "execute_result",
          "data": {
            "text/plain": [
              "<matplotlib.collections.PathCollection at 0x7fa765e17278>"
            ]
          },
          "metadata": {
            "tags": []
          },
          "execution_count": 30
        },
        {
          "output_type": "display_data",
          "data": {
            "image/png": "[encoded data removed]",
            "text/plain": [
              "<Figure size 432x288 with 1 Axes>"
            ]
          },
          "metadata": {
            "tags": [],
            "needs_background": "light"
          }
        }
      ]
    },
    {
      "cell_type": "markdown",
      "metadata": {
        "id": "ypUmIWuDD-dL",
        "colab_type": "text"
      },
      "source": [
        "Tabela de Correlação"
      ]
    },
    {
      "cell_type": "code",
      "metadata": {
        "id": "-jb4iQp1D-3A",
        "colab_type": "code",
        "colab": {
          "base_uri": "https://localhost:8080/",
          "height": 102
        },
        "outputId": "9bffdf7f-8850-495d-e357-f77211491303"
      },
      "source": [
        "print(df1.corr())"
      ],
      "execution_count": 32,
      "outputs": [
        {
          "output_type": "stream",
          "text": [
            "                 Vendas  Publicidade  Comercial  Canais_Vendas\n",
            "Vendas         1.000000     0.578488   0.598919       0.273528\n",
            "Publicidade    0.578488     1.000000   0.101883       0.105843\n",
            "Comercial      0.598919     0.101883   1.000000       0.137882\n",
            "Canais_Vendas  0.273528     0.105843   0.137882       1.000000\n"
          ],
          "name": "stdout"
        }
      ]
    },
    {
      "cell_type": "code",
      "metadata": {
        "id": "HKD2G_p6E-_z",
        "colab_type": "code",
        "colab": {}
      },
      "source": [
        "# Correlação varia de -1 a 1\n",
        "# 0 a -30 -> fraca\n",
        "# 31 a 60 -> moderada\n",
        "# 61 a 90 -> forte\n",
        "# 91 acima -> muito forte\n",
        "# 1 -> perfeita"
      ],
      "execution_count": 33,
      "outputs": []
    },
    {
      "cell_type": "code",
      "metadata": {
        "id": "uWLqTRoXFq3S",
        "colab_type": "code",
        "colab": {
          "base_uri": "https://localhost:8080/",
          "height": 119
        },
        "outputId": "7de71465-c12b-4bbb-ada5-83d6c528b353"
      },
      "source": [
        "y = df1.Vendas\n",
        "y.head()"
      ],
      "execution_count": 35,
      "outputs": [
        {
          "output_type": "execute_result",
          "data": {
            "text/plain": [
              "0    330\n",
              "1    120\n",
              "2    360\n",
              "3    270\n",
              "4    220\n",
              "Name: Vendas, dtype: int64"
            ]
          },
          "metadata": {
            "tags": []
          },
          "execution_count": 35
        }
      ]
    },
    {
      "cell_type": "code",
      "metadata": {
        "id": "xhYHNUbhGAqN",
        "colab_type": "code",
        "colab": {
          "base_uri": "https://localhost:8080/",
          "height": 119
        },
        "outputId": "2dd5500a-e51a-4646-8a08-81af446708dc"
      },
      "source": [
        "x = df1.Comercial\n",
        "x.head()"
      ],
      "execution_count": 42,
      "outputs": [
        {
          "output_type": "execute_result",
          "data": {
            "text/plain": [
              "0    43\n",
              "1    28\n",
              "2    35\n",
              "3    33\n",
              "4    44\n",
              "Name: Comercial, dtype: int64"
            ]
          },
          "metadata": {
            "tags": []
          },
          "execution_count": 42
        }
      ]
    },
    {
      "cell_type": "code",
      "metadata": {
        "id": "B890FT2_GYvP",
        "colab_type": "code",
        "colab": {
          "base_uri": "https://localhost:8080/",
          "height": 204
        },
        "outputId": "2dd2fc6b-08e2-41d2-80b9-7f5b7fcc5ecd"
      },
      "source": [
        "x = sm.add_constant(x)\n",
        "x.head()"
      ],
      "execution_count": 43,
      "outputs": [
        {
          "output_type": "execute_result",
          "data": {
            "text/html": [
              "<div>\n",
              "<style scoped>\n",
              "    .dataframe tbody tr th:only-of-type {\n",
              "        vertical-align: middle;\n",
              "    }\n",
              "\n",
              "    .dataframe tbody tr th {\n",
              "        vertical-align: top;\n",
              "    }\n",
              "\n",
              "    .dataframe thead th {\n",
              "        text-align: right;\n",
              "    }\n",
              "</style>\n",
              "<table border=\"1\" class=\"dataframe\">\n",
              "  <thead>\n",
              "    <tr style=\"text-align: right;\">\n",
              "      <th></th>\n",
              "      <th>const</th>\n",
              "      <th>Comercial</th>\n",
              "    </tr>\n",
              "  </thead>\n",
              "  <tbody>\n",
              "    <tr>\n",
              "      <th>0</th>\n",
              "      <td>1.0</td>\n",
              "      <td>43</td>\n",
              "    </tr>\n",
              "    <tr>\n",
              "      <th>1</th>\n",
              "      <td>1.0</td>\n",
              "      <td>28</td>\n",
              "    </tr>\n",
              "    <tr>\n",
              "      <th>2</th>\n",
              "      <td>1.0</td>\n",
              "      <td>35</td>\n",
              "    </tr>\n",
              "    <tr>\n",
              "      <th>3</th>\n",
              "      <td>1.0</td>\n",
              "      <td>33</td>\n",
              "    </tr>\n",
              "    <tr>\n",
              "      <th>4</th>\n",
              "      <td>1.0</td>\n",
              "      <td>44</td>\n",
              "    </tr>\n",
              "  </tbody>\n",
              "</table>\n",
              "</div>"
            ],
            "text/plain": [
              "   const  Comercial\n",
              "0    1.0         43\n",
              "1    1.0         28\n",
              "2    1.0         35\n",
              "3    1.0         33\n",
              "4    1.0         44"
            ]
          },
          "metadata": {
            "tags": []
          },
          "execution_count": 43
        }
      ]
    },
    {
      "cell_type": "markdown",
      "metadata": {
        "id": "BnHJLyofIAzJ",
        "colab_type": "text"
      },
      "source": [
        "Reta no gráfico de regressão"
      ]
    },
    {
      "cell_type": "code",
      "metadata": {
        "id": "Zjtv7DprGzx9",
        "colab_type": "code",
        "colab": {}
      },
      "source": [
        "modelo = sm.OLS(y,x)"
      ],
      "execution_count": 44,
      "outputs": []
    },
    {
      "cell_type": "markdown",
      "metadata": {
        "id": "rhthG7rKIF4r",
        "colab_type": "text"
      },
      "source": [
        "Valores da reta"
      ]
    },
    {
      "cell_type": "code",
      "metadata": {
        "id": "hQrsB6sVHSsl",
        "colab_type": "code",
        "colab": {}
      },
      "source": [
        "ajuste = modelo.fit()"
      ],
      "execution_count": 45,
      "outputs": []
    },
    {
      "cell_type": "markdown",
      "metadata": {
        "id": "PI4iCJtmIPei",
        "colab_type": "text"
      },
      "source": [
        "Resumo da reta"
      ]
    },
    {
      "cell_type": "code",
      "metadata": {
        "id": "qnBuOwqcHVA1",
        "colab_type": "code",
        "colab": {
          "base_uri": "https://localhost:8080/",
          "height": 444
        },
        "outputId": "818aa994-2559-4deb-a68f-7b88b931673c"
      },
      "source": [
        "ajuste.summary()"
      ],
      "execution_count": 46,
      "outputs": [
        {
          "output_type": "execute_result",
          "data": {
            "text/html": [
              "<table class=\"simpletable\">\n",
              "<caption>OLS Regression Results</caption>\n",
              "<tr>\n",
              "  <th>Dep. Variable:</th>         <td>Vendas</td>      <th>  R-squared:         </th> <td>   0.359</td>\n",
              "</tr>\n",
              "<tr>\n",
              "  <th>Model:</th>                   <td>OLS</td>       <th>  Adj. R-squared:    </th> <td>   0.355</td>\n",
              "</tr>\n",
              "<tr>\n",
              "  <th>Method:</th>             <td>Least Squares</td>  <th>  F-statistic:       </th> <td>   110.7</td>\n",
              "</tr>\n",
              "<tr>\n",
              "  <th>Date:</th>             <td>Wed, 26 Aug 2020</td> <th>  Prob (F-statistic):</th> <td>7.43e-21</td>\n",
              "</tr>\n",
              "<tr>\n",
              "  <th>Time:</th>                 <td>23:32:07</td>     <th>  Log-Likelihood:    </th> <td> -1117.0</td>\n",
              "</tr>\n",
              "<tr>\n",
              "  <th>No. Observations:</th>      <td>   200</td>      <th>  AIC:               </th> <td>   2238.</td>\n",
              "</tr>\n",
              "<tr>\n",
              "  <th>Df Residuals:</th>          <td>   198</td>      <th>  BIC:               </th> <td>   2245.</td>\n",
              "</tr>\n",
              "<tr>\n",
              "  <th>Df Model:</th>              <td>     1</td>      <th>                     </th>     <td> </td>   \n",
              "</tr>\n",
              "<tr>\n",
              "  <th>Covariance Type:</th>      <td>nonrobust</td>    <th>                     </th>     <td> </td>   \n",
              "</tr>\n",
              "</table>\n",
              "<table class=\"simpletable\">\n",
              "<tr>\n",
              "      <td></td>         <th>coef</th>     <th>std err</th>      <th>t</th>      <th>P>|t|</th>  <th>[0.025</th>    <th>0.975]</th>  \n",
              "</tr>\n",
              "<tr>\n",
              "  <th>const</th>     <td>   84.8725</td> <td>   11.267</td> <td>    7.533</td> <td> 0.000</td> <td>   62.654</td> <td>  107.091</td>\n",
              "</tr>\n",
              "<tr>\n",
              "  <th>Comercial</th> <td>    3.9392</td> <td>    0.374</td> <td>   10.524</td> <td> 0.000</td> <td>    3.201</td> <td>    4.677</td>\n",
              "</tr>\n",
              "</table>\n",
              "<table class=\"simpletable\">\n",
              "<tr>\n",
              "  <th>Omnibus:</th>       <td> 0.812</td> <th>  Durbin-Watson:     </th> <td>   1.907</td>\n",
              "</tr>\n",
              "<tr>\n",
              "  <th>Prob(Omnibus):</th> <td> 0.666</td> <th>  Jarque-Bera (JB):  </th> <td>   0.867</td>\n",
              "</tr>\n",
              "<tr>\n",
              "  <th>Skew:</th>          <td>-0.014</td> <th>  Prob(JB):          </th> <td>   0.648</td>\n",
              "</tr>\n",
              "<tr>\n",
              "  <th>Kurtosis:</th>      <td> 2.679</td> <th>  Cond. No.          </th> <td>    74.1</td>\n",
              "</tr>\n",
              "</table><br/><br/>Warnings:<br/>[1] Standard Errors assume that the covariance matrix of the errors is correctly specified."
            ],
            "text/plain": [
              "<class 'statsmodels.iolib.summary.Summary'>\n",
              "\"\"\"\n",
              "                            OLS Regression Results                            \n",
              "==============================================================================\n",
              "Dep. Variable:                 Vendas   R-squared:                       0.359\n",
              "Model:                            OLS   Adj. R-squared:                  0.355\n",
              "Method:                 Least Squares   F-statistic:                     110.7\n",
              "Date:                Wed, 26 Aug 2020   Prob (F-statistic):           7.43e-21\n",
              "Time:                        23:32:07   Log-Likelihood:                -1117.0\n",
              "No. Observations:                 200   AIC:                             2238.\n",
              "Df Residuals:                     198   BIC:                             2245.\n",
              "Df Model:                           1                                         \n",
              "Covariance Type:            nonrobust                                         \n",
              "==============================================================================\n",
              "                 coef    std err          t      P>|t|      [0.025      0.975]\n",
              "------------------------------------------------------------------------------\n",
              "const         84.8725     11.267      7.533      0.000      62.654     107.091\n",
              "Comercial      3.9392      0.374     10.524      0.000       3.201       4.677\n",
              "==============================================================================\n",
              "Omnibus:                        0.812   Durbin-Watson:                   1.907\n",
              "Prob(Omnibus):                  0.666   Jarque-Bera (JB):                0.867\n",
              "Skew:                          -0.014   Prob(JB):                        0.648\n",
              "Kurtosis:                       2.679   Cond. No.                         74.1\n",
              "==============================================================================\n",
              "\n",
              "Warnings:\n",
              "[1] Standard Errors assume that the covariance matrix of the errors is correctly specified.\n",
              "\"\"\""
            ]
          },
          "metadata": {
            "tags": []
          },
          "execution_count": 46
        }
      ]
    },
    {
      "cell_type": "code",
      "metadata": {
        "id": "d19f1RhrKbam",
        "colab_type": "code",
        "colab": {
          "base_uri": "https://localhost:8080/",
          "height": 34
        },
        "outputId": "0ab80974-e620-4718-c246-4c280f819d19"
      },
      "source": [
        "# setembro = constante + B1 * Comercial\n",
        "# setembro = 84.8725 + 3.9392 * Comercial\n",
        "setembro = 84.8725 + 3.9392 * 85\n",
        "setembro"
      ],
      "execution_count": 48,
      "outputs": [
        {
          "output_type": "execute_result",
          "data": {
            "text/plain": [
              "419.7045"
            ]
          },
          "metadata": {
            "tags": []
          },
          "execution_count": 48
        }
      ]
    },
    {
      "cell_type": "code",
      "metadata": {
        "id": "JjaZqZ05PKvb",
        "colab_type": "code",
        "colab": {
          "base_uri": "https://localhost:8080/",
          "height": 34
        },
        "outputId": "0ec5c1c1-ccf9-4409-e3d9-fef3454c2192"
      },
      "source": [
        "# setembro = 41.1238 + 3.5888 * Comercial + 0.0869 * Publicidade\n",
        "setembro = 41.1238 + 3.5888 * 100 + 0.0869 * 25\n",
        "setembro"
      ],
      "execution_count": 49,
      "outputs": [
        {
          "output_type": "execute_result",
          "data": {
            "text/plain": [
              "402.1763"
            ]
          },
          "metadata": {
            "tags": []
          },
          "execution_count": 49
        }
      ]
    },
    {
      "cell_type": "markdown",
      "metadata": {
        "id": "N4tqKRicZSVW",
        "colab_type": "text"
      },
      "source": [
        "Importar dados da tabela Cervejaria1.xlsx"
      ]
    },
    {
      "cell_type": "code",
      "metadata": {
        "id": "Y8ojfkz9Zcm8",
        "colab_type": "code",
        "colab": {}
      },
      "source": [
        "df2 = pd.read_excel (\"/cervejaria1.xlsx\")"
      ],
      "execution_count": 50,
      "outputs": []
    },
    {
      "cell_type": "markdown",
      "metadata": {
        "id": "MfND4Dt1ZieY",
        "colab_type": "text"
      },
      "source": [
        "Visualizar dados\n"
      ]
    },
    {
      "cell_type": "code",
      "metadata": {
        "id": "6APK-3PoZkJl",
        "colab_type": "code",
        "colab": {
          "base_uri": "https://localhost:8080/",
          "height": 204
        },
        "outputId": "ee891049-dbe3-4304-d97d-5c34c5232a83"
      },
      "source": [
        "df2.head()"
      ],
      "execution_count": 51,
      "outputs": [
        {
          "output_type": "execute_result",
          "data": {
            "text/html": [
              "<div>\n",
              "<style scoped>\n",
              "    .dataframe tbody tr th:only-of-type {\n",
              "        vertical-align: middle;\n",
              "    }\n",
              "\n",
              "    .dataframe tbody tr th {\n",
              "        vertical-align: top;\n",
              "    }\n",
              "\n",
              "    .dataframe thead th {\n",
              "        text-align: right;\n",
              "    }\n",
              "</style>\n",
              "<table border=\"1\" class=\"dataframe\">\n",
              "  <thead>\n",
              "    <tr style=\"text-align: right;\">\n",
              "      <th></th>\n",
              "      <th>visitas</th>\n",
              "      <th>excursoes</th>\n",
              "      <th>preco</th>\n",
              "      <th>ano</th>\n",
              "      <th>trimestre</th>\n",
              "      <th>data</th>\n",
              "    </tr>\n",
              "  </thead>\n",
              "  <tbody>\n",
              "    <tr>\n",
              "      <th>0</th>\n",
              "      <td>86947.0</td>\n",
              "      <td>115.0</td>\n",
              "      <td>4.6</td>\n",
              "      <td>2014</td>\n",
              "      <td>1</td>\n",
              "      <td>Q1 2014</td>\n",
              "    </tr>\n",
              "    <tr>\n",
              "      <th>1</th>\n",
              "      <td>134868.0</td>\n",
              "      <td>135.0</td>\n",
              "      <td>5.1</td>\n",
              "      <td>2014</td>\n",
              "      <td>2</td>\n",
              "      <td>Q2 2014</td>\n",
              "    </tr>\n",
              "    <tr>\n",
              "      <th>2</th>\n",
              "      <td>143617.0</td>\n",
              "      <td>155.0</td>\n",
              "      <td>5.3</td>\n",
              "      <td>2014</td>\n",
              "      <td>3</td>\n",
              "      <td>Q3 2014</td>\n",
              "    </tr>\n",
              "    <tr>\n",
              "      <th>3</th>\n",
              "      <td>102210.0</td>\n",
              "      <td>157.0</td>\n",
              "      <td>4.6</td>\n",
              "      <td>2014</td>\n",
              "      <td>4</td>\n",
              "      <td>Q4 2014</td>\n",
              "    </tr>\n",
              "    <tr>\n",
              "      <th>4</th>\n",
              "      <td>93407.0</td>\n",
              "      <td>110.0</td>\n",
              "      <td>4.5</td>\n",
              "      <td>2015</td>\n",
              "      <td>1</td>\n",
              "      <td>Q1 2015</td>\n",
              "    </tr>\n",
              "  </tbody>\n",
              "</table>\n",
              "</div>"
            ],
            "text/plain": [
              "    visitas  excursoes  preco   ano  trimestre     data\n",
              "0   86947.0      115.0    4.6  2014          1  Q1 2014\n",
              "1  134868.0      135.0    5.1  2014          2  Q2 2014\n",
              "2  143617.0      155.0    5.3  2014          3  Q3 2014\n",
              "3  102210.0      157.0    4.6  2014          4  Q4 2014\n",
              "4   93407.0      110.0    4.5  2015          1  Q1 2015"
            ]
          },
          "metadata": {
            "tags": []
          },
          "execution_count": 51
        }
      ]
    },
    {
      "cell_type": "markdown",
      "metadata": {
        "id": "ajzxadX_ZoOb",
        "colab_type": "text"
      },
      "source": [
        "Quantidade de linhas e colunas\n"
      ]
    },
    {
      "cell_type": "code",
      "metadata": {
        "id": "73xHugbnZr5W",
        "colab_type": "code",
        "colab": {
          "base_uri": "https://localhost:8080/",
          "height": 34
        },
        "outputId": "5c6335ee-6ad2-4033-f9fc-34471e7cd192"
      },
      "source": [
        "df2.shape"
      ],
      "execution_count": 52,
      "outputs": [
        {
          "output_type": "execute_result",
          "data": {
            "text/plain": [
              "(28, 6)"
            ]
          },
          "metadata": {
            "tags": []
          },
          "execution_count": 52
        }
      ]
    },
    {
      "cell_type": "markdown",
      "metadata": {
        "id": "hiMpEFdbbzHX",
        "colab_type": "text"
      },
      "source": [
        "Gráfico de Dispersão Preço x Visitas"
      ]
    },
    {
      "cell_type": "code",
      "metadata": {
        "id": "wKhD82kCboEo",
        "colab_type": "code",
        "colab": {
          "base_uri": "https://localhost:8080/",
          "height": 282
        },
        "outputId": "77409569-70f6-4deb-f75f-20786ee32ff9"
      },
      "source": [
        "plt.scatter(df2.preco, df2.visitas)"
      ],
      "execution_count": 56,
      "outputs": [
        {
          "output_type": "execute_result",
          "data": {
            "text/plain": [
              "<matplotlib.collections.PathCollection at 0x7fa7659474e0>"
            ]
          },
          "metadata": {
            "tags": []
          },
          "execution_count": 56
        },
        {
          "output_type": "display_data",
          "data": {
            "image/png": "[encoded data removed]",
            "text/plain": [
              "<Figure size 432x288 with 1 Axes>"
            ]
          },
          "metadata": {
            "tags": [],
            "needs_background": "light"
          }
        }
      ]
    },
    {
      "cell_type": "markdown",
      "metadata": {
        "id": "Oei1Hhtub3F7",
        "colab_type": "text"
      },
      "source": [
        "Gráfico de Dispersão Excursões x Visitas\n"
      ]
    },
    {
      "cell_type": "code",
      "metadata": {
        "id": "K-5IbLplbuX7",
        "colab_type": "code",
        "colab": {
          "base_uri": "https://localhost:8080/",
          "height": 282
        },
        "outputId": "77455e74-3f5f-46e8-89b6-6a7ccb0cc894"
      },
      "source": [
        "plt.scatter(df2.excursoes, df2.visitas)"
      ],
      "execution_count": 58,
      "outputs": [
        {
          "output_type": "execute_result",
          "data": {
            "text/plain": [
              "<matplotlib.collections.PathCollection at 0x7fa765922b00>"
            ]
          },
          "metadata": {
            "tags": []
          },
          "execution_count": 58
        },
        {
          "output_type": "display_data",
          "data": {
            "image/png": "[encoded data removed]",
            "text/plain": [
              "<Figure size 432x288 with 1 Axes>"
            ]
          },
          "metadata": {
            "tags": [],
            "needs_background": "light"
          }
        }
      ]
    },
    {
      "cell_type": "code",
      "metadata": {
        "id": "mrM9Pa-tdbau",
        "colab_type": "code",
        "colab": {
          "base_uri": "https://localhost:8080/",
          "height": 119
        },
        "outputId": "dfb05a93-e03c-4ca7-ff36-8a0324128239"
      },
      "source": [
        "print(df2.corr())"
      ],
      "execution_count": 59,
      "outputs": [
        {
          "output_type": "stream",
          "text": [
            "            visitas  excursoes     preco       ano  trimestre\n",
            "visitas    1.000000   0.782246  0.088296  0.341718   0.309251\n",
            "excursoes  0.782246   1.000000  0.148900  0.461991   0.577692\n",
            "preco      0.088296   0.148900  1.000000  0.033810   0.229129\n",
            "ano        0.341718   0.461991  0.033810  1.000000   0.000000\n",
            "trimestre  0.309251   0.577692  0.229129  0.000000   1.000000\n"
          ],
          "name": "stdout"
        }
      ]
    },
    {
      "cell_type": "code",
      "metadata": {
        "id": "ggiFpdxIfP7w",
        "colab_type": "code",
        "colab": {
          "base_uri": "https://localhost:8080/",
          "height": 119
        },
        "outputId": "62699f96-82da-45ca-9ed6-eebd6ee7804c"
      },
      "source": [
        "x = df2.excursoes\n",
        "x.head()"
      ],
      "execution_count": 62,
      "outputs": [
        {
          "output_type": "execute_result",
          "data": {
            "text/plain": [
              "0    115.0\n",
              "1    135.0\n",
              "2    155.0\n",
              "3    157.0\n",
              "4    110.0\n",
              "Name: excursoes, dtype: float64"
            ]
          },
          "metadata": {
            "tags": []
          },
          "execution_count": 62
        }
      ]
    },
    {
      "cell_type": "code",
      "metadata": {
        "id": "sCQSMxmofXq4",
        "colab_type": "code",
        "colab": {
          "base_uri": "https://localhost:8080/",
          "height": 119
        },
        "outputId": "ecab7946-1932-404e-d3db-f696d8849b6f"
      },
      "source": [
        "y = df2.visitas\n",
        "y.head()"
      ],
      "execution_count": 63,
      "outputs": [
        {
          "output_type": "execute_result",
          "data": {
            "text/plain": [
              "0     86947.0\n",
              "1    134868.0\n",
              "2    143617.0\n",
              "3    102210.0\n",
              "4     93407.0\n",
              "Name: visitas, dtype: float64"
            ]
          },
          "metadata": {
            "tags": []
          },
          "execution_count": 63
        }
      ]
    },
    {
      "cell_type": "code",
      "metadata": {
        "id": "iP-u5nsSfgOE",
        "colab_type": "code",
        "colab": {
          "base_uri": "https://localhost:8080/",
          "height": 204
        },
        "outputId": "6b3d00e4-9109-487e-80e8-a54d260310df"
      },
      "source": [
        "x = sm.add_constant(x)\n",
        "x.head()"
      ],
      "execution_count": 64,
      "outputs": [
        {
          "output_type": "execute_result",
          "data": {
            "text/html": [
              "<div>\n",
              "<style scoped>\n",
              "    .dataframe tbody tr th:only-of-type {\n",
              "        vertical-align: middle;\n",
              "    }\n",
              "\n",
              "    .dataframe tbody tr th {\n",
              "        vertical-align: top;\n",
              "    }\n",
              "\n",
              "    .dataframe thead th {\n",
              "        text-align: right;\n",
              "    }\n",
              "</style>\n",
              "<table border=\"1\" class=\"dataframe\">\n",
              "  <thead>\n",
              "    <tr style=\"text-align: right;\">\n",
              "      <th></th>\n",
              "      <th>const</th>\n",
              "      <th>excursoes</th>\n",
              "    </tr>\n",
              "  </thead>\n",
              "  <tbody>\n",
              "    <tr>\n",
              "      <th>0</th>\n",
              "      <td>1.0</td>\n",
              "      <td>115.0</td>\n",
              "    </tr>\n",
              "    <tr>\n",
              "      <th>1</th>\n",
              "      <td>1.0</td>\n",
              "      <td>135.0</td>\n",
              "    </tr>\n",
              "    <tr>\n",
              "      <th>2</th>\n",
              "      <td>1.0</td>\n",
              "      <td>155.0</td>\n",
              "    </tr>\n",
              "    <tr>\n",
              "      <th>3</th>\n",
              "      <td>1.0</td>\n",
              "      <td>157.0</td>\n",
              "    </tr>\n",
              "    <tr>\n",
              "      <th>4</th>\n",
              "      <td>1.0</td>\n",
              "      <td>110.0</td>\n",
              "    </tr>\n",
              "  </tbody>\n",
              "</table>\n",
              "</div>"
            ],
            "text/plain": [
              "   const  excursoes\n",
              "0    1.0      115.0\n",
              "1    1.0      135.0\n",
              "2    1.0      155.0\n",
              "3    1.0      157.0\n",
              "4    1.0      110.0"
            ]
          },
          "metadata": {
            "tags": []
          },
          "execution_count": 64
        }
      ]
    },
    {
      "cell_type": "code",
      "metadata": {
        "colab_type": "code",
        "id": "N8WHxpeEftli",
        "colab": {}
      },
      "source": [
        "modelo = sm.OLS(y,x)"
      ],
      "execution_count": 65,
      "outputs": []
    },
    {
      "cell_type": "code",
      "metadata": {
        "colab_type": "code",
        "id": "Q_EzUCFzftll",
        "colab": {}
      },
      "source": [
        "ajuste = modelo.fit()"
      ],
      "execution_count": 66,
      "outputs": []
    },
    {
      "cell_type": "code",
      "metadata": {
        "colab_type": "code",
        "id": "kphGyURTftln",
        "colab": {
          "base_uri": "https://localhost:8080/",
          "height": 444
        },
        "outputId": "8370d876-2540-4014-c12a-dbc055d1bc28"
      },
      "source": [
        "ajuste.summary()"
      ],
      "execution_count": 67,
      "outputs": [
        {
          "output_type": "execute_result",
          "data": {
            "text/html": [
              "<table class=\"simpletable\">\n",
              "<caption>OLS Regression Results</caption>\n",
              "<tr>\n",
              "  <th>Dep. Variable:</th>         <td>visitas</td>     <th>  R-squared:         </th> <td>   0.612</td>\n",
              "</tr>\n",
              "<tr>\n",
              "  <th>Model:</th>                   <td>OLS</td>       <th>  Adj. R-squared:    </th> <td>   0.597</td>\n",
              "</tr>\n",
              "<tr>\n",
              "  <th>Method:</th>             <td>Least Squares</td>  <th>  F-statistic:       </th> <td>   40.99</td>\n",
              "</tr>\n",
              "<tr>\n",
              "  <th>Date:</th>             <td>Thu, 27 Aug 2020</td> <th>  Prob (F-statistic):</th> <td>8.78e-07</td>\n",
              "</tr>\n",
              "<tr>\n",
              "  <th>Time:</th>                 <td>01:18:44</td>     <th>  Log-Likelihood:    </th> <td> -334.84</td>\n",
              "</tr>\n",
              "<tr>\n",
              "  <th>No. Observations:</th>      <td>    28</td>      <th>  AIC:               </th> <td>   673.7</td>\n",
              "</tr>\n",
              "<tr>\n",
              "  <th>Df Residuals:</th>          <td>    26</td>      <th>  BIC:               </th> <td>   676.3</td>\n",
              "</tr>\n",
              "<tr>\n",
              "  <th>Df Model:</th>              <td>     1</td>      <th>                     </th>     <td> </td>   \n",
              "</tr>\n",
              "<tr>\n",
              "  <th>Covariance Type:</th>      <td>nonrobust</td>    <th>                     </th>     <td> </td>   \n",
              "</tr>\n",
              "</table>\n",
              "<table class=\"simpletable\">\n",
              "<tr>\n",
              "      <td></td>         <th>coef</th>     <th>std err</th>      <th>t</th>      <th>P>|t|</th>  <th>[0.025</th>    <th>0.975]</th>  \n",
              "</tr>\n",
              "<tr>\n",
              "  <th>const</th>     <td>-2.939e+04</td> <td> 3.04e+04</td> <td>   -0.967</td> <td> 0.342</td> <td>-9.18e+04</td> <td>  3.3e+04</td>\n",
              "</tr>\n",
              "<tr>\n",
              "  <th>excursoes</th> <td> 1148.3249</td> <td>  179.350</td> <td>    6.403</td> <td> 0.000</td> <td>  779.665</td> <td> 1516.984</td>\n",
              "</tr>\n",
              "</table>\n",
              "<table class=\"simpletable\">\n",
              "<tr>\n",
              "  <th>Omnibus:</th>       <td> 1.612</td> <th>  Durbin-Watson:     </th> <td>   1.442</td>\n",
              "</tr>\n",
              "<tr>\n",
              "  <th>Prob(Omnibus):</th> <td> 0.447</td> <th>  Jarque-Bera (JB):  </th> <td>   0.828</td>\n",
              "</tr>\n",
              "<tr>\n",
              "  <th>Skew:</th>          <td>-0.413</td> <th>  Prob(JB):          </th> <td>   0.661</td>\n",
              "</tr>\n",
              "<tr>\n",
              "  <th>Kurtosis:</th>      <td> 3.169</td> <th>  Cond. No.          </th> <td>    694.</td>\n",
              "</tr>\n",
              "</table><br/><br/>Warnings:<br/>[1] Standard Errors assume that the covariance matrix of the errors is correctly specified."
            ],
            "text/plain": [
              "<class 'statsmodels.iolib.summary.Summary'>\n",
              "\"\"\"\n",
              "                            OLS Regression Results                            \n",
              "==============================================================================\n",
              "Dep. Variable:                visitas   R-squared:                       0.612\n",
              "Model:                            OLS   Adj. R-squared:                  0.597\n",
              "Method:                 Least Squares   F-statistic:                     40.99\n",
              "Date:                Thu, 27 Aug 2020   Prob (F-statistic):           8.78e-07\n",
              "Time:                        01:18:44   Log-Likelihood:                -334.84\n",
              "No. Observations:                  28   AIC:                             673.7\n",
              "Df Residuals:                      26   BIC:                             676.3\n",
              "Df Model:                           1                                         \n",
              "Covariance Type:            nonrobust                                         \n",
              "==============================================================================\n",
              "                 coef    std err          t      P>|t|      [0.025      0.975]\n",
              "------------------------------------------------------------------------------\n",
              "const      -2.939e+04   3.04e+04     -0.967      0.342   -9.18e+04     3.3e+04\n",
              "excursoes   1148.3249    179.350      6.403      0.000     779.665    1516.984\n",
              "==============================================================================\n",
              "Omnibus:                        1.612   Durbin-Watson:                   1.442\n",
              "Prob(Omnibus):                  0.447   Jarque-Bera (JB):                0.828\n",
              "Skew:                          -0.413   Prob(JB):                        0.661\n",
              "Kurtosis:                       3.169   Cond. No.                         694.\n",
              "==============================================================================\n",
              "\n",
              "Warnings:\n",
              "[1] Standard Errors assume that the covariance matrix of the errors is correctly specified.\n",
              "\"\"\""
            ]
          },
          "metadata": {
            "tags": []
          },
          "execution_count": 67
        }
      ]
    },
    {
      "cell_type": "markdown",
      "metadata": {
        "id": "lI_NQ-sLj4ia",
        "colab_type": "text"
      },
      "source": [
        "x = df1[['Comercial','Publicidade']]\n",
        "x.head()\n"
      ]
    }
  ]
}